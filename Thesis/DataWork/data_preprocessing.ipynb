{
 "cells": [
  {
   "cell_type": "markdown",
   "source": [
    "## This notebook is dedicated to the exploration of the Lyrics dataset\n"
   ],
   "metadata": {
    "collapsed": false
   }
  },
  {
   "cell_type": "code",
   "execution_count": 85,
   "outputs": [],
   "source": [
    "import pandas as pd\n"
   ],
   "metadata": {
    "collapsed": false
   }
  },
  {
   "cell_type": "code",
   "execution_count": 86,
   "outputs": [],
   "source": [
    "n_rows = 40000\n",
    "lyrics = pd.read_csv('../song_lyrics.csv', nrows=n_rows)\n",
    "# lyrics[:10, 1:]"
   ],
   "metadata": {
    "collapsed": false
   }
  },
  {
   "cell_type": "code",
   "execution_count": 87,
   "outputs": [
    {
     "name": "stdout",
     "output_type": "stream",
     "text": [
      "[Chorus: Jaheim]\n",
      "Now Lord you know, just how hard I try\n",
      "To live my life and get it right\n",
      "Trying to see some light or even better\n",
      "Way over way a new day, someday\n",
      "Yesterday was filled with sorrow but tomorrow\n",
      "It gets better I know, tell you, I know\n",
      "\n",
      "[Verse 1: Cam'ron]\n",
      "With my muscle you'll be dazzled, but hustlin's a hassle\n",
      "Percocet, Demerol, capsules of Paxil\n",
      "Cops wanna cuff you, niggas wanna clap you\n",
      "Bitches might burn you; they runnin' with that clap too\n",
      "But the monster made it\n",
      "Do it for those incarcerated, who had it confiscated\n",
      "Hate it when they take powder\n",
      "Upstate he take showers\n",
      "Baby moms on Greyhound for 8 hours\n",
      "See her man face-to-face through the glass\n",
      "On the phone. 10 years he got, chasin' that cash\n",
      "Cocaine, he had that game in a smash\n",
      "Felt like the Towers when the planes went on crash\n",
      "It wasn't 9-11, but it was 9-1-1\n",
      "Gave him 9 plus 1, dropped a dime on dun\n",
      "I told him get his 9 and run\n",
      "Turned himself in, I had to find that dumb\n",
      "[Chorus: Jaheim]\n",
      "Now Lord you know, just how hard I try\n",
      "To live my life and get it right\n",
      "Trying to see some light or even better\n",
      "Way over way a new day, someday\n",
      "Yesterday was filled with sorrow but tomorrow\n",
      "It gets better I know, tell you, I know\n",
      "\n",
      "[Verse 2: Cam'ron]\n",
      "Ayo, them niggas from the three two, said I can't breeze through\n",
      "The 40 if I cop bottles, we can't believe you\n",
      "Me who? Please boo, landin' in that G2\n",
      "Same color as beef stew, favorite letters: GQ\n",
      "That's me, true, peach/blue, Hebrew\n",
      "Lawyer on my side keep me out of jail the fees stew, steep? Woo!\n",
      "But it might lead to that R2D2, the mobsters creep through\n",
      "We the new PE, shittin, pee-ew\n",
      "To the hood: y'all don't need me, I need you\n",
      "'Cause my mission's insane, you couldn't vision the pain\n",
      "Always a snitch in the game, what you want: prison or fame?\n",
      "Either one, dun, long as my digits the same\n",
      "He lookin' frigid, dig it, make sure them digits get changed\n",
      "'Cause I can't be in Hell's cell, shout out to Mel Mel\n",
      "Cash and Hell Rell, Zeek doin' 3, he even fell, hell\n",
      "He comin' home on '07 and 12 cells\n",
      "'Cause you must have known, I can't trust the phones\n",
      "For the dough you'll be like Doe, stuck at home\n",
      "[Chorus: Jaheim]\n",
      "Now Lord you know, just how hard I try\n",
      "To live my life and get it right\n",
      "Trying to see some light or even better\n",
      "Way over way a new day, someday\n",
      "Yesterday was filled with sorrow but tomorrow\n",
      "It gets better I know, tell you, I know\n",
      "\n",
      "[Verse 3: Cam'ron]\n",
      "Nowadays dog, they raid up in the ballparks\n",
      "Blaze 'em when they cross sharks\n",
      "We raiders of the lost ark\n",
      "I'm like a ballplayer, shake up and cross narcs\n",
      "They get mad when I lay up in the Porsche Box\n",
      "More props, R.I.P. my poor pops\n",
      "Can't see his son shine like the Four Tops\n",
      "My antennas will block the scanners\n",
      "I got blammers, you'll drop your hammers\n",
      "Lawyers to watch lawyers, cameras to watch cameras\n",
      "Niggas to watch bitches, Nana to watch Grandma\n",
      "In pajamas I snuck out to watch Santa\n",
      "Now look at Killa, you gon' watch Santana\n",
      "\n",
      "[Chorus: Jaheim]\n",
      "Now Lord you know, just how hard I try\n",
      "To live my life and get it right\n",
      "Trying to see some light or even better\n",
      "Way over way a new day, someday\n",
      "Yesterday was filled with sorrow but tomorrow\n",
      "It gets better I know, tell you, I know\n",
      "[Verse 4: Juelz Santana]\n",
      "Now I was born by the river in a little tent\n",
      "Little gate, little fence - I climbed over\n",
      "Little scrapes, little dents - I got over\n",
      "That was just the beginning it's not over\n",
      "It's been a long time comin' Cam\n",
      "It's been a long time riding and a long time running, man\n",
      "Shit done changed since The Wop and The Running Man\n",
      "Since Nino, Gee Money, The Carter, and the Duh-Duh Man\n",
      "It's no longer a New Jack City\n",
      "It's \"cop fast and move that quickly\" or cops crash\n",
      "Spent a long time coming up this road\n",
      "And I ain't talking rap, man, I'm coming up this road\n",
      "I'm talking crack, man and coming up with O's\n",
      "I'm coming up with halves and coming up with wholes\n",
      "Shit got hectic had to come up with my hoes\n",
      "They would boof it and go, I receive it move it and roll\n",
      "I was comin' from the Q, Zeek was comin' from the O\n",
      "Jim chose to give his work to smash in dough\n",
      "We was all on the paper-run\n",
      "Yeah, waiting for a change to come\n",
      "Now look: the change has come\n",
      "The 7-Pick Up, Yukon, the Range is come\n",
      "The day has come, Dipset remains the ones\n",
      "Most hated by you other motherfuckers\n",
      "In this game, we remain, it's a shame cuz\n"
     ]
    }
   ],
   "source": [
    "#lyrics.iloc[:10, 2:8]\n",
    "# print(lyrics.iat[9,6])"
   ],
   "metadata": {
    "collapsed": false
   }
  },
  {
   "cell_type": "code",
   "execution_count": 88,
   "outputs": [
    {
     "data": {
      "text/plain": "               title  tag     artist  year   views  \\\n0          Killa Cam  rap    Cam'ron  2004  173166   \n1         Can I Live  rap      JAY-Z  1996  468624   \n2  Forgive Me Father  rap   Fabolous  2003    4743   \n3       Down and Out  rap    Cam'ron  2004  144404   \n4             Fly In  rap  Lil Wayne  2005   78271   \n5     Lollipop Remix  rap  Lil Wayne  2008  580832   \n6         Im Not You  rap     Clipse  2002   28645   \n7        Family Ties  rap    Cam'ron  2004   41960   \n8  Rockin and Rollin  rap    Cam'ron  1998    6399   \n9      Lord You Know  rap    Cam'ron  2004   11882   \n\n                                       features  \\\n0                   {\"Cam\\\\'ron\",\"Opera Steve\"}   \n1                                            {}   \n2                                            {}   \n3  {\"Cam\\\\'ron\",\"Kanye West\",\"Syleena Johnson\"}   \n4                                            {}   \n5                 {\"Kanye West\",\"Static Major\"}   \n6   {Jadakiss,\"Styles P\",\"Roscoe P. Coldchain\"}   \n7                     {\"Cam\\\\'ron\",\"Lady Wray\"}   \n8                                 {\"Cam\\\\'ron\"}   \n9          {\"Cam\\\\'ron\",\"Juelz Santana\",Jaheim}   \n\n                                              lyrics  id language_cld3  \\\n0  [Chorus: Opera Steve & Cam'ron]\\nKilla Cam, Ki...   1            en   \n1  [Produced by Irv Gotti]\\n\\n[Intro]\\nYeah, hah,...   3            en   \n2  Maybe cause I'm eatin\\nAnd these bastards fien...   4            en   \n3  [Produced by Kanye West and Brian Miller]\\n\\n[...   5            en   \n4  [Intro]\\nSo they ask me\\n\"Young boy\\nWhat you ...   6            en   \n5  [Intro: Lil Wayne]\\nHaha\\nUh-huh\\nNo homo (You...   7            en   \n6  [Intro: Pusha T]\\nNo, no, no!\\nI told you, I l...   8            en   \n7  [Verse 1: Cam'ron]\\nKilla, Dipset\\nMan I spit ...   9            en   \n8  [Verse 1]\\nAy yo you wonder who I are\\nI guzzl...  10            en   \n9  [Chorus: Jaheim]\\nNow Lord you know, just how ...  11            en   \n\n  language_ft language  \n0          en       en  \n1          en       en  \n2          en       en  \n3          en       en  \n4          en       en  \n5          en       en  \n6          en       en  \n7          en       en  \n8          en       en  \n9          en       en  ",
      "text/html": "<div>\n<style scoped>\n    .dataframe tbody tr th:only-of-type {\n        vertical-align: middle;\n    }\n\n    .dataframe tbody tr th {\n        vertical-align: top;\n    }\n\n    .dataframe thead th {\n        text-align: right;\n    }\n</style>\n<table border=\"1\" class=\"dataframe\">\n  <thead>\n    <tr style=\"text-align: right;\">\n      <th></th>\n      <th>title</th>\n      <th>tag</th>\n      <th>artist</th>\n      <th>year</th>\n      <th>views</th>\n      <th>features</th>\n      <th>lyrics</th>\n      <th>id</th>\n      <th>language_cld3</th>\n      <th>language_ft</th>\n      <th>language</th>\n    </tr>\n  </thead>\n  <tbody>\n    <tr>\n      <th>0</th>\n      <td>Killa Cam</td>\n      <td>rap</td>\n      <td>Cam'ron</td>\n      <td>2004</td>\n      <td>173166</td>\n      <td>{\"Cam\\\\'ron\",\"Opera Steve\"}</td>\n      <td>[Chorus: Opera Steve &amp; Cam'ron]\\nKilla Cam, Ki...</td>\n      <td>1</td>\n      <td>en</td>\n      <td>en</td>\n      <td>en</td>\n    </tr>\n    <tr>\n      <th>1</th>\n      <td>Can I Live</td>\n      <td>rap</td>\n      <td>JAY-Z</td>\n      <td>1996</td>\n      <td>468624</td>\n      <td>{}</td>\n      <td>[Produced by Irv Gotti]\\n\\n[Intro]\\nYeah, hah,...</td>\n      <td>3</td>\n      <td>en</td>\n      <td>en</td>\n      <td>en</td>\n    </tr>\n    <tr>\n      <th>2</th>\n      <td>Forgive Me Father</td>\n      <td>rap</td>\n      <td>Fabolous</td>\n      <td>2003</td>\n      <td>4743</td>\n      <td>{}</td>\n      <td>Maybe cause I'm eatin\\nAnd these bastards fien...</td>\n      <td>4</td>\n      <td>en</td>\n      <td>en</td>\n      <td>en</td>\n    </tr>\n    <tr>\n      <th>3</th>\n      <td>Down and Out</td>\n      <td>rap</td>\n      <td>Cam'ron</td>\n      <td>2004</td>\n      <td>144404</td>\n      <td>{\"Cam\\\\'ron\",\"Kanye West\",\"Syleena Johnson\"}</td>\n      <td>[Produced by Kanye West and Brian Miller]\\n\\n[...</td>\n      <td>5</td>\n      <td>en</td>\n      <td>en</td>\n      <td>en</td>\n    </tr>\n    <tr>\n      <th>4</th>\n      <td>Fly In</td>\n      <td>rap</td>\n      <td>Lil Wayne</td>\n      <td>2005</td>\n      <td>78271</td>\n      <td>{}</td>\n      <td>[Intro]\\nSo they ask me\\n\"Young boy\\nWhat you ...</td>\n      <td>6</td>\n      <td>en</td>\n      <td>en</td>\n      <td>en</td>\n    </tr>\n    <tr>\n      <th>5</th>\n      <td>Lollipop Remix</td>\n      <td>rap</td>\n      <td>Lil Wayne</td>\n      <td>2008</td>\n      <td>580832</td>\n      <td>{\"Kanye West\",\"Static Major\"}</td>\n      <td>[Intro: Lil Wayne]\\nHaha\\nUh-huh\\nNo homo (You...</td>\n      <td>7</td>\n      <td>en</td>\n      <td>en</td>\n      <td>en</td>\n    </tr>\n    <tr>\n      <th>6</th>\n      <td>Im Not You</td>\n      <td>rap</td>\n      <td>Clipse</td>\n      <td>2002</td>\n      <td>28645</td>\n      <td>{Jadakiss,\"Styles P\",\"Roscoe P. Coldchain\"}</td>\n      <td>[Intro: Pusha T]\\nNo, no, no!\\nI told you, I l...</td>\n      <td>8</td>\n      <td>en</td>\n      <td>en</td>\n      <td>en</td>\n    </tr>\n    <tr>\n      <th>7</th>\n      <td>Family Ties</td>\n      <td>rap</td>\n      <td>Cam'ron</td>\n      <td>2004</td>\n      <td>41960</td>\n      <td>{\"Cam\\\\'ron\",\"Lady Wray\"}</td>\n      <td>[Verse 1: Cam'ron]\\nKilla, Dipset\\nMan I spit ...</td>\n      <td>9</td>\n      <td>en</td>\n      <td>en</td>\n      <td>en</td>\n    </tr>\n    <tr>\n      <th>8</th>\n      <td>Rockin and Rollin</td>\n      <td>rap</td>\n      <td>Cam'ron</td>\n      <td>1998</td>\n      <td>6399</td>\n      <td>{\"Cam\\\\'ron\"}</td>\n      <td>[Verse 1]\\nAy yo you wonder who I are\\nI guzzl...</td>\n      <td>10</td>\n      <td>en</td>\n      <td>en</td>\n      <td>en</td>\n    </tr>\n    <tr>\n      <th>9</th>\n      <td>Lord You Know</td>\n      <td>rap</td>\n      <td>Cam'ron</td>\n      <td>2004</td>\n      <td>11882</td>\n      <td>{\"Cam\\\\'ron\",\"Juelz Santana\",Jaheim}</td>\n      <td>[Chorus: Jaheim]\\nNow Lord you know, just how ...</td>\n      <td>11</td>\n      <td>en</td>\n      <td>en</td>\n      <td>en</td>\n    </tr>\n  </tbody>\n</table>\n</div>"
     },
     "execution_count": 88,
     "metadata": {},
     "output_type": "execute_result"
    }
   ],
   "source": [
    "lyrics.iloc[:10 ]"
   ],
   "metadata": {
    "collapsed": false
   }
  },
  {
   "cell_type": "markdown",
   "source": [
    "## Remove brackets\n",
    "Here we remove the brackets from the lyrics, that they can be used by the classifiers\n"
   ],
   "metadata": {
    "collapsed": false
   }
  },
  {
   "cell_type": "code",
   "execution_count": 89,
   "outputs": [],
   "source": [
    "import re\n",
    "def preprocess(song):\n",
    "    output_text = re.sub(r'\\[\\s*.*?\\s*\\]\\n', '', song)\n",
    "    return output_text"
   ],
   "metadata": {
    "collapsed": false
   }
  },
  {
   "cell_type": "code",
   "execution_count": 90,
   "outputs": [],
   "source": [
    "# Retrieve the content of the cell\n",
    "import string\n",
    "cell_content = lyrics.iat[5000,6]  # Replace with the appropriate row and column labels\n",
    "# print(str(cell_content))\n",
    "# Specify the file path and name for the text file\n",
    "file_path = '../files/lyrics.txt'\n",
    "\n",
    "# Write the cell content to the text file\n",
    "with open(file_path, 'w') as file:\n",
    "    lines = str(cell_content).splitlines()\n",
    "    for line in lines:\n",
    "        if line.strip():  # Check if the line is non-blank\n",
    "            # print(line)\n",
    "            last_two_words = re.findall(r'\\b(\\w+\\W*\\w+)\\W*$', line)[-1]\n",
    "            last_two_words = re.sub(r'\\d', '', last_two_words)  # Remove numbers\n",
    "            last_two_words = last_two_words.translate(str.maketrans('', '', string.punctuation))  # Remove punctuation\n",
    "            file.write(last_two_words + '\\n')"
   ],
   "metadata": {
    "collapsed": false
   }
  },
  {
   "cell_type": "markdown",
   "source": [
    "Here we remove the lyrics of the other languages that are not english, we drop each row which contains such\n",
    "and we reindex the table afterwards"
   ],
   "metadata": {
    "collapsed": false
   }
  },
  {
   "cell_type": "code",
   "execution_count": 91,
   "outputs": [],
   "source": [
    "\n",
    "for i, row in lyrics.iterrows():\n",
    "    if row['language'] != 'en':\n",
    "        lyrics.drop(i, inplace=True)\n",
    "        # print('Hey it is not an english lyrics!')\n",
    "    else:\n",
    "        cleaned = preprocess(row['lyrics'])\n",
    "        lyrics.at[i, 'lyrics'] = cleaned\n",
    "\n",
    "\n",
    "lyrics.reset_index(drop=True, inplace=True)\n",
    "# lyrics.iloc[:10]"
   ],
   "metadata": {
    "collapsed": false
   }
  },
  {
   "cell_type": "code",
   "execution_count": 92,
   "outputs": [
    {
     "name": "stdout",
     "output_type": "stream",
     "text": [
      "(39648, 11)\n"
     ]
    }
   ],
   "source": [
    "print(lyrics.shape)"
   ],
   "metadata": {
    "collapsed": false
   }
  },
  {
   "cell_type": "markdown",
   "source": [
    "## Rhyme extraction\n",
    "What could be the desired marked formats?\n",
    "1. Most frequent scheme - ABAB, ABBA (underfitting)\n",
    "2. The exact words that are being rhymed?\n",
    "3. The whole rhyming scheme of the song - ABABCDDC-FFFF-ABABCDCD-FFFF-FFFF (overfitting)\n",
    "4. Multisyllable rhymes - (AB)(AB)(CB)(CB)"
   ],
   "metadata": {
    "collapsed": false
   }
  },
  {
   "cell_type": "code",
   "execution_count": 93,
   "outputs": [],
   "source": [
    "# Specify the file path and name\n",
    "file_path = '../cmudict.dict'\n",
    "\n",
    "# Create an empty dictionary to store the word-phoneme mappings\n",
    "word_phoneme_dict = {}\n",
    "\n",
    "encodings = ['utf-8', 'latin-1', 'utf-16', 'cp1252']\n",
    "for encoding in encodings:\n",
    "    try:\n",
    "        with open(file_path, 'r') as file:\n",
    "            for line in file:\n",
    "                line = line.strip()\n",
    "                if line:\n",
    "                    #print(line)\n",
    "                    split = line.split()\n",
    "                    word_phoneme_dict[split[0]] = ' '.join(split[1:])\n",
    "            # break\n",
    "    except UnicodeDecodeError:\n",
    "        print('Error')\n",
    "\n",
    "# Print the dictionary\n",
    "#print(word_phoneme_dict)"
   ],
   "metadata": {
    "collapsed": false
   }
  },
  {
   "cell_type": "code",
   "execution_count": 94,
   "outputs": [
    {
     "name": "stdout",
     "output_type": "stream",
     "text": [
      "EY1 N T\n",
      "135167\n"
     ]
    }
   ],
   "source": [
    "print(word_phoneme_dict.get(\"ain't\"))\n",
    "print(len(word_phoneme_dict))\n",
    "# print(word_phoneme_dict)"
   ],
   "metadata": {
    "collapsed": false
   }
  },
  {
   "cell_type": "code",
   "execution_count": 95,
   "outputs": [
    {
     "name": "stdout",
     "output_type": "stream",
     "text": [
      "Available Memory: 5.73 GB\n"
     ]
    }
   ],
   "source": [
    "import psutil\n",
    "\n",
    "# Get the current available memory in bytes\n",
    "available_memory = psutil.virtual_memory().available\n",
    "\n",
    "# Convert bytes to human-readable format\n",
    "available_memory_gb = available_memory / (1024 ** 3)  # Convert bytes to gigabytes\n",
    "\n",
    "# Print the available memory\n",
    "print(f\"Available Memory: {available_memory_gb:.2f} GB\")\n"
   ],
   "metadata": {
    "collapsed": false
   }
  },
  {
   "cell_type": "markdown",
   "source": [
    "## Idea\n",
    "We take each row, take the lyrics from it, split the lyrics by whitespace, remove the special characters, maybe remove some stuff that is in the round brackets (aka low voice stuff), then we take only the last two words in each line, and we annotate them with corresponding phonemes"
   ],
   "metadata": {
    "collapsed": false
   }
  },
  {
   "cell_type": "code",
   "execution_count": 118,
   "outputs": [],
   "source": [
    "def clean_for_rhymes(lyric):\n",
    "    lyric = re.sub(r'[^A-Za-z0-9\\s]', '', lyric) # remove special chars\n",
    "    lyric = lyric.lower()\n",
    "    lyric = lyric.split('\\n') # split by new lines\n",
    "    lyric = list(filter(lambda line: line != '', lyric)) # delete an empty line\n",
    "    for i, line in enumerate(lyric):\n",
    "        line = line.split()\n",
    "        if len(line) >= 2:\n",
    "            lyric[i] = line[-2:] # take the last two words of each line\n",
    "        else:\n",
    "            lyric[i] = line\n",
    "\n",
    "    return lyric\n"
   ],
   "metadata": {
    "collapsed": false
   }
  },
  {
   "cell_type": "code",
   "execution_count": 119,
   "outputs": [],
   "source": [
    "# create a new column in the dataset and apply the cleaning function to it\n",
    "lyrics['end words'] = lyrics['lyrics'].apply(clean_for_rhymes)"
   ],
   "metadata": {
    "collapsed": false
   }
  },
  {
   "cell_type": "code",
   "execution_count": 134,
   "outputs": [
    {
     "name": "stdout",
     "output_type": "stream",
     "text": [
      "[['cam', 'cam'], ['killa', 'cam'], ['cam', 'cam'], ['cam', 'cam'], ['killa', 'cam'], ['killa', 'killa'], ['bases', 'loaded'], ['cam', 'uhhuh'], ['on', 'third'], ['at', 'bat'], ['killa', 'cam'], ['the', 'world'], ['cam', 'cam'], ['killa', 'cam'], ['cam', 'hahahaha'], ['cam', 'cam'], ['killa', 'cam'], ['shit', 'clap'], ['cam', 'cam'], ['killa', 'cam'], ['cam', 'cam'], ['cam', 'cam'], ['killa', 'killa'], ['cam', 'killa'], ['what', 'up'], ['since', 'kumbaya'], ['my', 'lord'], ['on', 'board'], ['tutor', 'me'], ['to', 'me'], ['or', 'dime'], ['hammer', 'time'], ['on', 'nines'], ['camll', 'shine'], ['red', 'red'], ['em', 'lemonheads'], ['like', 'winnipeg'], ['with', 'fred'], ['on', 'scrappy'], ['at', 'me'], ['laffy', 'taffy'], ['killa', 'cam'], ['cam', 'sing'], ['killa', 'cam'], ['me', 'clap'], ['killa', 'cam'], ['cam', 'cam'], ['cam', 'sing'], ['me', 'clap'], ['killa', 'cam'], ['cam', 'sing'], ['killa', 'cam'], ['its', 'me'], ['killa', 'cam'], ['cam', 'cam'], ['cam', 'clap'], ['about', 'this'], ['killa', 'killa'], ['as', 'fuck'], ['pitchin', 'up'], ['it', 'up'], ['up', 'killa'], ['towaway', 'zone'], ['dont', 'care'], ['homes', 'killa'], ['to', 'problems'], ['get', 'pardons'], ['we', 'bang'], ['pootie', 'tang'], ['stoolie', 'sings'], ['toolie', 'sing'], ['bang', 'bang'], ['movie', 'ring'], ['jewelry', 'bling'], ['he', 'bring'], ['he', 'ring'], ['cuties', 'cling'], ['the', 'river'], ['sushi', 'king'], ['ya', 'fresh'], ['ya', 'flesh'], ['please', 'confess'], ['best', 'killa'], ['cam', 'sing'], ['cam', 'clap'], ['cam', 'yes'], ['me', 'sing'], ['killa', 'cam'], ['cam', 'sing'], ['killa', 'cam'], ['sir', 'uhh'], ['killa', 'cam'], ['sing', 'clap'], ['killa', 'cam'], ['its', 'me'], ['sing', 'clap'], ['cam', 'cam'], ['killa', 'cam'], ['shit', 'listen'], ['cam', 'killa'], ['killa', 'yo'], ['is', 'this'], ['a', 'chick'], ['or', 'piff'], ['sniff', 'everything'], ['my', 'drift'], ['shit', 'millions'], ['roaster', 'bitch'], ['ya', 'bitch'], ['usually', 'ends'], ['groupie', 'friends'], ['coochie', 'cleansed'], ['pucci', 'men'], ['escada', 'prada'], ['uzi', 'lens'], ['birdseye', 'view'], ['flip', 'birds'], ['i', 'flew'], ['i', 'grew'], ['on', 'stoops'], ['in', 'coupes'], ['killa', 'uhh'], ['killa', 'cam'], ['cam', 'cam'], ['killa', 'cam'], ['cam', 'cam'], ['killa', 'cam'], ['cam', 'cam'], ['killa', 'cam'], ['cam', 'killa'], ['killa', 'cam'], ['cam', 'cam'], ['killa', 'cam'], ['cam', 'cam'], ['killa', 'cam'], ['cam', 'cam'], ['killa', 'cam'], ['cam', 'killa']]\n",
      "[['yeah', 'rocafella'], ['you', 'know'], ['of', 'hopelessness'], ['a', 'desperation'], ['become', 'addicted'], ['to', 'servin'], ['to', 'lose'], ['lives', 'right'], ['the', 'table'], ['me', 'closely'], ['toast', 'me'], ['to', 'be'], ['close', 'feet'], ['these', 'days'], ['fiends', 'away'], ['to', 'see'], ['a', 'fricassee'], ['bothered', 'me'], ['on', 'properly'], ['for', 'authority'], ['however', 'brief'], ['and', 'peaks'], ['chips', 'hardly'], ['a', 'millin'], ['has', 'grown'], ['me', 'william'], ['rayful', 'edmondlike'], ['the', 'mic'], ['convenient', 'amnesia'], ['the', 'procedure'], ['my', 'mind'], ['to', 'crime'], ['on', 'it'], ['on', 'it'], ['the', 'weekend'], ['you', 'peekin'], ['is', 'mental'], ['get', 'into'], ['crap', 'tables'], ['g', 'up'], ['they', 'reup'], ['sippin', 'margaritas'], ['gegegeyeahhh'], ['i', 'live'], ['i', 'live'], ['that', 'circle'], ['hurt', 'you'], ['in', 'unity'], ['got', 'immunity'], ['manifest', 'it'], ['rolexd', 'it'], ['you', 'should'], ['a', 'nation'], ['said', 'patient'], ['to', 'it'], ['through', 'this'], ['money', 'foolish'], ['for', 'intruders'], ['a', 'buddhist'], ['gettin', 'cream'], ['gets', 'tedious'], ['stressed', 'right'], ['i', 'live'], ['i', 'live'], ['i', 'live'], ['i', 'live']]\n",
      "[['im', 'eatin'], ['they', 'grub'], ['these', 'scrubs'], ['on', 'dubs'], ['they', 'hubs'], ['to', 'rub'], ['the', 'tub'], ['the', 'club'], ['my', 'bub'], ['dick', 'her'], ['a', 'sticker'], ['up', 'sicker'], ['to', 'flicker'], ['it', 'quicker'], ['some', 'liquor'], ['on', 'niggas'], ['a', 'while'], ['snicker', 'yeyeyea'], ['have', 'sinned'], ['i', 'spend'], ['im', 'in'], ['ive', 'been'], ['those', 'brims'], ['im', 'in'], ['theres', 'been'], ['it', 'again'], ['with', 'me'], ['lee', 'titty'], ['wit', 'me'], ['for', 'threefifty'], ['with', 'me'], ['p', 'diddy'], ['with', 'me'], ['these', 'bitties'], ['gunll', 'jam'], ['gonna', 'blam'], ['opie', 'cunningham'], ['uncle', 'sam'], ['hunned', 'grams'], ['summer', 'jam'], ['better', 'sense'], ['settlements', 'nigga'], ['by', 'ya'], ['a', 'pacifier'], ['last', 'supplier'], ['some', 'fire'], ['is', 'regular'], ['like', 'editors'], ['beggin', 'ya'], ['in', 'predator'], ['fiends', 'now'], ['between', 'rounds'], ['want', 'beef'], ['front', 'teeth'], ['small', 'cup'], ['the', 'cris'], ['of', 'piss'], ['catch', 'up']]\n",
      "[['ugh', 'killa'], ['baby'], ['flow', 'huh'], ['it', 'up'], ['ugh', 'ugh'], ['this', 'year'], ['ye', 'cmon'], ['never', 'hated'], ['i', 'hesitated'], ['block', 'away'], ['osaka', 'bay'], ['suckers', 'place'], ['her', 'face'], ['her', 'taste'], ['the', 'taste'], ['im', 'cooking'], ['the', 'juxes'], ['from', 'brooklyn'], ['just', 'looking'], ['the', 'pudding'], ['hardtangled', 'grammar'], ['starspangled', 'banner'], ['manning', 'tanners'], ['hes', 'back'], ['down', 'down'], ['not', 'out'], ['no', 'no'], ['juiciest', 'ooooh'], ['down', 'down'], ['not', 'out'], ['no', 'no'], ['mine', 'oooh'], ['simon', 'says'], ['your', 'head'], ['and', 'red'], ['dead', 'doggy'], ['thats', 'necessary'], ['pet', 'sematary'], ['animal', 'activists'], ['with', 'savages'], ['gather', 'loot'], ['rather', 'shoot'], ['battered', 'boots'], ['a', 'parachute'], ['my', 'flip'], ['the', 'shit'], ['i', 'get'], ['cris', 'oww'], ['down', 'down'], ['not', 'out'], ['no', 'no'], ['juiciest', 'ooooh'], ['down', 'down'], ['not', 'out'], ['no', 'no'], ['mine', 'oooh'], ['yo', 'ayo'], ['pure', 'thick'], ['youre', 'it'], ['by', 'drivethru'], ['quarters', 'skyblue'], ['blue', '52'], ['how', 'you'], ['fly', 'too'], ['fly', 'too'], ['to', 'bake'], ['the', 'weight'], ['the', 'jakes'], ['your', 'wake'], ['a', 'lake'], ['to', 'escape'], ['the', 'four'], ['you', 'so'], ['ugh', 'killa'], ['down', 'down'], ['not', 'out'], ['no', 'no'], ['juiciest', 'ooooh'], ['down', 'down'], ['not', 'out'], ['no', 'no'], ['mine', 'oooh'], ['mine', 'killa'], ['know', 'harlem'], ['st', 'louis'], ['of', 'course'], ['at', 'me'], ['wild', 'hundreds'], ['is', 'ohio'], ['your', 'boy'], ['i', 'do'], ['cleveland', 'cincinnati']]\n",
      "[['ask', 'me'], ['young', 'boy'], ['time', 'around'], ['come', 'back'], ['told', 'em'], ['like', '32'], ['like', '33'], ['hit', 'me'], ['thats', 'nothing'], ['ii', 'people'], ['ii', 'people'], ['hey'], ['the', 'daughter'], ['the', 'father'], ['mildew', 'hater'], ['glaciers', 'gracias'], ['its', 'obvious'], ['is', 'atheist'], ['angel', 'dust'], ['your', 'honor'], ['your', 'honor'], ['with', 'power'], ['get', 'hotter'], ['the', 'counter'], ['the', 'cupboard'], ['the', 'bubbles'], ['my', 'dope'], ['aint', 'soap'], ['aint', 'broke'], ['go', 'no'], ['is', 'blue'], ['blue', 'jewelry'], ['the', 'money'], ['tummy', 'oh'], ['in', 'public'], ['warning', 'nothing'], ['or', 'nothing'], ['nigga', 'lunch'], ['nigga', 'fronts'], ['we', 'want'], ['me', 'here'], ['be', 'here'], ['me', 'here'], ['be', 'here'], ['so', 'fundamental'], ['the', 'windows'], ['it', 'home'], ['every', 'song'], ['no', 'bark'], ['old', 'shark'], ['bout', 'stunna'], ['your', 'ho'], ['the', 'prince'], ['like', 'that']]\n",
      "[['haha'], ['uhhuh'], ['mula', 'baby'], ['the', 'wrapper'], ['remix', 'baby'], ['dolly', 'parton'], ['the', 'top'], ['the', 'spot'], ['to', 'shop'], ['so', 'freeze'], ['cho', 'cheese'], ['to', 'lay'], ['to', 'wait'], ['gon', 'melt'], ['everybody', 'else'], ['for', 'myself'], ['the', 'belt'], ['get', 'melt'], ['dont', 'melt'], ['wont', 'help'], ['oh', 'oh'], ['of', 'town'], ['of', 'bounds'], ['baby', 'girl'], ['the', 'world'], ['lollipop'], ['the', 'world'], ['a', 'lollipop'], ['world', 'world'], ['a', 'lollipop'], ['thug', 'thug'], ['the', 'club'], ['shawty', 'wanna'], ['shawty', 'wanna'], ['shawty', 'wanna'], ['like', 'that'], ['like', 'that'], ['that', 'haha'], ['lumps', 'lumps'], ['the', 'wrapper'], ['the', 'rapper'], ['pornoflicking', 'actor'], ['that', 'rapture'], ['hewlett', 'packard'], ['a', 'snacker'], ['fudge', 'tastes'], ['bloods', 'sakesoowoo'], ['do', 'dididissipate'], ['to', 'participate'], ['the', 'chain'], ['my', 'chain'], ['is', 'bang'], ['your', 'poison'], ['mr', 'ointment'], ['mr', 'icantmakeanappointment'], ['enjoy', 'itremix'], ['thug', 'yeah'], ['club', 'yeah'], ['shawty', 'wanna'], ['shawty', 'wanna'], ['shawty', 'wanna'], ['like', 'that'], ['like', 'that'], ['that', 'haha'], ['lumps', 'lumps'], ['odd', 'cookie'], ['a', 'building'], ['the', 'shit'], ['i', 'sit'], ['like', 'hideandgo'], ['miney', 'mo'], ['cdthing', 'tapedeck'], ['great', 'sex'], ['a', 'latex'], ['late', 'text'], ['it', 'up'], ['the', 'wrapper'], ['a', 'thug'], ['club', 'club'], ['wanna', 'hump'], ['to', 'touch'], ['rerereremix', 'baby'], ['lollipop', 'lollipop'], ['lollipop', 'llollipop'], ['lollipop', 'lollipop'], ['lollipop', 'lollipop']]\n",
      "[['no', 'no'], ['this', 'shit'], ['and', 'tappin'], ['and', 'shit'], ['not', 'me'], ['you', 'rapper'], ['you', 'pusha'], ['the', 'stitches'], ['the', 'malicious'], ['the', 'sniffles'], ['the', 'itches'], ['the', 'vaseline'], ['thats', 'green'], ['thats', 'green'], ['the', 'lean'], ['rented', 'camrys'], ['of', 'shit'], ['dont', 'crash'], ['of', 'slab'], ['air', 'bags'], ['brothers', 'skits'], ['pop', 'out'], ['drop', 'out'], ['damn', 'lie'], ['grams', 'hide'], ['need', 'it'], ['believe', 'it'], ['i', 'smile'], ['ai', 'style'], ['so', 'what'], ['know', 'what'], ['good', 'job'], ['built', 'me'], ['another', 'brother'], ['a', 'motherfucker'], ['got', 'money'], ['act', 'funny'], ['dont', 'discriminate'], ['will', 'eliminate'], ['block', 'reps'], ['hot', 'sets'], ['killer', 'how'], ['killer', 'clowns'], ['my', 'heart'], ['my', 'man'], ['he', 'can'], ['point', 'blank'], ['nigga', 'stankin'], ['in', 'it'], ['to', 'blink'], ['shocked', 'em'], ['rocked', 'em'], ['made', 'you'], ['that', 'pretends'], ['through', 'men'], ['through', 'men'], ['with', 'death'], ['ya', 'chest'], ['to', 'rest'], ['to', 'rep'], ['i', 'step'], ['slept', 'on'], ['stepped', 'on'], ['rep', 'wrong'], ['set', 'gone'], ['em', 'poor'], ['than', 'yours'], ['move', 'backwards'], ['jerk', 'you'], ['hood', 'and'], ['ocean', 'floor'], ['a', 'bull'], ['i', 'pull'], ['come', 'on'], ['coke', 'uhuh'], ['common', 'bond'], ['arms', 'no'], ['no', 'end'], ['kin', 'uhhuh'], ['will', 'supply'], ['time', 'cry'], ['need', 'this'], ['their', 'jesus'], ['the', 'streets'], ['so', 'sorry'], ['didnt', 'quit'], ['aint', 'shit'], ['the', 'fact'], ['after', 'that']]\n",
      "[['killa', 'dipset'], ['pimps', 'collide'], ['the', 'ride'], ['pimp', 'stance'], ['shrimp', 'scamp'], ['you', 'gggay'], ['a', 'bouquet'], ['you', 'stayed'], ['you', 'stayed'], ['fit', 'cap'], ['commit', 'that'], ['time', 'share'], ['dimes', 'here'], ['more', 'authority'], ['for', 'me'], ['the', 'orgy'], ['applaud', 'me'], ['stand', 'by'], ['drums', 'cry'], ['dipset', 'dipset'], ['push', 'us'], ['family', 'ties'], ['dipset', 'dipset'], ['killa', 'uhh'], ['the', 'copride'], ['cop', 'rides'], ['hot', 'thighs'], ['shes', 'cockeyed'], ['bacon', 'rolls'], ['makin', 'dough'], ['jamaican', 'clothes'], ['we', 'go'], ['he', 'know'], ['baby', 'pinocchio'], ['blue', 'mittens'], ['you', 'pitchin'], ['kitchenswhos', 'bitchin'], ['the', 'fuschnickens'], ['a', 'hoe'], ['to', 'babymother'], ['a', 'ladylover'], ['clap', 'her'], ['nut', 'cracker'], ['rell', 'home'], ['cell', 'phone'], ['family', 'rise'], ['ties', 'killa'], ['stand', 'by'], ['drums', 'cry'], ['dipset', 'dipset'], ['push', 'us'], ['family', 'ties'], ['dipset', 'dipset'], ['just', 'faint'], ['latterday', 'saints'], ['in', 'paint'], ['back', 'abracadabra'], ['all', 'comfortable'], ['theodore', 'huxtable'], ['a', 'doctor'], ['locker', 'and'], ['the', 'rosaries'], ['of', 'd'], ['of', 'd'], ['to', 'me'], ['to', 'me'], ['like', 'me'], ['for', 'me'], ['is', 'me'], ['stand', 'by'], ['drums', 'cry'], ['dipset', 'dipset'], ['push', 'us'], ['family', 'ties'], ['dipset', 'dipset']]\n",
      "[['i', 'are'], ['the', 'bar'], ['double', 'r'], ['rocky', 'rolly'], ['hockey', 'goalie'], ['eating', 'guacamole'], ['did', 'without'], ['it', 'out'], ['it', 'out'], ['it', 'out'], ['long', 'gone'], ['hong', 'kong'], ['thong', 'on'], ['don', 'juan'], ['drinking', 'chandon'], ['chron', 'ma'], ['girl', 'uhhuh'], ['car', 'up'], ['long', 'ride'], ['wrong', 'side'], ['im', 'sorry'], ['the', 'ferrari'], ['like', 'bacardi'], ['with', 'safari'], ['da', 'di'], ['to', 'party'], ['with', 'somebody'], ['and', 'rollin'], ['and', 'smokin'], ['we', 'chokin'], ['and', 'hopin'], ['spoke', 'in'], ['youre', 'open'], ['new', '5'], ['be', 'live'], ['actor', 'really'], ['acting', 'silly'], ['did', 'he'], ['baddest', 'biddies'], ['is', 'pretty'], ['magic', 'city'], ['the', 'coco'], ['im', 'loco'], ['the', 'popo'], ['stroke', 'hoes'], ['for', 'homos'], ['doing', 'promos'], ['the', 'soso'], ['we', 'at'], ['to', 'act'], ['be', 'strapped'], ['of', 'riley'], ['or', 'pat'], ['the', 'cash'], ['with', 'that'], ['to', 'bet'], ['be', 'cracked'], ['little', 'girlfriend'], ['the', 'bat'], ['chevy', 'tonight'], ['be', 'back'], ['night', 'stand'], ['the', 'sack'], ['miss', 'it'], ['kiss', 'it'], ['come', 'on'], ['a', 'beach'], ['a', 'tree'], ['a', 'g'], ['the', 'b'], ['acting', 'wild'], ['me', 'child'], ['me', 'now'], ['call', 'me'], ['cats', 'meow'], ['cats', 'meow'], ['the', 'jive'], ['the', 'thighs'], ['a', 'lie'], ['the', '5'], ['we', 'drive'], ['i', 'slick'], ['are', 'sick'], ['dkny', 'kicks'], ['my', 'clique'], ['and', 'bounce'], ['bank', 'account']]\n",
      "[['i', 'try'], ['it', 'right'], ['even', 'better'], ['day', 'someday'], ['but', 'tomorrow'], ['i', 'know'], ['a', 'hassle'], ['of', 'paxil'], ['clap', 'you'], ['clap', 'too'], ['made', 'it'], ['it', 'confiscated'], ['take', 'powder'], ['take', 'showers'], ['8', 'hours'], ['the', 'glass'], ['that', 'cash'], ['a', 'smash'], ['on', 'crash'], ['was', '911'], ['on', 'dun'], ['and', 'run'], ['that', 'dumb'], ['i', 'try'], ['it', 'right'], ['even', 'better'], ['day', 'someday'], ['but', 'tomorrow'], ['i', 'know'], ['breeze', 'through'], ['believe', 'you'], ['that', 'g2'], ['letters', 'gq'], ['peachblue', 'hebrew'], ['steep', 'woo'], ['creep', 'through'], ['shittin', 'peeew'], ['need', 'you'], ['the', 'pain'], ['or', 'fame'], ['the', 'same'], ['get', 'changed'], ['mel', 'mel'], ['fell', 'hell'], ['12', 'cells'], ['the', 'phones'], ['at', 'home'], ['i', 'try'], ['it', 'right'], ['even', 'better'], ['day', 'someday'], ['but', 'tomorrow'], ['i', 'know'], ['the', 'ballparks'], ['cross', 'sharks'], ['lost', 'ark'], ['cross', 'narcs'], ['porsche', 'box'], ['poor', 'pops'], ['four', 'tops'], ['the', 'scanners'], ['your', 'hammers'], ['watch', 'cameras'], ['watch', 'grandma'], ['watch', 'santa'], ['watch', 'santana'], ['i', 'try'], ['it', 'right'], ['even', 'better'], ['day', 'someday'], ['but', 'tomorrow'], ['i', 'know'], ['little', 'tent'], ['climbed', 'over'], ['got', 'over'], ['not', 'over'], ['comin', 'cam'], ['running', 'man'], ['running', 'man'], ['duhduh', 'man'], ['jack', 'city'], ['cops', 'crash'], ['this', 'road'], ['this', 'road'], ['with', 'os'], ['with', 'wholes'], ['my', 'hoes'], ['and', 'roll'], ['the', 'o'], ['in', 'dough'], ['the', 'paperrun'], ['to', 'come'], ['has', 'come'], ['is', 'come'], ['the', 'ones'], ['other', 'motherfuckers'], ['shame', 'cuz']]\n",
      "[['yeah'], ['mind', 'yeah'], ['mind', 'yeah'], ['thats', 'right'], ['my', 'mind'], ['thats', 'right'], ['mind', 'bitch'], ['you', 'know'], ['mind', 'bitch'], ['mind', 'bitch'], ['my', 'mind'], ['of', 'ayy'], ['yeah'], ['awe', 'yeah'], ['a', 'wish'], ['jr', 'brr'], ['rich', 'yeah'], ['the', 'shit'], ['paper', 'thick'], ['i', 'know'], ['potatohead', 'wimp'], ['dip', 'gone'], ['just', 'strength'], ['one', 'two'], ['grip', 'yeah'], ['my', 'wrist'], ['wrist', 'haha'], ['pimp', 'yeah'], ['the', 'market'], ['we', 'talkin'], ['yeah'], ['bitches', 'yeah'], ['bitch', 'yeah'], ['fuck', 'bitches'], ['get', 'money'], ['get', 'money'], ['yeah'], ['how', 'uh'], ['a', 'snowplow'], ['your', 'time'], ['blowjobs', 'yeah'], ['the', 'cops'], ['pots', 'bitch'], ['what', 'up'], ['paid', 'yeah'], ['the', 'grave'], ['pays', 'yeah'], ['rays', 'bitch'], ['date', 'damn'], ['way', 'yeah'], ['my', 'birthday'], ['heard', 'me'], ['person', 'nigga'], ['yeah'], ['fuck', 'bitches'], ['bitch', 'yeah'], ['fuck', 'bitches'], ['get', 'money'], ['get', 'money'], ['dollar', 'okay'], ['her', 'okay'], ['problem', 'yeah'], ['pradas', 'uhuh'], ['modest', 'yeah'], ['it', 'bitch'], ['profit', 'yeah'], ['hide', 'me'], ['it', 'yeah'], ['to', 'you'], ['do', 'uh'], ['baby', 'yeah'], ['baby', 'yeah'], ['love', 'it'], ['public', 'hah'], ['with', 'nothin'], ['the', 'money'], ['yeah'], ['fuck', 'bitches'], ['money', 'yeah'], ['fuck', 'bitches'], ['get', 'money'], ['get', 'money']]\n",
      "[['this', 'large'], ['the', 'projs'], ['at', 'large'], ['da', 'bars'], ['get', 'me'], ['silicon', 'titty'], ['with', 'me'], ['fit', 'me'], ['with', 'me'], ['with', 'me'], ['with', 'me'], ['with', 'me'], ['with', 'me'], ['on', 'whitney'], ['boned', 'britney'], ['get', 'me'], ['yeah'], ['fucked', 'with'], ['fuck', 'with'], ['bump', 'with'], ['its', 'fabolous'], ['that', 'guy'], ['that', 'fly'], ['that', 'guy'], ['at', 'my'], ['seen', 'since'], ['little', 'flow'], ['uh', 'huh'], ['little', 'though'], ['itll', 'blow'], ['little', 'bro'], ['little', 'hoes'], ['on', 'broads'], ['the', 'god'], ['its', 'hard'], ['and', 'cards'], ['regards', 'nigga'], ['fucked', 'with'], ['fuck', 'with'], ['bump', 'with'], ['its', 'fabolous'], ['uh', 'nigga'], ['by', 'now'], ['i', 'be'], ['but', 'um'], ['that', 'streetfamily'], ['street', 'family'], ['uh', 'brooklyn'], ['to', 'brooklyn'], ['ha', 'ha']]\n"
     ]
    }
   ],
   "source": [
    "# lyrics['end words'][1000]\n",
    "for i in range(lyrics.shape[1]):\n",
    "    print(lyrics['end words'][i])\n"
   ],
   "metadata": {
    "collapsed": false
   }
  },
  {
   "cell_type": "code",
   "execution_count": 135,
   "outputs": [],
   "source": [
    "# next we make the new function that will use the phoneme dictionary to annotate the phonemes of the words\n",
    "\n",
    "def translate_to_phonemes(end_words):\n",
    "    end_words_optimized = []\n",
    "    for end_word in end_words:\n",
    "        if len(end_word) == 2:\n",
    "            end_word_1 = word_phoneme_dict.get(end_word[0])\n",
    "            end_word_2 = word_phoneme_dict.get(end_word[1])\n",
    "            end_words_optimized.append([end_word_1, end_word_2])\n",
    "        elif len(end_word) == 1:\n",
    "            end_word_1 = word_phoneme_dict.get(end_word[0])\n",
    "            end_words_optimized.append([end_word_1])\n",
    "    return end_words_optimized\n",
    "\n",
    "\n",
    "\n"
   ],
   "metadata": {
    "collapsed": false
   }
  },
  {
   "cell_type": "code",
   "execution_count": 136,
   "outputs": [],
   "source": [
    "lyrics['end words phonemes'] = lyrics['end words'].apply(translate_to_phonemes)"
   ],
   "metadata": {
    "collapsed": false
   }
  },
  {
   "cell_type": "code",
   "execution_count": 137,
   "outputs": [
    {
     "data": {
      "text/plain": "[['JH EH1 D IY2', 'M AY1 N D'],\n ['AH1 V', 'M AE1 N K AY1 N D'],\n ['IH0 N', 'HH EH1 L'],\n ['W IH1 DH', 'M IY1'],\n ['Y AO1 R', 'B OW1 N Z'],\n ['AE1 Z', 'S T OW1 N'],\n ['AE1 T', 'HH OW1 M'],\n ['K IH1 L ER0 Z', 'R OW1 M'],\n ['T R AE1 P', 'M IY1'],\n ['W IY1', 'IH2 R AE1 K IY0'],\n ['D AA1 R K N AH0 S', 'P AE1 S AH0 Z'],\n ['M AH1 D IY0', 'AE1 SH AH0 Z'],\n ['IH1 Z', 'S IH1 K'],\n ['G AA1 Z AH0', 'S T R IH1 P'],\n ['T UW1', 'EH1 M'],\n ['AH0 N D', 'AY0 R EY1 N IY0 AH0 N Z'],\n ['DH AH0', 'P AE1 D'],\n [None, 'SH AA1 B AA0 Z'],\n ['W IH1 DH', None],\n ['AH0', 'G R UW1 P'],\n ['Y UW1', 'B IY1'],\n ['Y UW1', 'S IY1'],\n ['G OW1', 'AW1 T'],\n ['Y UW1', 'B IY1'],\n ['G OW1', 'AW1 T'],\n ['Y UW1', 'S IY1'],\n ['Y AO1 R', 'TH AO1 T S'],\n ['AE1 N AH0 M AH0 L', 'K L AO1 TH'],\n [None, 'F AO1 R S'],\n ['P EH1 R AH0 B AH0 L Z', 'L AO1 S T'],\n ['L AH1 NG Z', 'AE1 T'],\n ['P AH1 N', 'B AE1 K'],\n [None, 'DH AE1 T'],\n ['G AH1 N', 'R AE1 P'],\n ['AY1', 'T R AH1 S T'],\n ['DH EY1', 'B AH1 S T'],\n ['R AE1 P', 'N AW1'],\n ['R AE1 P', 'N AW1'],\n ['B AE1 K', 'D AW1 N'],\n ['G AE1 T', 'S AW1 N D'],\n ['F R EY1 M D', 'M AH0 M IY1 Y AH0'],\n ['AH0 N D', 'HH IY1 T ER0 Z'],\n ['Y UW1', 'B IY1'],\n ['Y UW1', 'S IY1'],\n ['G OW1', 'AW1 T'],\n ['Y UW1', 'B IY1'],\n ['G OW1', 'AW1 T'],\n ['Y UW1', 'S IY1'],\n ['B AY2 AH0 L AA1 JH IH0 K AH0 L', 'T EH1 R ER0 IH0 S T'],\n ['T EH1 R ER0', 'IH1 Z'],\n ['L AY1 K', 'TH EH1 R AH0 P IH0 S T S'],\n ['N EH1 V ER0', 'S N IH1 CH'],\n ['B ER0 EH1 T AH0', 'S P IH1 T S'],\n ['DH AH0', 'B IH1 CH'],\n ['AH0 N D', 'CH AA1 P ER0 Z'],\n ['AH1 V', None],\n ['DH EH1 M', 'W AH1 N'],\n ['AH0', 'G AH1 N'],\n ['IH1 Z', None],\n ['AE1 Z', 'W EH1 P AH0 N Z'],\n ['P R AA1 F AH0 T S', 'B IH0 F AO1 R'],\n ['AH1 V', 'W AO1 R'],\n ['D IH1 F ER0 AH0 N T', 'D IH0 G R IY1 Z'],\n ['DH AE1 N', 'S IY1 Z'],\n ['G OW1', 'AW1 T'],\n ['G AA1 N AH0', 'G OW1'],\n ['G OW1', 'AW1 T'],\n ['OW1', 'OW1']]"
     },
     "execution_count": 137,
     "metadata": {},
     "output_type": "execute_result"
    }
   ],
   "source": [
    "lyrics['end words phonemes'][1000]"
   ],
   "metadata": {
    "collapsed": false
   }
  },
  {
   "cell_type": "code",
   "execution_count": 138,
   "outputs": [
    {
     "data": {
      "text/plain": "[['jedi', 'mind'],\n ['of', 'mankind'],\n ['in', 'hell'],\n ['with', 'me'],\n ['your', 'bones'],\n ['as', 'stone'],\n ['at', 'home'],\n ['killers', 'roam'],\n ['trap', 'me'],\n ['we', 'iraqi'],\n ['darkness', 'passes'],\n ['muddy', 'ashes'],\n ['is', 'sick'],\n ['gaza', 'strip'],\n ['to', 'em'],\n ['and', 'iranians'],\n ['the', 'pad'],\n ['lakim', 'shabazz'],\n ['with', 'stoupe'],\n ['a', 'group'],\n ['you', 'be'],\n ['you', 'see'],\n ['go', 'out'],\n ['you', 'be'],\n ['go', 'out'],\n ['you', 'see'],\n ['your', 'thoughts'],\n ['animal', 'cloth'],\n ['hannibals', 'force'],\n ['parables', 'lost'],\n ['lungs', 'at'],\n ['pun', 'back'],\n ['brung', 'that'],\n ['gun', 'rap'],\n ['i', 'trust'],\n ['they', 'bust'],\n ['rap', 'now'],\n ['rap', 'now'],\n ['back', 'down'],\n ['gat', 'sound'],\n ['framed', 'mumia'],\n ['and', 'heaters'],\n ['you', 'be'],\n ['you', 'see'],\n ['go', 'out'],\n ['you', 'be'],\n ['go', 'out'],\n ['you', 'see'],\n ['biological', 'terrorist'],\n ['terror', 'is'],\n ['like', 'therapists'],\n ['never', 'snitch'],\n ['beretta', 'spits'],\n ['the', 'bitch'],\n ['and', 'choppers'],\n ['of', 'chakras'],\n ['them', 'won'],\n ['a', 'gun'],\n ['is', 'repping'],\n ['as', 'weapons'],\n ['prophets', 'before'],\n ['of', 'war'],\n ['different', 'degrees'],\n ['than', 'seas'],\n ['go', 'out'],\n ['gonna', 'go'],\n ['go', 'out'],\n ['oh', 'oh']]"
     },
     "execution_count": 138,
     "metadata": {},
     "output_type": "execute_result"
    }
   ],
   "source": [
    "lyrics['end words'][1000]"
   ],
   "metadata": {
    "collapsed": false
   }
  },
  {
   "cell_type": "markdown",
   "source": [
    "## Questions:\n",
    "1. Some words are not in the dictionary - what to do?\n",
    "2. How to lable the scheme? (practically)"
   ],
   "metadata": {
    "collapsed": false
   }
  },
  {
   "cell_type": "markdown",
   "source": [
    "## Topic Modelling and Extraction\n"
   ],
   "metadata": {
    "collapsed": false
   }
  },
  {
   "cell_type": "markdown",
   "source": [
    "## Affect labeling"
   ],
   "metadata": {
    "collapsed": false
   }
  },
  {
   "cell_type": "code",
   "execution_count": 100,
   "outputs": [],
   "source": [],
   "metadata": {
    "collapsed": false
   }
  },
  {
   "cell_type": "code",
   "execution_count": 100,
   "outputs": [],
   "source": [],
   "metadata": {
    "collapsed": false
   }
  }
 ],
 "metadata": {
  "kernelspec": {
   "display_name": "Python 3",
   "language": "python",
   "name": "python3"
  },
  "language_info": {
   "codemirror_mode": {
    "name": "ipython",
    "version": 2
   },
   "file_extension": ".py",
   "mimetype": "text/x-python",
   "name": "python",
   "nbconvert_exporter": "python",
   "pygments_lexer": "ipython2",
   "version": "2.7.6"
  }
 },
 "nbformat": 4,
 "nbformat_minor": 0
}
