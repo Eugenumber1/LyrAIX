{
 "cells": [
  {
   "cell_type": "markdown",
   "source": [
    "## This notebook is dedicated to the exploration of the Lyrics dataset\n"
   ],
   "metadata": {
    "collapsed": false
   }
  },
  {
   "cell_type": "code",
   "execution_count": 102,
   "outputs": [],
   "source": [
    "import pandas as pd\n"
   ],
   "metadata": {
    "collapsed": false
   }
  },
  {
   "cell_type": "code",
   "execution_count": 103,
   "outputs": [],
   "source": [
    "n_rows = 100000\n",
    "lyrics = pd.read_csv('../song_lyrics.csv', nrows=n_rows)\n",
    "# lyrics[:10, 1:]"
   ],
   "metadata": {
    "collapsed": false
   }
  },
  {
   "cell_type": "code",
   "execution_count": 104,
   "outputs": [],
   "source": [
    "#lyrics.iloc[:10, 2:8]\n",
    "# print(lyrics.iat[9,6])"
   ],
   "metadata": {
    "collapsed": false
   }
  },
  {
   "cell_type": "code",
   "execution_count": 105,
   "outputs": [
    {
     "data": {
      "text/plain": "               title  tag     artist  year   views  \\\n0          Killa Cam  rap    Cam'ron  2004  173166   \n1         Can I Live  rap      JAY-Z  1996  468624   \n2  Forgive Me Father  rap   Fabolous  2003    4743   \n3       Down and Out  rap    Cam'ron  2004  144404   \n4             Fly In  rap  Lil Wayne  2005   78271   \n5     Lollipop Remix  rap  Lil Wayne  2008  580832   \n6         Im Not You  rap     Clipse  2002   28645   \n7        Family Ties  rap    Cam'ron  2004   41960   \n8  Rockin and Rollin  rap    Cam'ron  1998    6399   \n9      Lord You Know  rap    Cam'ron  2004   11882   \n\n                                       features  \\\n0                   {\"Cam\\\\'ron\",\"Opera Steve\"}   \n1                                            {}   \n2                                            {}   \n3  {\"Cam\\\\'ron\",\"Kanye West\",\"Syleena Johnson\"}   \n4                                            {}   \n5                 {\"Kanye West\",\"Static Major\"}   \n6   {Jadakiss,\"Styles P\",\"Roscoe P. Coldchain\"}   \n7                     {\"Cam\\\\'ron\",\"Lady Wray\"}   \n8                                 {\"Cam\\\\'ron\"}   \n9          {\"Cam\\\\'ron\",\"Juelz Santana\",Jaheim}   \n\n                                              lyrics  id language_cld3  \\\n0  [Chorus: Opera Steve & Cam'ron]\\nKilla Cam, Ki...   1            en   \n1  [Produced by Irv Gotti]\\n\\n[Intro]\\nYeah, hah,...   3            en   \n2  Maybe cause I'm eatin\\nAnd these bastards fien...   4            en   \n3  [Produced by Kanye West and Brian Miller]\\n\\n[...   5            en   \n4  [Intro]\\nSo they ask me\\n\"Young boy\\nWhat you ...   6            en   \n5  [Intro: Lil Wayne]\\nHaha\\nUh-huh\\nNo homo (You...   7            en   \n6  [Intro: Pusha T]\\nNo, no, no!\\nI told you, I l...   8            en   \n7  [Verse 1: Cam'ron]\\nKilla, Dipset\\nMan I spit ...   9            en   \n8  [Verse 1]\\nAy yo you wonder who I are\\nI guzzl...  10            en   \n9  [Chorus: Jaheim]\\nNow Lord you know, just how ...  11            en   \n\n  language_ft language  \n0          en       en  \n1          en       en  \n2          en       en  \n3          en       en  \n4          en       en  \n5          en       en  \n6          en       en  \n7          en       en  \n8          en       en  \n9          en       en  ",
      "text/html": "<div>\n<style scoped>\n    .dataframe tbody tr th:only-of-type {\n        vertical-align: middle;\n    }\n\n    .dataframe tbody tr th {\n        vertical-align: top;\n    }\n\n    .dataframe thead th {\n        text-align: right;\n    }\n</style>\n<table border=\"1\" class=\"dataframe\">\n  <thead>\n    <tr style=\"text-align: right;\">\n      <th></th>\n      <th>title</th>\n      <th>tag</th>\n      <th>artist</th>\n      <th>year</th>\n      <th>views</th>\n      <th>features</th>\n      <th>lyrics</th>\n      <th>id</th>\n      <th>language_cld3</th>\n      <th>language_ft</th>\n      <th>language</th>\n    </tr>\n  </thead>\n  <tbody>\n    <tr>\n      <th>0</th>\n      <td>Killa Cam</td>\n      <td>rap</td>\n      <td>Cam'ron</td>\n      <td>2004</td>\n      <td>173166</td>\n      <td>{\"Cam\\\\'ron\",\"Opera Steve\"}</td>\n      <td>[Chorus: Opera Steve &amp; Cam'ron]\\nKilla Cam, Ki...</td>\n      <td>1</td>\n      <td>en</td>\n      <td>en</td>\n      <td>en</td>\n    </tr>\n    <tr>\n      <th>1</th>\n      <td>Can I Live</td>\n      <td>rap</td>\n      <td>JAY-Z</td>\n      <td>1996</td>\n      <td>468624</td>\n      <td>{}</td>\n      <td>[Produced by Irv Gotti]\\n\\n[Intro]\\nYeah, hah,...</td>\n      <td>3</td>\n      <td>en</td>\n      <td>en</td>\n      <td>en</td>\n    </tr>\n    <tr>\n      <th>2</th>\n      <td>Forgive Me Father</td>\n      <td>rap</td>\n      <td>Fabolous</td>\n      <td>2003</td>\n      <td>4743</td>\n      <td>{}</td>\n      <td>Maybe cause I'm eatin\\nAnd these bastards fien...</td>\n      <td>4</td>\n      <td>en</td>\n      <td>en</td>\n      <td>en</td>\n    </tr>\n    <tr>\n      <th>3</th>\n      <td>Down and Out</td>\n      <td>rap</td>\n      <td>Cam'ron</td>\n      <td>2004</td>\n      <td>144404</td>\n      <td>{\"Cam\\\\'ron\",\"Kanye West\",\"Syleena Johnson\"}</td>\n      <td>[Produced by Kanye West and Brian Miller]\\n\\n[...</td>\n      <td>5</td>\n      <td>en</td>\n      <td>en</td>\n      <td>en</td>\n    </tr>\n    <tr>\n      <th>4</th>\n      <td>Fly In</td>\n      <td>rap</td>\n      <td>Lil Wayne</td>\n      <td>2005</td>\n      <td>78271</td>\n      <td>{}</td>\n      <td>[Intro]\\nSo they ask me\\n\"Young boy\\nWhat you ...</td>\n      <td>6</td>\n      <td>en</td>\n      <td>en</td>\n      <td>en</td>\n    </tr>\n    <tr>\n      <th>5</th>\n      <td>Lollipop Remix</td>\n      <td>rap</td>\n      <td>Lil Wayne</td>\n      <td>2008</td>\n      <td>580832</td>\n      <td>{\"Kanye West\",\"Static Major\"}</td>\n      <td>[Intro: Lil Wayne]\\nHaha\\nUh-huh\\nNo homo (You...</td>\n      <td>7</td>\n      <td>en</td>\n      <td>en</td>\n      <td>en</td>\n    </tr>\n    <tr>\n      <th>6</th>\n      <td>Im Not You</td>\n      <td>rap</td>\n      <td>Clipse</td>\n      <td>2002</td>\n      <td>28645</td>\n      <td>{Jadakiss,\"Styles P\",\"Roscoe P. Coldchain\"}</td>\n      <td>[Intro: Pusha T]\\nNo, no, no!\\nI told you, I l...</td>\n      <td>8</td>\n      <td>en</td>\n      <td>en</td>\n      <td>en</td>\n    </tr>\n    <tr>\n      <th>7</th>\n      <td>Family Ties</td>\n      <td>rap</td>\n      <td>Cam'ron</td>\n      <td>2004</td>\n      <td>41960</td>\n      <td>{\"Cam\\\\'ron\",\"Lady Wray\"}</td>\n      <td>[Verse 1: Cam'ron]\\nKilla, Dipset\\nMan I spit ...</td>\n      <td>9</td>\n      <td>en</td>\n      <td>en</td>\n      <td>en</td>\n    </tr>\n    <tr>\n      <th>8</th>\n      <td>Rockin and Rollin</td>\n      <td>rap</td>\n      <td>Cam'ron</td>\n      <td>1998</td>\n      <td>6399</td>\n      <td>{\"Cam\\\\'ron\"}</td>\n      <td>[Verse 1]\\nAy yo you wonder who I are\\nI guzzl...</td>\n      <td>10</td>\n      <td>en</td>\n      <td>en</td>\n      <td>en</td>\n    </tr>\n    <tr>\n      <th>9</th>\n      <td>Lord You Know</td>\n      <td>rap</td>\n      <td>Cam'ron</td>\n      <td>2004</td>\n      <td>11882</td>\n      <td>{\"Cam\\\\'ron\",\"Juelz Santana\",Jaheim}</td>\n      <td>[Chorus: Jaheim]\\nNow Lord you know, just how ...</td>\n      <td>11</td>\n      <td>en</td>\n      <td>en</td>\n      <td>en</td>\n    </tr>\n  </tbody>\n</table>\n</div>"
     },
     "execution_count": 105,
     "metadata": {},
     "output_type": "execute_result"
    }
   ],
   "source": [
    "lyrics.iloc[:10 ]"
   ],
   "metadata": {
    "collapsed": false
   }
  },
  {
   "cell_type": "markdown",
   "source": [
    "## Remove brackets\n",
    "Here we remove the brackets from the lyrics, that they can be used by the classifiers\n"
   ],
   "metadata": {
    "collapsed": false
   }
  },
  {
   "cell_type": "code",
   "execution_count": 106,
   "outputs": [],
   "source": [
    "import re\n",
    "def preprocess(song):\n",
    "    output_text = re.sub(r'\\[\\s*.*?\\s*\\]\\n', '', song)\n",
    "    return output_text"
   ],
   "metadata": {
    "collapsed": false
   }
  },
  {
   "cell_type": "code",
   "execution_count": 107,
   "outputs": [],
   "source": [
    "# Retrieve the content of the cell\n",
    "import string\n",
    "cell_content = lyrics.iat[5000,6]  # Replace with the appropriate row and column labels\n",
    "# print(str(cell_content))\n",
    "# Specify the file path and name for the text file\n",
    "file_path = '../files/lyrics.txt'\n",
    "\n",
    "# Write the cell content to the text file\n",
    "with open(file_path, 'w') as file:\n",
    "    lines = str(cell_content).splitlines()\n",
    "    for line in lines:\n",
    "        if line.strip():  # Check if the line is non-blank\n",
    "            # print(line)\n",
    "            last_two_words = re.findall(r'\\b(\\w+\\W*\\w+)\\W*$', line)[-1]\n",
    "            last_two_words = re.sub(r'\\d', '', last_two_words)  # Remove numbers\n",
    "            last_two_words = last_two_words.translate(str.maketrans('', '', string.punctuation))  # Remove punctuation\n",
    "            file.write(last_two_words + '\\n')"
   ],
   "metadata": {
    "collapsed": false
   }
  },
  {
   "cell_type": "markdown",
   "source": [
    "Here we remove the lyrics of the other languages that are not english, we drop each row which contains such\n",
    "and we reindex the table afterwards"
   ],
   "metadata": {
    "collapsed": false
   }
  },
  {
   "cell_type": "code",
   "execution_count": 108,
   "outputs": [],
   "source": [
    "\n",
    "for i, row in lyrics.iterrows():\n",
    "    if row['language'] != 'en':\n",
    "        lyrics.drop(i, inplace=True)\n",
    "        # print('Hey it is not an english lyrics!')\n",
    "    else:\n",
    "        cleaned = preprocess(row['lyrics'])\n",
    "        lyrics.at[i, 'lyrics'] = cleaned\n",
    "\n",
    "\n",
    "lyrics.reset_index(drop=True, inplace=True)\n",
    "# lyrics.iloc[:10]"
   ],
   "metadata": {
    "collapsed": false
   }
  },
  {
   "cell_type": "code",
   "execution_count": 109,
   "outputs": [
    {
     "name": "stdout",
     "output_type": "stream",
     "text": [
      "(90138, 11)\n"
     ]
    }
   ],
   "source": [
    "print(lyrics.shape)"
   ],
   "metadata": {
    "collapsed": false
   }
  },
  {
   "cell_type": "markdown",
   "source": [
    "## Rhyme extraction\n",
    "What could be the desired marked formats?\n",
    "1. Most frequent scheme - ABAB, ABBA (underfitting)\n",
    "2. The exact words that are being rhymed?\n",
    "3. The whole rhyming scheme of the song - ABABCDDC-FFFF-ABABCDCD-FFFF-FFFF (overfitting)\n",
    "4. Multisyllable rhymes - (AB)(AB)(CB)(CB)"
   ],
   "metadata": {
    "collapsed": false
   }
  },
  {
   "cell_type": "code",
   "execution_count": 110,
   "outputs": [],
   "source": [
    "# Specify the file path and name\n",
    "file_path = '../cmudict.dict'\n",
    "\n",
    "# Create an empty dictionary to store the word-phoneme mappings\n",
    "word_phoneme_dict = {}\n",
    "\n",
    "encodings = ['utf-8', 'latin-1', 'utf-16', 'cp1252']\n",
    "for encoding in encodings:\n",
    "    try:\n",
    "        with open(file_path, 'r') as file:\n",
    "            for line in file:\n",
    "                line = line.strip()\n",
    "                if line:\n",
    "                    #print(line)\n",
    "                    split = line.split()\n",
    "                    word_phoneme_dict[split[0]] = ' '.join(split[1:])\n",
    "            # break\n",
    "    except UnicodeDecodeError:\n",
    "        print('Error')\n",
    "\n",
    "# Print the dictionary\n",
    "#print(word_phoneme_dict)"
   ],
   "metadata": {
    "collapsed": false
   }
  },
  {
   "cell_type": "code",
   "execution_count": 111,
   "outputs": [
    {
     "name": "stdout",
     "output_type": "stream",
     "text": [
      "EY1 N T\n",
      "135167\n"
     ]
    }
   ],
   "source": [
    "print(word_phoneme_dict.get(\"ain't\"))\n",
    "print(len(word_phoneme_dict))\n",
    "# print(word_phoneme_dict)"
   ],
   "metadata": {
    "collapsed": false
   }
  },
  {
   "cell_type": "code",
   "execution_count": 112,
   "outputs": [
    {
     "name": "stdout",
     "output_type": "stream",
     "text": [
      "Available Memory: 5.12 GB\n"
     ]
    }
   ],
   "source": [
    "import psutil\n",
    "\n",
    "# Get the current available memory in bytes\n",
    "available_memory = psutil.virtual_memory().available\n",
    "\n",
    "# Convert bytes to human-readable format\n",
    "available_memory_gb = available_memory / (1024 ** 3)  # Convert bytes to gigabytes\n",
    "\n",
    "# Print the available memory\n",
    "print(f\"Available Memory: {available_memory_gb:.2f} GB\")\n"
   ],
   "metadata": {
    "collapsed": false
   }
  },
  {
   "cell_type": "markdown",
   "source": [
    "## Idea\n",
    "We take each row, take the lyrics from it, split the lyrics by whitespace, remove the special characters, maybe remove some stuff that is in the round brackets (aka low voice stuff), then we take only the last two words in each line, and we annotate them with corresponding phonemes"
   ],
   "metadata": {
    "collapsed": false
   }
  },
  {
   "cell_type": "code",
   "execution_count": 113,
   "outputs": [],
   "source": [
    "def clean_for_rhymes(lyric):\n",
    "    lyric = re.sub(r'[^A-Za-z0-9\\s]', '', lyric) # remove special chars\n",
    "    lyric = lyric.lower()\n",
    "    lyric = lyric.split('\\n') # split by new lines\n",
    "    lyric = list(filter(lambda line: line != '', lyric)) # delete an empty line\n",
    "    for i, line in enumerate(lyric):\n",
    "        line = line.split()\n",
    "        if len(line) >= 2:\n",
    "            lyric[i] = line[-2:] # take the last two words of each line\n",
    "        else:\n",
    "            lyric[i] = line\n",
    "\n",
    "    return lyric\n"
   ],
   "metadata": {
    "collapsed": false
   }
  },
  {
   "cell_type": "code",
   "execution_count": 114,
   "outputs": [],
   "source": [
    "# create a new column in the dataset and apply the cleaning function to it\n",
    "lyrics['end words'] = lyrics['lyrics'].apply(clean_for_rhymes)"
   ],
   "metadata": {
    "collapsed": false
   }
  },
  {
   "cell_type": "code",
   "execution_count": 115,
   "outputs": [
    {
     "name": "stdout",
     "output_type": "stream",
     "text": [
      "[['cam', 'cam'], ['killa', 'cam'], ['cam', 'cam'], ['cam', 'cam'], ['killa', 'cam'], ['killa', 'killa'], ['bases', 'loaded'], ['cam', 'uhhuh'], ['on', 'third'], ['at', 'bat'], ['killa', 'cam'], ['the', 'world'], ['cam', 'cam'], ['killa', 'cam'], ['cam', 'hahahaha'], ['cam', 'cam'], ['killa', 'cam'], ['shit', 'clap'], ['cam', 'cam'], ['killa', 'cam'], ['cam', 'cam'], ['cam', 'cam'], ['killa', 'killa'], ['cam', 'killa'], ['what', 'up'], ['since', 'kumbaya'], ['my', 'lord'], ['on', 'board'], ['tutor', 'me'], ['to', 'me'], ['or', 'dime'], ['hammer', 'time'], ['on', 'nines'], ['camll', 'shine'], ['red', 'red'], ['em', 'lemonheads'], ['like', 'winnipeg'], ['with', 'fred'], ['on', 'scrappy'], ['at', 'me'], ['laffy', 'taffy'], ['killa', 'cam'], ['cam', 'sing'], ['killa', 'cam'], ['me', 'clap'], ['killa', 'cam'], ['cam', 'cam'], ['cam', 'sing'], ['me', 'clap'], ['killa', 'cam'], ['cam', 'sing'], ['killa', 'cam'], ['its', 'me'], ['killa', 'cam'], ['cam', 'cam'], ['cam', 'clap'], ['about', 'this'], ['killa', 'killa'], ['as', 'fuck'], ['pitchin', 'up'], ['it', 'up'], ['up', 'killa'], ['towaway', 'zone'], ['dont', 'care'], ['homes', 'killa'], ['to', 'problems'], ['get', 'pardons'], ['we', 'bang'], ['pootie', 'tang'], ['stoolie', 'sings'], ['toolie', 'sing'], ['bang', 'bang'], ['movie', 'ring'], ['jewelry', 'bling'], ['he', 'bring'], ['he', 'ring'], ['cuties', 'cling'], ['the', 'river'], ['sushi', 'king'], ['ya', 'fresh'], ['ya', 'flesh'], ['please', 'confess'], ['best', 'killa'], ['cam', 'sing'], ['cam', 'clap'], ['cam', 'yes'], ['me', 'sing'], ['killa', 'cam'], ['cam', 'sing'], ['killa', 'cam'], ['sir', 'uhh'], ['killa', 'cam'], ['sing', 'clap'], ['killa', 'cam'], ['its', 'me'], ['sing', 'clap'], ['cam', 'cam'], ['killa', 'cam'], ['shit', 'listen'], ['cam', 'killa'], ['killa', 'yo'], ['is', 'this'], ['a', 'chick'], ['or', 'piff'], ['sniff', 'everything'], ['my', 'drift'], ['shit', 'millions'], ['roaster', 'bitch'], ['ya', 'bitch'], ['usually', 'ends'], ['groupie', 'friends'], ['coochie', 'cleansed'], ['pucci', 'men'], ['escada', 'prada'], ['uzi', 'lens'], ['birdseye', 'view'], ['flip', 'birds'], ['i', 'flew'], ['i', 'grew'], ['on', 'stoops'], ['in', 'coupes'], ['killa', 'uhh'], ['killa', 'cam'], ['cam', 'cam'], ['killa', 'cam'], ['cam', 'cam'], ['killa', 'cam'], ['cam', 'cam'], ['killa', 'cam'], ['cam', 'killa'], ['killa', 'cam'], ['cam', 'cam'], ['killa', 'cam'], ['cam', 'cam'], ['killa', 'cam'], ['cam', 'cam'], ['killa', 'cam'], ['cam', 'killa']]\n",
      "[['yeah', 'rocafella'], ['you', 'know'], ['of', 'hopelessness'], ['a', 'desperation'], ['become', 'addicted'], ['to', 'servin'], ['to', 'lose'], ['lives', 'right'], ['the', 'table'], ['me', 'closely'], ['toast', 'me'], ['to', 'be'], ['close', 'feet'], ['these', 'days'], ['fiends', 'away'], ['to', 'see'], ['a', 'fricassee'], ['bothered', 'me'], ['on', 'properly'], ['for', 'authority'], ['however', 'brief'], ['and', 'peaks'], ['chips', 'hardly'], ['a', 'millin'], ['has', 'grown'], ['me', 'william'], ['rayful', 'edmondlike'], ['the', 'mic'], ['convenient', 'amnesia'], ['the', 'procedure'], ['my', 'mind'], ['to', 'crime'], ['on', 'it'], ['on', 'it'], ['the', 'weekend'], ['you', 'peekin'], ['is', 'mental'], ['get', 'into'], ['crap', 'tables'], ['g', 'up'], ['they', 'reup'], ['sippin', 'margaritas'], ['gegegeyeahhh'], ['i', 'live'], ['i', 'live'], ['that', 'circle'], ['hurt', 'you'], ['in', 'unity'], ['got', 'immunity'], ['manifest', 'it'], ['rolexd', 'it'], ['you', 'should'], ['a', 'nation'], ['said', 'patient'], ['to', 'it'], ['through', 'this'], ['money', 'foolish'], ['for', 'intruders'], ['a', 'buddhist'], ['gettin', 'cream'], ['gets', 'tedious'], ['stressed', 'right'], ['i', 'live'], ['i', 'live'], ['i', 'live'], ['i', 'live']]\n",
      "[['im', 'eatin'], ['they', 'grub'], ['these', 'scrubs'], ['on', 'dubs'], ['they', 'hubs'], ['to', 'rub'], ['the', 'tub'], ['the', 'club'], ['my', 'bub'], ['dick', 'her'], ['a', 'sticker'], ['up', 'sicker'], ['to', 'flicker'], ['it', 'quicker'], ['some', 'liquor'], ['on', 'niggas'], ['a', 'while'], ['snicker', 'yeyeyea'], ['have', 'sinned'], ['i', 'spend'], ['im', 'in'], ['ive', 'been'], ['those', 'brims'], ['im', 'in'], ['theres', 'been'], ['it', 'again'], ['with', 'me'], ['lee', 'titty'], ['wit', 'me'], ['for', 'threefifty'], ['with', 'me'], ['p', 'diddy'], ['with', 'me'], ['these', 'bitties'], ['gunll', 'jam'], ['gonna', 'blam'], ['opie', 'cunningham'], ['uncle', 'sam'], ['hunned', 'grams'], ['summer', 'jam'], ['better', 'sense'], ['settlements', 'nigga'], ['by', 'ya'], ['a', 'pacifier'], ['last', 'supplier'], ['some', 'fire'], ['is', 'regular'], ['like', 'editors'], ['beggin', 'ya'], ['in', 'predator'], ['fiends', 'now'], ['between', 'rounds'], ['want', 'beef'], ['front', 'teeth'], ['small', 'cup'], ['the', 'cris'], ['of', 'piss'], ['catch', 'up']]\n",
      "[['ugh', 'killa'], ['baby'], ['flow', 'huh'], ['it', 'up'], ['ugh', 'ugh'], ['this', 'year'], ['ye', 'cmon'], ['never', 'hated'], ['i', 'hesitated'], ['block', 'away'], ['osaka', 'bay'], ['suckers', 'place'], ['her', 'face'], ['her', 'taste'], ['the', 'taste'], ['im', 'cooking'], ['the', 'juxes'], ['from', 'brooklyn'], ['just', 'looking'], ['the', 'pudding'], ['hardtangled', 'grammar'], ['starspangled', 'banner'], ['manning', 'tanners'], ['hes', 'back'], ['down', 'down'], ['not', 'out'], ['no', 'no'], ['juiciest', 'ooooh'], ['down', 'down'], ['not', 'out'], ['no', 'no'], ['mine', 'oooh'], ['simon', 'says'], ['your', 'head'], ['and', 'red'], ['dead', 'doggy'], ['thats', 'necessary'], ['pet', 'sematary'], ['animal', 'activists'], ['with', 'savages'], ['gather', 'loot'], ['rather', 'shoot'], ['battered', 'boots'], ['a', 'parachute'], ['my', 'flip'], ['the', 'shit'], ['i', 'get'], ['cris', 'oww'], ['down', 'down'], ['not', 'out'], ['no', 'no'], ['juiciest', 'ooooh'], ['down', 'down'], ['not', 'out'], ['no', 'no'], ['mine', 'oooh'], ['yo', 'ayo'], ['pure', 'thick'], ['youre', 'it'], ['by', 'drivethru'], ['quarters', 'skyblue'], ['blue', '52'], ['how', 'you'], ['fly', 'too'], ['fly', 'too'], ['to', 'bake'], ['the', 'weight'], ['the', 'jakes'], ['your', 'wake'], ['a', 'lake'], ['to', 'escape'], ['the', 'four'], ['you', 'so'], ['ugh', 'killa'], ['down', 'down'], ['not', 'out'], ['no', 'no'], ['juiciest', 'ooooh'], ['down', 'down'], ['not', 'out'], ['no', 'no'], ['mine', 'oooh'], ['mine', 'killa'], ['know', 'harlem'], ['st', 'louis'], ['of', 'course'], ['at', 'me'], ['wild', 'hundreds'], ['is', 'ohio'], ['your', 'boy'], ['i', 'do'], ['cleveland', 'cincinnati']]\n",
      "[['ask', 'me'], ['young', 'boy'], ['time', 'around'], ['come', 'back'], ['told', 'em'], ['like', '32'], ['like', '33'], ['hit', 'me'], ['thats', 'nothing'], ['ii', 'people'], ['ii', 'people'], ['hey'], ['the', 'daughter'], ['the', 'father'], ['mildew', 'hater'], ['glaciers', 'gracias'], ['its', 'obvious'], ['is', 'atheist'], ['angel', 'dust'], ['your', 'honor'], ['your', 'honor'], ['with', 'power'], ['get', 'hotter'], ['the', 'counter'], ['the', 'cupboard'], ['the', 'bubbles'], ['my', 'dope'], ['aint', 'soap'], ['aint', 'broke'], ['go', 'no'], ['is', 'blue'], ['blue', 'jewelry'], ['the', 'money'], ['tummy', 'oh'], ['in', 'public'], ['warning', 'nothing'], ['or', 'nothing'], ['nigga', 'lunch'], ['nigga', 'fronts'], ['we', 'want'], ['me', 'here'], ['be', 'here'], ['me', 'here'], ['be', 'here'], ['so', 'fundamental'], ['the', 'windows'], ['it', 'home'], ['every', 'song'], ['no', 'bark'], ['old', 'shark'], ['bout', 'stunna'], ['your', 'ho'], ['the', 'prince'], ['like', 'that']]\n",
      "[['haha'], ['uhhuh'], ['mula', 'baby'], ['the', 'wrapper'], ['remix', 'baby'], ['dolly', 'parton'], ['the', 'top'], ['the', 'spot'], ['to', 'shop'], ['so', 'freeze'], ['cho', 'cheese'], ['to', 'lay'], ['to', 'wait'], ['gon', 'melt'], ['everybody', 'else'], ['for', 'myself'], ['the', 'belt'], ['get', 'melt'], ['dont', 'melt'], ['wont', 'help'], ['oh', 'oh'], ['of', 'town'], ['of', 'bounds'], ['baby', 'girl'], ['the', 'world'], ['lollipop'], ['the', 'world'], ['a', 'lollipop'], ['world', 'world'], ['a', 'lollipop'], ['thug', 'thug'], ['the', 'club'], ['shawty', 'wanna'], ['shawty', 'wanna'], ['shawty', 'wanna'], ['like', 'that'], ['like', 'that'], ['that', 'haha'], ['lumps', 'lumps'], ['the', 'wrapper'], ['the', 'rapper'], ['pornoflicking', 'actor'], ['that', 'rapture'], ['hewlett', 'packard'], ['a', 'snacker'], ['fudge', 'tastes'], ['bloods', 'sakesoowoo'], ['do', 'dididissipate'], ['to', 'participate'], ['the', 'chain'], ['my', 'chain'], ['is', 'bang'], ['your', 'poison'], ['mr', 'ointment'], ['mr', 'icantmakeanappointment'], ['enjoy', 'itremix'], ['thug', 'yeah'], ['club', 'yeah'], ['shawty', 'wanna'], ['shawty', 'wanna'], ['shawty', 'wanna'], ['like', 'that'], ['like', 'that'], ['that', 'haha'], ['lumps', 'lumps'], ['odd', 'cookie'], ['a', 'building'], ['the', 'shit'], ['i', 'sit'], ['like', 'hideandgo'], ['miney', 'mo'], ['cdthing', 'tapedeck'], ['great', 'sex'], ['a', 'latex'], ['late', 'text'], ['it', 'up'], ['the', 'wrapper'], ['a', 'thug'], ['club', 'club'], ['wanna', 'hump'], ['to', 'touch'], ['rerereremix', 'baby'], ['lollipop', 'lollipop'], ['lollipop', 'llollipop'], ['lollipop', 'lollipop'], ['lollipop', 'lollipop']]\n",
      "[['no', 'no'], ['this', 'shit'], ['and', 'tappin'], ['and', 'shit'], ['not', 'me'], ['you', 'rapper'], ['you', 'pusha'], ['the', 'stitches'], ['the', 'malicious'], ['the', 'sniffles'], ['the', 'itches'], ['the', 'vaseline'], ['thats', 'green'], ['thats', 'green'], ['the', 'lean'], ['rented', 'camrys'], ['of', 'shit'], ['dont', 'crash'], ['of', 'slab'], ['air', 'bags'], ['brothers', 'skits'], ['pop', 'out'], ['drop', 'out'], ['damn', 'lie'], ['grams', 'hide'], ['need', 'it'], ['believe', 'it'], ['i', 'smile'], ['ai', 'style'], ['so', 'what'], ['know', 'what'], ['good', 'job'], ['built', 'me'], ['another', 'brother'], ['a', 'motherfucker'], ['got', 'money'], ['act', 'funny'], ['dont', 'discriminate'], ['will', 'eliminate'], ['block', 'reps'], ['hot', 'sets'], ['killer', 'how'], ['killer', 'clowns'], ['my', 'heart'], ['my', 'man'], ['he', 'can'], ['point', 'blank'], ['nigga', 'stankin'], ['in', 'it'], ['to', 'blink'], ['shocked', 'em'], ['rocked', 'em'], ['made', 'you'], ['that', 'pretends'], ['through', 'men'], ['through', 'men'], ['with', 'death'], ['ya', 'chest'], ['to', 'rest'], ['to', 'rep'], ['i', 'step'], ['slept', 'on'], ['stepped', 'on'], ['rep', 'wrong'], ['set', 'gone'], ['em', 'poor'], ['than', 'yours'], ['move', 'backwards'], ['jerk', 'you'], ['hood', 'and'], ['ocean', 'floor'], ['a', 'bull'], ['i', 'pull'], ['come', 'on'], ['coke', 'uhuh'], ['common', 'bond'], ['arms', 'no'], ['no', 'end'], ['kin', 'uhhuh'], ['will', 'supply'], ['time', 'cry'], ['need', 'this'], ['their', 'jesus'], ['the', 'streets'], ['so', 'sorry'], ['didnt', 'quit'], ['aint', 'shit'], ['the', 'fact'], ['after', 'that']]\n",
      "[['killa', 'dipset'], ['pimps', 'collide'], ['the', 'ride'], ['pimp', 'stance'], ['shrimp', 'scamp'], ['you', 'gggay'], ['a', 'bouquet'], ['you', 'stayed'], ['you', 'stayed'], ['fit', 'cap'], ['commit', 'that'], ['time', 'share'], ['dimes', 'here'], ['more', 'authority'], ['for', 'me'], ['the', 'orgy'], ['applaud', 'me'], ['stand', 'by'], ['drums', 'cry'], ['dipset', 'dipset'], ['push', 'us'], ['family', 'ties'], ['dipset', 'dipset'], ['killa', 'uhh'], ['the', 'copride'], ['cop', 'rides'], ['hot', 'thighs'], ['shes', 'cockeyed'], ['bacon', 'rolls'], ['makin', 'dough'], ['jamaican', 'clothes'], ['we', 'go'], ['he', 'know'], ['baby', 'pinocchio'], ['blue', 'mittens'], ['you', 'pitchin'], ['kitchenswhos', 'bitchin'], ['the', 'fuschnickens'], ['a', 'hoe'], ['to', 'babymother'], ['a', 'ladylover'], ['clap', 'her'], ['nut', 'cracker'], ['rell', 'home'], ['cell', 'phone'], ['family', 'rise'], ['ties', 'killa'], ['stand', 'by'], ['drums', 'cry'], ['dipset', 'dipset'], ['push', 'us'], ['family', 'ties'], ['dipset', 'dipset'], ['just', 'faint'], ['latterday', 'saints'], ['in', 'paint'], ['back', 'abracadabra'], ['all', 'comfortable'], ['theodore', 'huxtable'], ['a', 'doctor'], ['locker', 'and'], ['the', 'rosaries'], ['of', 'd'], ['of', 'd'], ['to', 'me'], ['to', 'me'], ['like', 'me'], ['for', 'me'], ['is', 'me'], ['stand', 'by'], ['drums', 'cry'], ['dipset', 'dipset'], ['push', 'us'], ['family', 'ties'], ['dipset', 'dipset']]\n",
      "[['i', 'are'], ['the', 'bar'], ['double', 'r'], ['rocky', 'rolly'], ['hockey', 'goalie'], ['eating', 'guacamole'], ['did', 'without'], ['it', 'out'], ['it', 'out'], ['it', 'out'], ['long', 'gone'], ['hong', 'kong'], ['thong', 'on'], ['don', 'juan'], ['drinking', 'chandon'], ['chron', 'ma'], ['girl', 'uhhuh'], ['car', 'up'], ['long', 'ride'], ['wrong', 'side'], ['im', 'sorry'], ['the', 'ferrari'], ['like', 'bacardi'], ['with', 'safari'], ['da', 'di'], ['to', 'party'], ['with', 'somebody'], ['and', 'rollin'], ['and', 'smokin'], ['we', 'chokin'], ['and', 'hopin'], ['spoke', 'in'], ['youre', 'open'], ['new', '5'], ['be', 'live'], ['actor', 'really'], ['acting', 'silly'], ['did', 'he'], ['baddest', 'biddies'], ['is', 'pretty'], ['magic', 'city'], ['the', 'coco'], ['im', 'loco'], ['the', 'popo'], ['stroke', 'hoes'], ['for', 'homos'], ['doing', 'promos'], ['the', 'soso'], ['we', 'at'], ['to', 'act'], ['be', 'strapped'], ['of', 'riley'], ['or', 'pat'], ['the', 'cash'], ['with', 'that'], ['to', 'bet'], ['be', 'cracked'], ['little', 'girlfriend'], ['the', 'bat'], ['chevy', 'tonight'], ['be', 'back'], ['night', 'stand'], ['the', 'sack'], ['miss', 'it'], ['kiss', 'it'], ['come', 'on'], ['a', 'beach'], ['a', 'tree'], ['a', 'g'], ['the', 'b'], ['acting', 'wild'], ['me', 'child'], ['me', 'now'], ['call', 'me'], ['cats', 'meow'], ['cats', 'meow'], ['the', 'jive'], ['the', 'thighs'], ['a', 'lie'], ['the', '5'], ['we', 'drive'], ['i', 'slick'], ['are', 'sick'], ['dkny', 'kicks'], ['my', 'clique'], ['and', 'bounce'], ['bank', 'account']]\n",
      "[['i', 'try'], ['it', 'right'], ['even', 'better'], ['day', 'someday'], ['but', 'tomorrow'], ['i', 'know'], ['a', 'hassle'], ['of', 'paxil'], ['clap', 'you'], ['clap', 'too'], ['made', 'it'], ['it', 'confiscated'], ['take', 'powder'], ['take', 'showers'], ['8', 'hours'], ['the', 'glass'], ['that', 'cash'], ['a', 'smash'], ['on', 'crash'], ['was', '911'], ['on', 'dun'], ['and', 'run'], ['that', 'dumb'], ['i', 'try'], ['it', 'right'], ['even', 'better'], ['day', 'someday'], ['but', 'tomorrow'], ['i', 'know'], ['breeze', 'through'], ['believe', 'you'], ['that', 'g2'], ['letters', 'gq'], ['peachblue', 'hebrew'], ['steep', 'woo'], ['creep', 'through'], ['shittin', 'peeew'], ['need', 'you'], ['the', 'pain'], ['or', 'fame'], ['the', 'same'], ['get', 'changed'], ['mel', 'mel'], ['fell', 'hell'], ['12', 'cells'], ['the', 'phones'], ['at', 'home'], ['i', 'try'], ['it', 'right'], ['even', 'better'], ['day', 'someday'], ['but', 'tomorrow'], ['i', 'know'], ['the', 'ballparks'], ['cross', 'sharks'], ['lost', 'ark'], ['cross', 'narcs'], ['porsche', 'box'], ['poor', 'pops'], ['four', 'tops'], ['the', 'scanners'], ['your', 'hammers'], ['watch', 'cameras'], ['watch', 'grandma'], ['watch', 'santa'], ['watch', 'santana'], ['i', 'try'], ['it', 'right'], ['even', 'better'], ['day', 'someday'], ['but', 'tomorrow'], ['i', 'know'], ['little', 'tent'], ['climbed', 'over'], ['got', 'over'], ['not', 'over'], ['comin', 'cam'], ['running', 'man'], ['running', 'man'], ['duhduh', 'man'], ['jack', 'city'], ['cops', 'crash'], ['this', 'road'], ['this', 'road'], ['with', 'os'], ['with', 'wholes'], ['my', 'hoes'], ['and', 'roll'], ['the', 'o'], ['in', 'dough'], ['the', 'paperrun'], ['to', 'come'], ['has', 'come'], ['is', 'come'], ['the', 'ones'], ['other', 'motherfuckers'], ['shame', 'cuz']]\n",
      "[['yeah'], ['mind', 'yeah'], ['mind', 'yeah'], ['thats', 'right'], ['my', 'mind'], ['thats', 'right'], ['mind', 'bitch'], ['you', 'know'], ['mind', 'bitch'], ['mind', 'bitch'], ['my', 'mind'], ['of', 'ayy'], ['yeah'], ['awe', 'yeah'], ['a', 'wish'], ['jr', 'brr'], ['rich', 'yeah'], ['the', 'shit'], ['paper', 'thick'], ['i', 'know'], ['potatohead', 'wimp'], ['dip', 'gone'], ['just', 'strength'], ['one', 'two'], ['grip', 'yeah'], ['my', 'wrist'], ['wrist', 'haha'], ['pimp', 'yeah'], ['the', 'market'], ['we', 'talkin'], ['yeah'], ['bitches', 'yeah'], ['bitch', 'yeah'], ['fuck', 'bitches'], ['get', 'money'], ['get', 'money'], ['yeah'], ['how', 'uh'], ['a', 'snowplow'], ['your', 'time'], ['blowjobs', 'yeah'], ['the', 'cops'], ['pots', 'bitch'], ['what', 'up'], ['paid', 'yeah'], ['the', 'grave'], ['pays', 'yeah'], ['rays', 'bitch'], ['date', 'damn'], ['way', 'yeah'], ['my', 'birthday'], ['heard', 'me'], ['person', 'nigga'], ['yeah'], ['fuck', 'bitches'], ['bitch', 'yeah'], ['fuck', 'bitches'], ['get', 'money'], ['get', 'money'], ['dollar', 'okay'], ['her', 'okay'], ['problem', 'yeah'], ['pradas', 'uhuh'], ['modest', 'yeah'], ['it', 'bitch'], ['profit', 'yeah'], ['hide', 'me'], ['it', 'yeah'], ['to', 'you'], ['do', 'uh'], ['baby', 'yeah'], ['baby', 'yeah'], ['love', 'it'], ['public', 'hah'], ['with', 'nothin'], ['the', 'money'], ['yeah'], ['fuck', 'bitches'], ['money', 'yeah'], ['fuck', 'bitches'], ['get', 'money'], ['get', 'money']]\n",
      "[['this', 'large'], ['the', 'projs'], ['at', 'large'], ['da', 'bars'], ['get', 'me'], ['silicon', 'titty'], ['with', 'me'], ['fit', 'me'], ['with', 'me'], ['with', 'me'], ['with', 'me'], ['with', 'me'], ['with', 'me'], ['on', 'whitney'], ['boned', 'britney'], ['get', 'me'], ['yeah'], ['fucked', 'with'], ['fuck', 'with'], ['bump', 'with'], ['its', 'fabolous'], ['that', 'guy'], ['that', 'fly'], ['that', 'guy'], ['at', 'my'], ['seen', 'since'], ['little', 'flow'], ['uh', 'huh'], ['little', 'though'], ['itll', 'blow'], ['little', 'bro'], ['little', 'hoes'], ['on', 'broads'], ['the', 'god'], ['its', 'hard'], ['and', 'cards'], ['regards', 'nigga'], ['fucked', 'with'], ['fuck', 'with'], ['bump', 'with'], ['its', 'fabolous'], ['uh', 'nigga'], ['by', 'now'], ['i', 'be'], ['but', 'um'], ['that', 'streetfamily'], ['street', 'family'], ['uh', 'brooklyn'], ['to', 'brooklyn'], ['ha', 'ha']]\n"
     ]
    }
   ],
   "source": [
    "# lyrics['end words'][1000]\n",
    "for i in range(lyrics.shape[1]):\n",
    "    print(lyrics['end words'][i])\n"
   ],
   "metadata": {
    "collapsed": false
   }
  },
  {
   "cell_type": "code",
   "execution_count": 116,
   "outputs": [],
   "source": [
    "# next we make the new function that will use the phoneme dictionary to annotate the phonemes of the words\n",
    "\n",
    "def translate_to_phonemes(end_words):\n",
    "    end_words_optimized = []\n",
    "    for end_word in end_words:\n",
    "        if len(end_word) == 2:\n",
    "            end_word_1 = word_phoneme_dict.get(end_word[0])\n",
    "            end_word_2 = word_phoneme_dict.get(end_word[1])\n",
    "            end_words_optimized.append([end_word_1, end_word_2])\n",
    "        elif len(end_word) == 1:\n",
    "            end_word_1 = word_phoneme_dict.get(end_word[0])\n",
    "            end_words_optimized.append([end_word_1])\n",
    "    return end_words_optimized\n",
    "\n",
    "\n",
    "\n"
   ],
   "metadata": {
    "collapsed": false
   }
  },
  {
   "cell_type": "code",
   "execution_count": 117,
   "outputs": [],
   "source": [
    "lyrics['end words phonemes'] = lyrics['end words'].apply(translate_to_phonemes)"
   ],
   "metadata": {
    "collapsed": false
   }
  },
  {
   "cell_type": "code",
   "execution_count": 118,
   "outputs": [
    {
     "data": {
      "text/plain": "[['JH EH1 D IY2', 'M AY1 N D'],\n ['AH1 V', 'M AE1 N K AY1 N D'],\n ['IH0 N', 'HH EH1 L'],\n ['W IH1 DH', 'M IY1'],\n ['Y AO1 R', 'B OW1 N Z'],\n ['AE1 Z', 'S T OW1 N'],\n ['AE1 T', 'HH OW1 M'],\n ['K IH1 L ER0 Z', 'R OW1 M'],\n ['T R AE1 P', 'M IY1'],\n ['W IY1', 'IH2 R AE1 K IY0'],\n ['D AA1 R K N AH0 S', 'P AE1 S AH0 Z'],\n ['M AH1 D IY0', 'AE1 SH AH0 Z'],\n ['IH1 Z', 'S IH1 K'],\n ['G AA1 Z AH0', 'S T R IH1 P'],\n ['T UW1', 'EH1 M'],\n ['AH0 N D', 'AY0 R EY1 N IY0 AH0 N Z'],\n ['DH AH0', 'P AE1 D'],\n [None, 'SH AA1 B AA0 Z'],\n ['W IH1 DH', None],\n ['AH0', 'G R UW1 P'],\n ['Y UW1', 'B IY1'],\n ['Y UW1', 'S IY1'],\n ['G OW1', 'AW1 T'],\n ['Y UW1', 'B IY1'],\n ['G OW1', 'AW1 T'],\n ['Y UW1', 'S IY1'],\n ['Y AO1 R', 'TH AO1 T S'],\n ['AE1 N AH0 M AH0 L', 'K L AO1 TH'],\n [None, 'F AO1 R S'],\n ['P EH1 R AH0 B AH0 L Z', 'L AO1 S T'],\n ['L AH1 NG Z', 'AE1 T'],\n ['P AH1 N', 'B AE1 K'],\n [None, 'DH AE1 T'],\n ['G AH1 N', 'R AE1 P'],\n ['AY1', 'T R AH1 S T'],\n ['DH EY1', 'B AH1 S T'],\n ['R AE1 P', 'N AW1'],\n ['R AE1 P', 'N AW1'],\n ['B AE1 K', 'D AW1 N'],\n ['G AE1 T', 'S AW1 N D'],\n ['F R EY1 M D', 'M AH0 M IY1 Y AH0'],\n ['AH0 N D', 'HH IY1 T ER0 Z'],\n ['Y UW1', 'B IY1'],\n ['Y UW1', 'S IY1'],\n ['G OW1', 'AW1 T'],\n ['Y UW1', 'B IY1'],\n ['G OW1', 'AW1 T'],\n ['Y UW1', 'S IY1'],\n ['B AY2 AH0 L AA1 JH IH0 K AH0 L', 'T EH1 R ER0 IH0 S T'],\n ['T EH1 R ER0', 'IH1 Z'],\n ['L AY1 K', 'TH EH1 R AH0 P IH0 S T S'],\n ['N EH1 V ER0', 'S N IH1 CH'],\n ['B ER0 EH1 T AH0', 'S P IH1 T S'],\n ['DH AH0', 'B IH1 CH'],\n ['AH0 N D', 'CH AA1 P ER0 Z'],\n ['AH1 V', None],\n ['DH EH1 M', 'W AH1 N'],\n ['AH0', 'G AH1 N'],\n ['IH1 Z', None],\n ['AE1 Z', 'W EH1 P AH0 N Z'],\n ['P R AA1 F AH0 T S', 'B IH0 F AO1 R'],\n ['AH1 V', 'W AO1 R'],\n ['D IH1 F ER0 AH0 N T', 'D IH0 G R IY1 Z'],\n ['DH AE1 N', 'S IY1 Z'],\n ['G OW1', 'AW1 T'],\n ['G AA1 N AH0', 'G OW1'],\n ['G OW1', 'AW1 T'],\n ['OW1', 'OW1']]"
     },
     "execution_count": 118,
     "metadata": {},
     "output_type": "execute_result"
    }
   ],
   "source": [
    "lyrics['end words phonemes'][1000]"
   ],
   "metadata": {
    "collapsed": false
   }
  },
  {
   "cell_type": "code",
   "execution_count": 118,
   "outputs": [],
   "source": [],
   "metadata": {
    "collapsed": false
   }
  },
  {
   "cell_type": "markdown",
   "source": [
    "## Questions:\n",
    "1. Some words are not in the dictionary - what to do?\n",
    "2. How to lable the scheme? (practically)"
   ],
   "metadata": {
    "collapsed": false
   }
  },
  {
   "cell_type": "markdown",
   "source": [
    "## Topic Modelling and Extraction\n",
    "Current experiment is hold with BERTopic"
   ],
   "metadata": {
    "collapsed": false
   }
  },
  {
   "cell_type": "code",
   "execution_count": 129,
   "outputs": [
    {
     "name": "stdout",
     "output_type": "stream",
     "text": [
      "Collecting bertopic\r\n",
      "  Downloading bertopic-0.14.1-py2.py3-none-any.whl (120 kB)\r\n",
      "     |████████████████████████████████| 120 kB 91 kB/s            \r\n",
      "\u001B[?25hCollecting sentence-transformers>=0.4.1\r\n",
      "  Downloading sentence-transformers-2.2.2.tar.gz (85 kB)\r\n",
      "     |████████████████████████████████| 85 kB 414 kB/s            \r\n",
      "\u001B[?25h  Preparing metadata (setup.py) ... \u001B[?25ldone\r\n",
      "\u001B[?25hCollecting umap-learn>=0.5.0\r\n",
      "  Downloading umap-learn-0.5.3.tar.gz (88 kB)\r\n",
      "     |████████████████████████████████| 88 kB 1.6 MB/s            \r\n",
      "\u001B[?25h  Preparing metadata (setup.py) ... \u001B[?25ldone\r\n",
      "\u001B[?25hRequirement already satisfied: pandas>=1.1.5 in /Users/zhenyabudnyk/PycharmProjects/LyrAIX/venv/lib/python3.8/site-packages (from bertopic) (1.5.1)\r\n",
      "Collecting scikit-learn>=0.22.2.post1\r\n",
      "  Downloading scikit_learn-1.2.2-cp38-cp38-macosx_10_9_x86_64.whl (9.0 MB)\r\n",
      "     |████████████████████████████████| 9.0 MB 3.6 MB/s            \r\n",
      "\u001B[?25hCollecting hdbscan>=0.8.29\r\n",
      "  Downloading hdbscan-0.8.29.tar.gz (5.2 MB)\r\n",
      "     |████████████████████████████████| 5.2 MB 5.5 MB/s            \r\n",
      "\u001B[?25h  Installing build dependencies ... \u001B[?25ldone\r\n",
      "\u001B[?25h  Getting requirements to build wheel ... \u001B[?25ldone\r\n",
      "\u001B[?25h  Preparing metadata (pyproject.toml) ... \u001B[?25ldone\r\n",
      "\u001B[?25hRequirement already satisfied: tqdm>=4.41.1 in /Users/zhenyabudnyk/PycharmProjects/LyrAIX/venv/lib/python3.8/site-packages (from bertopic) (4.64.1)\r\n",
      "Requirement already satisfied: numpy>=1.20.0 in /Users/zhenyabudnyk/PycharmProjects/LyrAIX/venv/lib/python3.8/site-packages (from bertopic) (1.23.4)\r\n",
      "Collecting plotly>=4.7.0\r\n",
      "  Downloading plotly-5.14.1-py2.py3-none-any.whl (15.3 MB)\r\n",
      "     |████████████████████████████████| 15.3 MB 405 kB/s            \r\n",
      "\u001B[?25hCollecting scipy>=1.0\r\n",
      "  Downloading scipy-1.10.1-cp38-cp38-macosx_10_9_x86_64.whl (35.0 MB)\r\n",
      "     |████████████████████████████████| 35.0 MB 3.7 MB/s             \r\n",
      "\u001B[?25hCollecting joblib>=1.0\r\n",
      "  Using cached joblib-1.2.0-py3-none-any.whl (297 kB)\r\n",
      "Collecting cython>=0.27\r\n",
      "  Using cached Cython-0.29.34-py2.py3-none-any.whl (988 kB)\r\n",
      "Requirement already satisfied: pytz>=2020.1 in /Users/zhenyabudnyk/PycharmProjects/LyrAIX/venv/lib/python3.8/site-packages (from pandas>=1.1.5->bertopic) (2022.6)\r\n",
      "Requirement already satisfied: python-dateutil>=2.8.1 in /Users/zhenyabudnyk/PycharmProjects/LyrAIX/venv/lib/python3.8/site-packages (from pandas>=1.1.5->bertopic) (2.8.2)\r\n",
      "Requirement already satisfied: packaging in /Users/zhenyabudnyk/PycharmProjects/LyrAIX/venv/lib/python3.8/site-packages (from plotly>=4.7.0->bertopic) (21.3)\r\n",
      "Collecting tenacity>=6.2.0\r\n",
      "  Downloading tenacity-8.2.2-py3-none-any.whl (24 kB)\r\n",
      "Collecting threadpoolctl>=2.0.0\r\n",
      "  Using cached threadpoolctl-3.1.0-py3-none-any.whl (14 kB)\r\n",
      "Collecting transformers<5.0.0,>=4.6.0\r\n",
      "  Downloading transformers-4.29.2-py3-none-any.whl (7.1 MB)\r\n",
      "     |████████████████████████████████| 7.1 MB 1.1 MB/s            \r\n",
      "\u001B[?25hRequirement already satisfied: torch>=1.6.0 in /Users/zhenyabudnyk/PycharmProjects/LyrAIX/venv/lib/python3.8/site-packages (from sentence-transformers>=0.4.1->bertopic) (2.0.0)\r\n",
      "Collecting torchvision\r\n",
      "  Downloading torchvision-0.15.2-cp38-cp38-macosx_10_9_x86_64.whl (1.5 MB)\r\n",
      "     |████████████████████████████████| 1.5 MB 1.0 MB/s            \r\n",
      "\u001B[?25hCollecting nltk\r\n",
      "  Downloading nltk-3.8.1-py3-none-any.whl (1.5 MB)\r\n",
      "     |████████████████████████████████| 1.5 MB 411 kB/s            \r\n",
      "\u001B[?25hCollecting sentencepiece\r\n",
      "  Downloading sentencepiece-0.1.99-cp38-cp38-macosx_10_9_x86_64.whl (1.2 MB)\r\n",
      "     |████████████████████████████████| 1.2 MB 4.1 MB/s            \r\n",
      "\u001B[?25hCollecting huggingface-hub>=0.4.0\r\n",
      "  Downloading huggingface_hub-0.14.1-py3-none-any.whl (224 kB)\r\n",
      "     |████████████████████████████████| 224 kB 4.2 MB/s            \r\n",
      "\u001B[?25hCollecting numba>=0.49\r\n",
      "  Downloading numba-0.57.0-cp38-cp38-macosx_10_9_x86_64.whl (2.5 MB)\r\n",
      "     |████████████████████████████████| 2.5 MB 33.8 MB/s            \r\n",
      "\u001B[?25hCollecting pynndescent>=0.5\r\n",
      "  Downloading pynndescent-0.5.10.tar.gz (1.1 MB)\r\n",
      "     |████████████████████████████████| 1.1 MB 34.5 MB/s            \r\n",
      "\u001B[?25h  Preparing metadata (setup.py) ... \u001B[?25ldone\r\n",
      "\u001B[?25hCollecting fsspec\r\n",
      "  Downloading fsspec-2023.5.0-py3-none-any.whl (160 kB)\r\n",
      "     |████████████████████████████████| 160 kB 39.0 MB/s            \r\n",
      "\u001B[?25hRequirement already satisfied: typing-extensions>=3.7.4.3 in /Users/zhenyabudnyk/PycharmProjects/LyrAIX/venv/lib/python3.8/site-packages (from huggingface-hub>=0.4.0->sentence-transformers>=0.4.1->bertopic) (4.4.0)\r\n",
      "Requirement already satisfied: filelock in /Users/zhenyabudnyk/PycharmProjects/LyrAIX/venv/lib/python3.8/site-packages (from huggingface-hub>=0.4.0->sentence-transformers>=0.4.1->bertopic) (3.8.0)\r\n",
      "Requirement already satisfied: pyyaml>=5.1 in /Users/zhenyabudnyk/PycharmProjects/LyrAIX/venv/lib/python3.8/site-packages (from huggingface-hub>=0.4.0->sentence-transformers>=0.4.1->bertopic) (6.0)\r\n",
      "Requirement already satisfied: requests in /Users/zhenyabudnyk/PycharmProjects/LyrAIX/venv/lib/python3.8/site-packages (from huggingface-hub>=0.4.0->sentence-transformers>=0.4.1->bertopic) (2.28.1)\r\n",
      "Collecting llvmlite<0.41,>=0.40.0dev0\r\n",
      "  Downloading llvmlite-0.40.0-cp38-cp38-macosx_10_9_x86_64.whl (30.4 MB)\r\n",
      "     |████████████████████████████████| 30.4 MB 236 kB/s            \r\n",
      "\u001B[?25hRequirement already satisfied: importlib-metadata in /Users/zhenyabudnyk/PycharmProjects/LyrAIX/venv/lib/python3.8/site-packages (from numba>=0.49->umap-learn>=0.5.0->bertopic) (5.0.0)\r\n",
      "Requirement already satisfied: pyparsing!=3.0.5,>=2.0.2 in /Users/zhenyabudnyk/PycharmProjects/LyrAIX/venv/lib/python3.8/site-packages (from packaging->plotly>=4.7.0->bertopic) (3.0.9)\r\n",
      "Requirement already satisfied: six>=1.5 in /Users/zhenyabudnyk/PycharmProjects/LyrAIX/venv/lib/python3.8/site-packages (from python-dateutil>=2.8.1->pandas>=1.1.5->bertopic) (1.16.0)\r\n",
      "Requirement already satisfied: sympy in /Users/zhenyabudnyk/PycharmProjects/LyrAIX/venv/lib/python3.8/site-packages (from torch>=1.6.0->sentence-transformers>=0.4.1->bertopic) (1.11.1)\r\n",
      "Requirement already satisfied: jinja2 in /Users/zhenyabudnyk/PycharmProjects/LyrAIX/venv/lib/python3.8/site-packages (from torch>=1.6.0->sentence-transformers>=0.4.1->bertopic) (3.1.2)\r\n",
      "Requirement already satisfied: networkx in /Users/zhenyabudnyk/PycharmProjects/LyrAIX/venv/lib/python3.8/site-packages (from torch>=1.6.0->sentence-transformers>=0.4.1->bertopic) (3.1)\r\n",
      "Collecting regex!=2019.12.17\r\n",
      "  Downloading regex-2023.5.5-cp38-cp38-macosx_10_9_x86_64.whl (294 kB)\r\n",
      "     |████████████████████████████████| 294 kB 275 kB/s            \r\n",
      "\u001B[?25hCollecting tokenizers!=0.11.3,<0.14,>=0.11.1\r\n",
      "  Downloading tokenizers-0.13.3-cp38-cp38-macosx_10_11_x86_64.whl (4.0 MB)\r\n",
      "     |████████████████████████████████| 4.0 MB 380 kB/s            \r\n",
      "\u001B[?25hRequirement already satisfied: click in /Users/zhenyabudnyk/PycharmProjects/LyrAIX/venv/lib/python3.8/site-packages (from nltk->sentence-transformers>=0.4.1->bertopic) (8.1.3)\r\n",
      "Collecting torch>=1.6.0\r\n",
      "  Using cached torch-2.0.1-cp38-none-macosx_10_9_x86_64.whl (143.1 MB)\r\n",
      "Requirement already satisfied: pillow!=8.3.*,>=5.3.0 in /Users/zhenyabudnyk/PycharmProjects/LyrAIX/venv/lib/python3.8/site-packages (from torchvision->sentence-transformers>=0.4.1->bertopic) (9.5.0)\r\n",
      "Requirement already satisfied: zipp>=0.5 in /Users/zhenyabudnyk/PycharmProjects/LyrAIX/venv/lib/python3.8/site-packages (from importlib-metadata->numba>=0.49->umap-learn>=0.5.0->bertopic) (3.10.0)\r\n",
      "Requirement already satisfied: MarkupSafe>=2.0 in /Users/zhenyabudnyk/PycharmProjects/LyrAIX/venv/lib/python3.8/site-packages (from jinja2->torch>=1.6.0->sentence-transformers>=0.4.1->bertopic) (2.1.1)\r\n",
      "Requirement already satisfied: urllib3<1.27,>=1.21.1 in /Users/zhenyabudnyk/PycharmProjects/LyrAIX/venv/lib/python3.8/site-packages (from requests->huggingface-hub>=0.4.0->sentence-transformers>=0.4.1->bertopic) (1.26.12)\r\n",
      "Requirement already satisfied: certifi>=2017.4.17 in /Users/zhenyabudnyk/PycharmProjects/LyrAIX/venv/lib/python3.8/site-packages (from requests->huggingface-hub>=0.4.0->sentence-transformers>=0.4.1->bertopic) (2022.9.24)\r\n",
      "Requirement already satisfied: idna<4,>=2.5 in /Users/zhenyabudnyk/PycharmProjects/LyrAIX/venv/lib/python3.8/site-packages (from requests->huggingface-hub>=0.4.0->sentence-transformers>=0.4.1->bertopic) (3.4)\r\n",
      "Requirement already satisfied: charset-normalizer<3,>=2 in /Users/zhenyabudnyk/PycharmProjects/LyrAIX/venv/lib/python3.8/site-packages (from requests->huggingface-hub>=0.4.0->sentence-transformers>=0.4.1->bertopic) (2.1.1)\r\n",
      "Requirement already satisfied: mpmath>=0.19 in /Users/zhenyabudnyk/PycharmProjects/LyrAIX/venv/lib/python3.8/site-packages (from sympy->torch>=1.6.0->sentence-transformers>=0.4.1->bertopic) (1.3.0)\r\n",
      "Building wheels for collected packages: hdbscan, sentence-transformers, umap-learn, pynndescent\r\n",
      "  Building wheel for hdbscan (pyproject.toml) ... \u001B[?25lerror\r\n",
      "\u001B[31m  ERROR: Command errored out with exit status 1:\r\n",
      "   command: /Users/zhenyabudnyk/PycharmProjects/LyrAIX/venv/bin/python /Users/zhenyabudnyk/PycharmProjects/LyrAIX/venv/lib/python3.8/site-packages/pip/_vendor/pep517/in_process/_in_process.py build_wheel /var/folders/x9/n8g0lhd50nj2rctpqv0wnvm00000gn/T/tmptimkdpju\r\n",
      "       cwd: /private/var/folders/x9/n8g0lhd50nj2rctpqv0wnvm00000gn/T/pip-install-5czneoll/hdbscan_42595a421b2b41d2b3444eb2f9b06242\r\n",
      "  Complete output (44 lines):\r\n",
      "  running bdist_wheel\r\n",
      "  running build\r\n",
      "  running build_py\r\n",
      "  creating build\r\n",
      "  creating build/lib.macosx-10.9-x86_64-cpython-38\r\n",
      "  creating build/lib.macosx-10.9-x86_64-cpython-38/hdbscan\r\n",
      "  copying hdbscan/validity.py -> build/lib.macosx-10.9-x86_64-cpython-38/hdbscan\r\n",
      "  copying hdbscan/flat.py -> build/lib.macosx-10.9-x86_64-cpython-38/hdbscan\r\n",
      "  copying hdbscan/__init__.py -> build/lib.macosx-10.9-x86_64-cpython-38/hdbscan\r\n",
      "  copying hdbscan/prediction.py -> build/lib.macosx-10.9-x86_64-cpython-38/hdbscan\r\n",
      "  copying hdbscan/plots.py -> build/lib.macosx-10.9-x86_64-cpython-38/hdbscan\r\n",
      "  copying hdbscan/hdbscan_.py -> build/lib.macosx-10.9-x86_64-cpython-38/hdbscan\r\n",
      "  copying hdbscan/robust_single_linkage_.py -> build/lib.macosx-10.9-x86_64-cpython-38/hdbscan\r\n",
      "  creating build/lib.macosx-10.9-x86_64-cpython-38/hdbscan/tests\r\n",
      "  copying hdbscan/tests/test_flat.py -> build/lib.macosx-10.9-x86_64-cpython-38/hdbscan/tests\r\n",
      "  copying hdbscan/tests/test_prediction_utils.py -> build/lib.macosx-10.9-x86_64-cpython-38/hdbscan/tests\r\n",
      "  copying hdbscan/tests/__init__.py -> build/lib.macosx-10.9-x86_64-cpython-38/hdbscan/tests\r\n",
      "  copying hdbscan/tests/test_rsl.py -> build/lib.macosx-10.9-x86_64-cpython-38/hdbscan/tests\r\n",
      "  copying hdbscan/tests/test_hdbscan.py -> build/lib.macosx-10.9-x86_64-cpython-38/hdbscan/tests\r\n",
      "  running build_ext\r\n",
      "  cythoning hdbscan/_hdbscan_tree.pyx to hdbscan/_hdbscan_tree.c\r\n",
      "  cythoning hdbscan/_hdbscan_linkage.pyx to hdbscan/_hdbscan_linkage.c\r\n",
      "  cythoning hdbscan/_hdbscan_boruvka.pyx to hdbscan/_hdbscan_boruvka.c\r\n",
      "  cythoning hdbscan/_hdbscan_reachability.pyx to hdbscan/_hdbscan_reachability.c\r\n",
      "  cythoning hdbscan/_prediction_utils.pyx to hdbscan/_prediction_utils.c\r\n",
      "  cythoning hdbscan/dist_metrics.pyx to hdbscan/dist_metrics.c\r\n",
      "  building 'hdbscan._hdbscan_tree' extension\r\n",
      "  creating build/temp.macosx-10.9-x86_64-cpython-38\r\n",
      "  creating build/temp.macosx-10.9-x86_64-cpython-38/hdbscan\r\n",
      "  gcc -Wno-unused-result -Wsign-compare -Wunreachable-code -fno-common -dynamic -DNDEBUG -g -fwrapv -O3 -Wall -arch x86_64 -g -I/Users/zhenyabudnyk/PycharmProjects/LyrAIX/venv/include -I/Library/Frameworks/Python.framework/Versions/3.8/include/python3.8 -I/private/var/folders/x9/n8g0lhd50nj2rctpqv0wnvm00000gn/T/pip-build-env-1v8_w3fz/overlay/lib/python3.8/site-packages/numpy/core/include -c hdbscan/_hdbscan_tree.c -o build/temp.macosx-10.9-x86_64-cpython-38/hdbscan/_hdbscan_tree.o\r\n",
      "  xcrun: error: invalid active developer path (/Library/Developer/CommandLineTools), missing xcrun at: /Library/Developer/CommandLineTools/usr/bin/xcrun\r\n",
      "  /private/var/folders/x9/n8g0lhd50nj2rctpqv0wnvm00000gn/T/pip-build-env-1v8_w3fz/overlay/lib/python3.8/site-packages/Cython/Compiler/Main.py:369: FutureWarning: Cython directive 'language_level' not set, using 2 for now (Py2). This will change in a later release! File: /private/var/folders/x9/n8g0lhd50nj2rctpqv0wnvm00000gn/T/pip-install-5czneoll/hdbscan_42595a421b2b41d2b3444eb2f9b06242/hdbscan/_hdbscan_tree.pyx\r\n",
      "    tree = Parsing.p_module(s, pxd, full_module_name)\r\n",
      "  /private/var/folders/x9/n8g0lhd50nj2rctpqv0wnvm00000gn/T/pip-build-env-1v8_w3fz/overlay/lib/python3.8/site-packages/Cython/Compiler/Main.py:369: FutureWarning: Cython directive 'language_level' not set, using 2 for now (Py2). This will change in a later release! File: /private/var/folders/x9/n8g0lhd50nj2rctpqv0wnvm00000gn/T/pip-install-5czneoll/hdbscan_42595a421b2b41d2b3444eb2f9b06242/hdbscan/_hdbscan_linkage.pyx\r\n",
      "    tree = Parsing.p_module(s, pxd, full_module_name)\r\n",
      "  /private/var/folders/x9/n8g0lhd50nj2rctpqv0wnvm00000gn/T/pip-build-env-1v8_w3fz/overlay/lib/python3.8/site-packages/Cython/Compiler/Main.py:369: FutureWarning: Cython directive 'language_level' not set, using 2 for now (Py2). This will change in a later release! File: /private/var/folders/x9/n8g0lhd50nj2rctpqv0wnvm00000gn/T/pip-install-5czneoll/hdbscan_42595a421b2b41d2b3444eb2f9b06242/hdbscan/_hdbscan_boruvka.pyx\r\n",
      "    tree = Parsing.p_module(s, pxd, full_module_name)\r\n",
      "  /private/var/folders/x9/n8g0lhd50nj2rctpqv0wnvm00000gn/T/pip-build-env-1v8_w3fz/overlay/lib/python3.8/site-packages/Cython/Compiler/Main.py:369: FutureWarning: Cython directive 'language_level' not set, using 2 for now (Py2). This will change in a later release! File: /private/var/folders/x9/n8g0lhd50nj2rctpqv0wnvm00000gn/T/pip-install-5czneoll/hdbscan_42595a421b2b41d2b3444eb2f9b06242/hdbscan/_hdbscan_reachability.pyx\r\n",
      "    tree = Parsing.p_module(s, pxd, full_module_name)\r\n",
      "  /private/var/folders/x9/n8g0lhd50nj2rctpqv0wnvm00000gn/T/pip-build-env-1v8_w3fz/overlay/lib/python3.8/site-packages/Cython/Compiler/Main.py:369: FutureWarning: Cython directive 'language_level' not set, using 2 for now (Py2). This will change in a later release! File: /private/var/folders/x9/n8g0lhd50nj2rctpqv0wnvm00000gn/T/pip-install-5czneoll/hdbscan_42595a421b2b41d2b3444eb2f9b06242/hdbscan/_prediction_utils.pyx\r\n",
      "    tree = Parsing.p_module(s, pxd, full_module_name)\r\n",
      "  /private/var/folders/x9/n8g0lhd50nj2rctpqv0wnvm00000gn/T/pip-build-env-1v8_w3fz/overlay/lib/python3.8/site-packages/Cython/Compiler/Main.py:369: FutureWarning: Cython directive 'language_level' not set, using 2 for now (Py2). This will change in a later release! File: /private/var/folders/x9/n8g0lhd50nj2rctpqv0wnvm00000gn/T/pip-install-5czneoll/hdbscan_42595a421b2b41d2b3444eb2f9b06242/hdbscan/dist_metrics.pxd\r\n",
      "    tree = Parsing.p_module(s, pxd, full_module_name)\r\n",
      "  error: command '/usr/bin/gcc' failed with exit code 1\r\n",
      "  ----------------------------------------\u001B[0m\r\n",
      "\u001B[31m  ERROR: Failed building wheel for hdbscan\u001B[0m\r\n",
      "\u001B[?25h  Building wheel for sentence-transformers (setup.py) ... \u001B[?25ldone\r\n",
      "\u001B[?25h  Created wheel for sentence-transformers: filename=sentence_transformers-2.2.2-py3-none-any.whl size=125938 sha256=208fbebb3cef89ee727a6168a05523a8c4a60c8ccc6962601867093eac905ef6\r\n",
      "  Stored in directory: /Users/zhenyabudnyk/Library/Caches/pip/wheels/5e/6f/8c/d88aec621f3f542d26fac0342bef5e693335d125f4e54aeffe\r\n",
      "  Building wheel for umap-learn (setup.py) ... \u001B[?25ldone\r\n",
      "\u001B[?25h  Created wheel for umap-learn: filename=umap_learn-0.5.3-py3-none-any.whl size=82829 sha256=4ba6d8d565c60a095bcd07716c2fbfd6b99d2a9a25af0ce96debed56d9fe255b\r\n",
      "  Stored in directory: /Users/zhenyabudnyk/Library/Caches/pip/wheels/a9/3a/67/06a8950e053725912e6a8c42c4a3a241410f6487b8402542ea\r\n",
      "  Building wheel for pynndescent (setup.py) ... \u001B[?25ldone\r\n",
      "\u001B[?25h  Created wheel for pynndescent: filename=pynndescent-0.5.10-py3-none-any.whl size=55638 sha256=4c8c912a0f67638f2f6a6c16d7df29de0d4f4df928026206f33a489e8680fc64\r\n",
      "  Stored in directory: /Users/zhenyabudnyk/Library/Caches/pip/wheels/f8/32/54/fa1fd0454e0441eaa32550ea2a86da3f64eb7c8e5a82436770\r\n",
      "Successfully built sentence-transformers umap-learn pynndescent\r\n",
      "Failed to build hdbscan\r\n",
      "\u001B[31mERROR: Could not build wheels for hdbscan, which is required to install pyproject.toml-based projects\u001B[0m\r\n",
      "\u001B[33mWARNING: You are using pip version 21.3.1; however, version 23.1.2 is available.\r\n",
      "You should consider upgrading via the '/Users/zhenyabudnyk/PycharmProjects/LyrAIX/venv/bin/python -m pip install --upgrade pip' command.\u001B[0m\r\n"
     ]
    },
    {
     "data": {
      "text/plain": "0        Killa Cam, Killa Cam, Cam\\nKilla Cam, Killa Ca...\n1        \\nYeah, hah, yeah, Roc-A-Fella\\nWe invite you ...\n2        Maybe cause I'm eatin\\nAnd these bastards fien...\n3        \\nUgh, Killa!\\nBaby!\\nKanye, this that 1970s H...\n4        So they ask me\\n\"Young boy\\nWhat you gon' do t...\n                               ...                        \n90133    (Supertanzi)\\n\\nThe Super-Master, and Boomslan...\n90134    (Boomslang/Supertanzi)\\n\\nI really need to jus...\n90135    Joel 2:1: Blow ye the trumpet in Zion, and sou...\n90136    Joel 3:1: For, behold, in those days, and in t...\n90137    Really, really, really, really\\n\\nI got your m...\nName: lyrics, Length: 90138, dtype: object"
     },
     "execution_count": 129,
     "metadata": {},
     "output_type": "execute_result"
    }
   ],
   "source": [
    "!pip install bertopic\n",
    "lyrics['lyrics']"
   ],
   "metadata": {
    "collapsed": false
   }
  },
  {
   "cell_type": "code",
   "execution_count": 128,
   "outputs": [
    {
     "name": "stderr",
     "output_type": "stream",
     "text": [
      "2023-05-22 16:44:49.684883: I tensorflow/core/platform/cpu_feature_guard.cc:193] This TensorFlow binary is optimized with oneAPI Deep Neural Network Library (oneDNN) to use the following CPU instructions in performance-critical operations:  AVX2 FMA\n",
      "To enable them in other operations, rebuild TensorFlow with the appropriate compiler flags.\n"
     ]
    },
    {
     "ename": "ModuleNotFoundError",
     "evalue": "No module named 'bertopic'",
     "output_type": "error",
     "traceback": [
      "\u001B[0;31m---------------------------------------------------------------------------\u001B[0m",
      "\u001B[0;31mModuleNotFoundError\u001B[0m                       Traceback (most recent call last)",
      "Cell \u001B[0;32mIn[128], line 2\u001B[0m\n\u001B[1;32m      1\u001B[0m \u001B[38;5;28;01mimport\u001B[39;00m \u001B[38;5;21;01mspacy\u001B[39;00m\n\u001B[0;32m----> 2\u001B[0m \u001B[38;5;28;01mfrom\u001B[39;00m \u001B[38;5;21;01mbertopic\u001B[39;00m \u001B[38;5;28;01mimport\u001B[39;00m BERTopic\n\u001B[1;32m      4\u001B[0m docs \u001B[38;5;241m=\u001B[39m lyrics[\u001B[38;5;124m'\u001B[39m\u001B[38;5;124mlyrics\u001B[39m\u001B[38;5;124m'\u001B[39m]\n\u001B[1;32m      5\u001B[0m nlp \u001B[38;5;241m=\u001B[39m spacy\u001B[38;5;241m.\u001B[39mload(\u001B[38;5;124m'\u001B[39m\u001B[38;5;124men_core_web_md\u001B[39m\u001B[38;5;124m'\u001B[39m, exclude\u001B[38;5;241m=\u001B[39m[\u001B[38;5;124m'\u001B[39m\u001B[38;5;124mtagger\u001B[39m\u001B[38;5;124m'\u001B[39m, \u001B[38;5;124m'\u001B[39m\u001B[38;5;124mparser\u001B[39m\u001B[38;5;124m'\u001B[39m, \u001B[38;5;124m'\u001B[39m\u001B[38;5;124mner\u001B[39m\u001B[38;5;124m'\u001B[39m, \u001B[38;5;124m'\u001B[39m\u001B[38;5;124mattribute_ruler\u001B[39m\u001B[38;5;124m'\u001B[39m, \u001B[38;5;124m'\u001B[39m\u001B[38;5;124mlemmatizer\u001B[39m\u001B[38;5;124m'\u001B[39m])\n",
      "\u001B[0;31mModuleNotFoundError\u001B[0m: No module named 'bertopic'"
     ]
    }
   ],
   "source": [
    "import spacy\n",
    "from bertopic import BERTopic\n",
    "\n",
    "docs = lyrics['lyrics']\n",
    "nlp = spacy.load('en_core_web_md', exclude=['tagger', 'parser', 'ner', 'attribute_ruler', 'lemmatizer'])\n",
    "\n",
    "topic_model = BERTopic(embedding_model=nlp)\n",
    "topics, probs = topic_model.fit_transform(docs)\n",
    "fig = topic_model.visualize_topics()\n",
    "fig.show()"
   ],
   "metadata": {
    "collapsed": false
   }
  },
  {
   "cell_type": "markdown",
   "source": [
    "## Affect labeling\n",
    "Idea here is to use NRC labels and use majority score\n"
   ],
   "metadata": {
    "collapsed": false
   }
  },
  {
   "cell_type": "code",
   "execution_count": 119,
   "outputs": [],
   "source": [
    "import numpy as np\n",
    "# Specify the file path and name\n",
    "file_path = '../NRC-VAD-Lexicon/BipolarScale/NRC-VAD-Lexicon.txt'\n",
    "\n",
    "# Create an empty dictionary to store the word-phoneme mappings\n",
    "affect_dictionary = {}\n",
    "\n",
    "encodings = ['utf-8', 'latin-1', 'utf-16', 'cp1252']\n",
    "for encoding in encodings:\n",
    "    try:\n",
    "        with open(file_path, 'r') as file:\n",
    "            for line in file:\n",
    "                line = line.strip()\n",
    "                if line:\n",
    "                    #print(line)\n",
    "                    split = line.split()\n",
    "                    if len(split) == 4:\n",
    "                        affect_dictionary[split[0]] = np.array([float(split[1]), float(split[2]), float(split[3])])\n",
    "                    elif len(split) == 5:\n",
    "                        affect_dictionary[split[0]+\" \"+split[1]] = np.array([float(split[2]), float(split[3]), float(split[4])])\n",
    "                    else:\n",
    "                        affect_dictionary[split[0]+ \" \"+split[1]+ \" \"+split[2]] = np.array([float(split[3]), float(split[4]), float(split[5])])\n",
    "            # break\n",
    "    except UnicodeDecodeError:\n",
    "        print('Error')\n"
   ],
   "metadata": {
    "collapsed": false
   }
  },
  {
   "cell_type": "code",
   "execution_count": 120,
   "outputs": [
    {
     "name": "stdout",
     "output_type": "stream",
     "text": [
      "[1.    0.038 0.346]\n",
      "19971\n"
     ]
    }
   ],
   "source": [
    "print(affect_dictionary.get('love'))\n",
    "print(len(affect_dictionary))"
   ],
   "metadata": {
    "collapsed": false
   }
  },
  {
   "cell_type": "markdown",
   "source": [
    "Here the algorithm is easy, first we take the lyrics, clean it from the newline characters, split it into words, then we iterate through the words and calculate the majority score. If the word is present in the affect dictionary - we take it, if not- ciao bambino!"
   ],
   "metadata": {
    "collapsed": false
   }
  },
  {
   "cell_type": "code",
   "execution_count": 121,
   "outputs": [],
   "source": [
    "import numpy as np\n",
    "def compute_affect(lyric):\n",
    "    lyric = re.sub(r'[^A-Za-z0-9\\s]', '', lyric) # remove special chars\n",
    "    lyric = lyric.lower()\n",
    "    lyric = lyric.split('\\n') # split by new lines\n",
    "    lyric = list(filter(lambda line: line != '', lyric)) # delete an empty line\n",
    "    majority_score = np.zeros(3)\n",
    "    count_of_words = 0\n",
    "    for i, line in enumerate(lyric):\n",
    "        line = line.split()\n",
    "        for word in line:\n",
    "            if word in affect_dictionary.keys():\n",
    "                majority_score += affect_dictionary.get(word)\n",
    "                count_of_words+= 1\n",
    "    # print(count_of_words)\n",
    "    return majority_score / count_of_words\n",
    "\n"
   ],
   "metadata": {
    "collapsed": false
   }
  },
  {
   "cell_type": "code",
   "execution_count": 122,
   "outputs": [],
   "source": [
    "lyrics['affect majority score'] = lyrics['lyrics'].apply(compute_affect)\n"
   ],
   "metadata": {
    "collapsed": false
   }
  },
  {
   "cell_type": "code",
   "execution_count": 123,
   "outputs": [
    {
     "data": {
      "text/plain": "array([ 0.14428873, -0.09799296, -0.01533099])"
     },
     "execution_count": 123,
     "metadata": {},
     "output_type": "execute_result"
    }
   ],
   "source": [
    "lyrics['affect majority score'][9]"
   ],
   "metadata": {
    "collapsed": false
   }
  },
  {
   "cell_type": "markdown",
   "source": [
    "# Algorithm\n",
    "Each song is parsed, each word is checked if it is in the dictionary, if it is - it is added to the aggregate value of the song, finally, this aggregate value is divided by amount of words from the song that are present in the dicitonary. Example - {12, -15, 10} - 5 words - hence {12/5, -15/5, 10/5}"
   ],
   "metadata": {
    "collapsed": false
   }
  },
  {
   "cell_type": "code",
   "execution_count": 124,
   "outputs": [
    {
     "data": {
      "text/plain": "                    title   tag            artist  year   views  \\\n0               Killa Cam   rap           Cam'ron  2004  173166   \n1              Can I Live   rap             JAY-Z  1996  468624   \n2       Forgive Me Father   rap          Fabolous  2003    4743   \n3            Down and Out   rap           Cam'ron  2004  144404   \n4                  Fly In   rap         Lil Wayne  2005   78271   \n...                   ...   ...               ...   ...     ...   \n90133  The Certified Info   rap         Lodus Dei  2011      32   \n90134       Life Moves On   rap         Lodus Dei  2011     289   \n90135              Joel 2  misc  Holy Bible (KJV)  2017      86   \n90136              Joel 3  misc  Holy Bible (KJV)  2017      24   \n90137        GXRIND OV MX   rap   SpaceGhostPurrp  2013     151   \n\n                                           features  \\\n0                       {\"Cam\\\\'ron\",\"Opera Steve\"}   \n1                                                {}   \n2                                                {}   \n3      {\"Cam\\\\'ron\",\"Kanye West\",\"Syleena Johnson\"}   \n4                                                {}   \n...                                             ...   \n90133            {\"Anna Wise\",SuperTanzi,Boomslang}   \n90134                        {SuperTanzi,Boomslang}   \n90135                                            {}   \n90136                                            {}   \n90137                                            {}   \n\n                                                  lyrics      id  \\\n0      Killa Cam, Killa Cam, Cam\\nKilla Cam, Killa Ca...       1   \n1      \\nYeah, hah, yeah, Roc-A-Fella\\nWe invite you ...       3   \n2      Maybe cause I'm eatin\\nAnd these bastards fien...       4   \n3      \\nUgh, Killa!\\nBaby!\\nKanye, this that 1970s H...       5   \n4      So they ask me\\n\"Young boy\\nWhat you gon' do t...       6   \n...                                                  ...     ...   \n90133  (Supertanzi)\\n\\nThe Super-Master, and Boomslan...  108962   \n90134  (Boomslang/Supertanzi)\\n\\nI really need to jus...  108963   \n90135  Joel 2:1: Blow ye the trumpet in Zion, and sou...  108964   \n90136  Joel 3:1: For, behold, in those days, and in t...  108966   \n90137  Really, really, really, really\\n\\nI got your m...  109358   \n\n      language_cld3 language_ft language  \\\n0                en          en       en   \n1                en          en       en   \n2                en          en       en   \n3                en          en       en   \n4                en          en       en   \n...             ...         ...      ...   \n90133            en          en       en   \n90134            en          en       en   \n90135            en          en       en   \n90136            en          en       en   \n90137            en          en       en   \n\n                                               end words  \\\n0      [[cam, cam], [killa, cam], [cam, cam], [cam, c...   \n1      [[yeah, rocafella], [you, know], [of, hopeless...   \n2      [[im, eatin], [they, grub], [these, scrubs], [...   \n3      [[ugh, killa], [baby], [flow, huh], [it, up], ...   \n4      [[ask, me], [young, boy], [time, around], [com...   \n...                                                  ...   \n90133  [[supertanzi], [and, boomslang], [rain, man], ...   \n90134  [[boomslangsupertanzi], [just, calm], [calm, d...   \n90135  [[at, hand], [many, generations], [escape, the...   \n90136  [[and, jerusalem], [my, land], [might, drink],...   \n90137  [[really, really], [my, dick], [your, chick], ...   \n\n                                      end words phonemes  \\\n0      [[K AE1 M, K AE1 M], [None, K AE1 M], [K AE1 M...   \n1      [[Y AE1, None], [Y UW1, N OW1], [AH1 V, HH OW1...   \n2      [[IH1 M, None], [DH EY1, G R AH1 B], [DH IY1 Z...   \n3      [[AH1 G, None], [B EY1 B IY0], [F L OW1, HH AH...   \n4      [[AE1 S K, M IY1], [Y AH1 NG, B OY1], [T AY1 M...   \n...                                                  ...   \n90133  [[None], [AH0 N D, None], [R EY1 N, M AE1 N], ...   \n90134  [[None], [JH AH1 S T, K AA1 M], [K AA1 M, D AW...   \n90135  [[AE1 T, HH AE1 N D], [M EH1 N IY0, JH EH2 N E...   \n90136  [[AH0 N D, JH ER0 UW1 S AH0 L AH0 M], [M AY1, ...   \n90137  [[R IH1 L IY0, R IH1 L IY0], [M AY1, D IH1 K],...   \n\n                                   affect majority score  \n0      [0.03259602649006631, -0.12926490066225205, -0...  \n1      [0.16737623762376239, -0.040633663366336614, 0...  \n2      [0.15901234567901226, -0.11640740740740743, -0...  \n3      [0.06357209302325578, -0.10053953488372093, -0...  \n4      [0.11767832167832168, -0.07072727272727276, 0....  \n...                                                  ...  \n90133  [0.1101041666666666, -0.04307291666666669, 0.0...  \n90134  [0.18183544303797458, -0.10301265822784808, -0...  \n90135  [0.1434166666666669, -0.11534374999999987, 0.0...  \n90136  [0.18699512195121967, -0.15875121951219517, 0....  \n90137  [-0.07808450704225352, 0.05929577464788732, -0...  \n\n[90138 rows x 14 columns]",
      "text/html": "<div>\n<style scoped>\n    .dataframe tbody tr th:only-of-type {\n        vertical-align: middle;\n    }\n\n    .dataframe tbody tr th {\n        vertical-align: top;\n    }\n\n    .dataframe thead th {\n        text-align: right;\n    }\n</style>\n<table border=\"1\" class=\"dataframe\">\n  <thead>\n    <tr style=\"text-align: right;\">\n      <th></th>\n      <th>title</th>\n      <th>tag</th>\n      <th>artist</th>\n      <th>year</th>\n      <th>views</th>\n      <th>features</th>\n      <th>lyrics</th>\n      <th>id</th>\n      <th>language_cld3</th>\n      <th>language_ft</th>\n      <th>language</th>\n      <th>end words</th>\n      <th>end words phonemes</th>\n      <th>affect majority score</th>\n    </tr>\n  </thead>\n  <tbody>\n    <tr>\n      <th>0</th>\n      <td>Killa Cam</td>\n      <td>rap</td>\n      <td>Cam'ron</td>\n      <td>2004</td>\n      <td>173166</td>\n      <td>{\"Cam\\\\'ron\",\"Opera Steve\"}</td>\n      <td>Killa Cam, Killa Cam, Cam\\nKilla Cam, Killa Ca...</td>\n      <td>1</td>\n      <td>en</td>\n      <td>en</td>\n      <td>en</td>\n      <td>[[cam, cam], [killa, cam], [cam, cam], [cam, c...</td>\n      <td>[[K AE1 M, K AE1 M], [None, K AE1 M], [K AE1 M...</td>\n      <td>[0.03259602649006631, -0.12926490066225205, -0...</td>\n    </tr>\n    <tr>\n      <th>1</th>\n      <td>Can I Live</td>\n      <td>rap</td>\n      <td>JAY-Z</td>\n      <td>1996</td>\n      <td>468624</td>\n      <td>{}</td>\n      <td>\\nYeah, hah, yeah, Roc-A-Fella\\nWe invite you ...</td>\n      <td>3</td>\n      <td>en</td>\n      <td>en</td>\n      <td>en</td>\n      <td>[[yeah, rocafella], [you, know], [of, hopeless...</td>\n      <td>[[Y AE1, None], [Y UW1, N OW1], [AH1 V, HH OW1...</td>\n      <td>[0.16737623762376239, -0.040633663366336614, 0...</td>\n    </tr>\n    <tr>\n      <th>2</th>\n      <td>Forgive Me Father</td>\n      <td>rap</td>\n      <td>Fabolous</td>\n      <td>2003</td>\n      <td>4743</td>\n      <td>{}</td>\n      <td>Maybe cause I'm eatin\\nAnd these bastards fien...</td>\n      <td>4</td>\n      <td>en</td>\n      <td>en</td>\n      <td>en</td>\n      <td>[[im, eatin], [they, grub], [these, scrubs], [...</td>\n      <td>[[IH1 M, None], [DH EY1, G R AH1 B], [DH IY1 Z...</td>\n      <td>[0.15901234567901226, -0.11640740740740743, -0...</td>\n    </tr>\n    <tr>\n      <th>3</th>\n      <td>Down and Out</td>\n      <td>rap</td>\n      <td>Cam'ron</td>\n      <td>2004</td>\n      <td>144404</td>\n      <td>{\"Cam\\\\'ron\",\"Kanye West\",\"Syleena Johnson\"}</td>\n      <td>\\nUgh, Killa!\\nBaby!\\nKanye, this that 1970s H...</td>\n      <td>5</td>\n      <td>en</td>\n      <td>en</td>\n      <td>en</td>\n      <td>[[ugh, killa], [baby], [flow, huh], [it, up], ...</td>\n      <td>[[AH1 G, None], [B EY1 B IY0], [F L OW1, HH AH...</td>\n      <td>[0.06357209302325578, -0.10053953488372093, -0...</td>\n    </tr>\n    <tr>\n      <th>4</th>\n      <td>Fly In</td>\n      <td>rap</td>\n      <td>Lil Wayne</td>\n      <td>2005</td>\n      <td>78271</td>\n      <td>{}</td>\n      <td>So they ask me\\n\"Young boy\\nWhat you gon' do t...</td>\n      <td>6</td>\n      <td>en</td>\n      <td>en</td>\n      <td>en</td>\n      <td>[[ask, me], [young, boy], [time, around], [com...</td>\n      <td>[[AE1 S K, M IY1], [Y AH1 NG, B OY1], [T AY1 M...</td>\n      <td>[0.11767832167832168, -0.07072727272727276, 0....</td>\n    </tr>\n    <tr>\n      <th>...</th>\n      <td>...</td>\n      <td>...</td>\n      <td>...</td>\n      <td>...</td>\n      <td>...</td>\n      <td>...</td>\n      <td>...</td>\n      <td>...</td>\n      <td>...</td>\n      <td>...</td>\n      <td>...</td>\n      <td>...</td>\n      <td>...</td>\n      <td>...</td>\n    </tr>\n    <tr>\n      <th>90133</th>\n      <td>The Certified Info</td>\n      <td>rap</td>\n      <td>Lodus Dei</td>\n      <td>2011</td>\n      <td>32</td>\n      <td>{\"Anna Wise\",SuperTanzi,Boomslang}</td>\n      <td>(Supertanzi)\\n\\nThe Super-Master, and Boomslan...</td>\n      <td>108962</td>\n      <td>en</td>\n      <td>en</td>\n      <td>en</td>\n      <td>[[supertanzi], [and, boomslang], [rain, man], ...</td>\n      <td>[[None], [AH0 N D, None], [R EY1 N, M AE1 N], ...</td>\n      <td>[0.1101041666666666, -0.04307291666666669, 0.0...</td>\n    </tr>\n    <tr>\n      <th>90134</th>\n      <td>Life Moves On</td>\n      <td>rap</td>\n      <td>Lodus Dei</td>\n      <td>2011</td>\n      <td>289</td>\n      <td>{SuperTanzi,Boomslang}</td>\n      <td>(Boomslang/Supertanzi)\\n\\nI really need to jus...</td>\n      <td>108963</td>\n      <td>en</td>\n      <td>en</td>\n      <td>en</td>\n      <td>[[boomslangsupertanzi], [just, calm], [calm, d...</td>\n      <td>[[None], [JH AH1 S T, K AA1 M], [K AA1 M, D AW...</td>\n      <td>[0.18183544303797458, -0.10301265822784808, -0...</td>\n    </tr>\n    <tr>\n      <th>90135</th>\n      <td>Joel 2</td>\n      <td>misc</td>\n      <td>Holy Bible (KJV)</td>\n      <td>2017</td>\n      <td>86</td>\n      <td>{}</td>\n      <td>Joel 2:1: Blow ye the trumpet in Zion, and sou...</td>\n      <td>108964</td>\n      <td>en</td>\n      <td>en</td>\n      <td>en</td>\n      <td>[[at, hand], [many, generations], [escape, the...</td>\n      <td>[[AE1 T, HH AE1 N D], [M EH1 N IY0, JH EH2 N E...</td>\n      <td>[0.1434166666666669, -0.11534374999999987, 0.0...</td>\n    </tr>\n    <tr>\n      <th>90136</th>\n      <td>Joel 3</td>\n      <td>misc</td>\n      <td>Holy Bible (KJV)</td>\n      <td>2017</td>\n      <td>24</td>\n      <td>{}</td>\n      <td>Joel 3:1: For, behold, in those days, and in t...</td>\n      <td>108966</td>\n      <td>en</td>\n      <td>en</td>\n      <td>en</td>\n      <td>[[and, jerusalem], [my, land], [might, drink],...</td>\n      <td>[[AH0 N D, JH ER0 UW1 S AH0 L AH0 M], [M AY1, ...</td>\n      <td>[0.18699512195121967, -0.15875121951219517, 0....</td>\n    </tr>\n    <tr>\n      <th>90137</th>\n      <td>GXRIND OV MX</td>\n      <td>rap</td>\n      <td>SpaceGhostPurrp</td>\n      <td>2013</td>\n      <td>151</td>\n      <td>{}</td>\n      <td>Really, really, really, really\\n\\nI got your m...</td>\n      <td>109358</td>\n      <td>en</td>\n      <td>en</td>\n      <td>en</td>\n      <td>[[really, really], [my, dick], [your, chick], ...</td>\n      <td>[[R IH1 L IY0, R IH1 L IY0], [M AY1, D IH1 K],...</td>\n      <td>[-0.07808450704225352, 0.05929577464788732, -0...</td>\n    </tr>\n  </tbody>\n</table>\n<p>90138 rows × 14 columns</p>\n</div>"
     },
     "execution_count": 124,
     "metadata": {},
     "output_type": "execute_result"
    }
   ],
   "source": [
    "lyrics"
   ],
   "metadata": {
    "collapsed": false
   }
  },
  {
   "cell_type": "code",
   "execution_count": 125,
   "outputs": [
    {
     "data": {
      "text/plain": "<Figure size 640x480 with 1 Axes>",
      "image/png": "[encoded data removed]"
     },
     "metadata": {},
     "output_type": "display_data"
    }
   ],
   "source": [
    "import matplotlib.pyplot as plt\n",
    "import numpy as np\n",
    "\n",
    "vectors = lyrics['affect majority score'].values\n",
    "\n",
    "# Preprocess the vectors and convert to a valid NumPy array\n",
    "processed_vectors = []\n",
    "for vector in vectors:\n",
    "    # Check if the vector is a valid three-dimensional array\n",
    "    if isinstance(vector, np.ndarray) and vector.shape == (3,):\n",
    "        processed_vectors.append(vector)\n",
    "\n",
    "# Convert the processed vectors to a NumPy array\n",
    "vectors_array = np.array(processed_vectors)\n",
    "\n",
    "# Extract the x, y, and z components from the vectors array\n",
    "valence = vectors_array[:, 0]\n",
    "arousal = vectors_array[:, 1]\n",
    "dominance = vectors_array[:, 2]\n",
    "\n",
    "# Plot the vectors\n",
    "fig = plt.figure()\n",
    "ax = fig.add_subplot(111, projection='3d')\n",
    "ax.plot(valence, arousal, dominance, 'bo')\n",
    "ax.scatter(valence, arousal, dominance, color='r')\n",
    "\n",
    "# Set labels for each axis\n",
    "ax.set_xlabel('valence')\n",
    "ax.set_ylabel('arousal')\n",
    "ax.set_zlabel('dominance')\n",
    "\n",
    "# Show the plot\n",
    "plt.show()\n"
   ],
   "metadata": {
    "collapsed": false
   }
  },
  {
   "cell_type": "code",
   "execution_count": 125,
   "outputs": [],
   "source": [],
   "metadata": {
    "collapsed": false
   }
  }
 ],
 "metadata": {
  "kernelspec": {
   "display_name": "Python 3",
   "language": "python",
   "name": "python3"
  },
  "language_info": {
   "codemirror_mode": {
    "name": "ipython",
    "version": 2
   },
   "file_extension": ".py",
   "mimetype": "text/x-python",
   "name": "python",
   "nbconvert_exporter": "python",
   "pygments_lexer": "ipython2",
   "version": "2.7.6"
  }
 },
 "nbformat": 4,
 "nbformat_minor": 0
}
