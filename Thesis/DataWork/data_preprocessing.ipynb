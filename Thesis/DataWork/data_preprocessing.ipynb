{
 "cells": [
  {
   "cell_type": "markdown",
   "source": [
    "## This notebook is dedicated to the exploration of the Lyrics dataset\n"
   ],
   "metadata": {
    "collapsed": false
   }
  },
  {
   "cell_type": "code",
   "execution_count": 2,
   "outputs": [],
   "source": [
    "import pandas as pd\n"
   ],
   "metadata": {
    "collapsed": false
   }
  },
  {
   "cell_type": "code",
   "execution_count": 3,
   "outputs": [],
   "source": [
    "n_rows = 40000\n",
    "lyrics = pd.read_csv('../song_lyrics.csv', nrows=n_rows)\n",
    "# lyrics[:10, 1:]"
   ],
   "metadata": {
    "collapsed": false
   }
  },
  {
   "cell_type": "code",
   "execution_count": 4,
   "outputs": [
    {
     "name": "stdout",
     "output_type": "stream",
     "text": [
      "[Chorus: Jaheim]\n",
      "Now Lord you know, just how hard I try\n",
      "To live my life and get it right\n",
      "Trying to see some light or even better\n",
      "Way over way a new day, someday\n",
      "Yesterday was filled with sorrow but tomorrow\n",
      "It gets better I know, tell you, I know\n",
      "\n",
      "[Verse 1: Cam'ron]\n",
      "With my muscle you'll be dazzled, but hustlin's a hassle\n",
      "Percocet, Demerol, capsules of Paxil\n",
      "Cops wanna cuff you, niggas wanna clap you\n",
      "Bitches might burn you; they runnin' with that clap too\n",
      "But the monster made it\n",
      "Do it for those incarcerated, who had it confiscated\n",
      "Hate it when they take powder\n",
      "Upstate he take showers\n",
      "Baby moms on Greyhound for 8 hours\n",
      "See her man face-to-face through the glass\n",
      "On the phone. 10 years he got, chasin' that cash\n",
      "Cocaine, he had that game in a smash\n",
      "Felt like the Towers when the planes went on crash\n",
      "It wasn't 9-11, but it was 9-1-1\n",
      "Gave him 9 plus 1, dropped a dime on dun\n",
      "I told him get his 9 and run\n",
      "Turned himself in, I had to find that dumb\n",
      "[Chorus: Jaheim]\n",
      "Now Lord you know, just how hard I try\n",
      "To live my life and get it right\n",
      "Trying to see some light or even better\n",
      "Way over way a new day, someday\n",
      "Yesterday was filled with sorrow but tomorrow\n",
      "It gets better I know, tell you, I know\n",
      "\n",
      "[Verse 2: Cam'ron]\n",
      "Ayo, them niggas from the three two, said I can't breeze through\n",
      "The 40 if I cop bottles, we can't believe you\n",
      "Me who? Please boo, landin' in that G2\n",
      "Same color as beef stew, favorite letters: GQ\n",
      "That's me, true, peach/blue, Hebrew\n",
      "Lawyer on my side keep me out of jail the fees stew, steep? Woo!\n",
      "But it might lead to that R2D2, the mobsters creep through\n",
      "We the new PE, shittin, pee-ew\n",
      "To the hood: y'all don't need me, I need you\n",
      "'Cause my mission's insane, you couldn't vision the pain\n",
      "Always a snitch in the game, what you want: prison or fame?\n",
      "Either one, dun, long as my digits the same\n",
      "He lookin' frigid, dig it, make sure them digits get changed\n",
      "'Cause I can't be in Hell's cell, shout out to Mel Mel\n",
      "Cash and Hell Rell, Zeek doin' 3, he even fell, hell\n",
      "He comin' home on '07 and 12 cells\n",
      "'Cause you must have known, I can't trust the phones\n",
      "For the dough you'll be like Doe, stuck at home\n",
      "[Chorus: Jaheim]\n",
      "Now Lord you know, just how hard I try\n",
      "To live my life and get it right\n",
      "Trying to see some light or even better\n",
      "Way over way a new day, someday\n",
      "Yesterday was filled with sorrow but tomorrow\n",
      "It gets better I know, tell you, I know\n",
      "\n",
      "[Verse 3: Cam'ron]\n",
      "Nowadays dog, they raid up in the ballparks\n",
      "Blaze 'em when they cross sharks\n",
      "We raiders of the lost ark\n",
      "I'm like a ballplayer, shake up and cross narcs\n",
      "They get mad when I lay up in the Porsche Box\n",
      "More props, R.I.P. my poor pops\n",
      "Can't see his son shine like the Four Tops\n",
      "My antennas will block the scanners\n",
      "I got blammers, you'll drop your hammers\n",
      "Lawyers to watch lawyers, cameras to watch cameras\n",
      "Niggas to watch bitches, Nana to watch Grandma\n",
      "In pajamas I snuck out to watch Santa\n",
      "Now look at Killa, you gon' watch Santana\n",
      "\n",
      "[Chorus: Jaheim]\n",
      "Now Lord you know, just how hard I try\n",
      "To live my life and get it right\n",
      "Trying to see some light or even better\n",
      "Way over way a new day, someday\n",
      "Yesterday was filled with sorrow but tomorrow\n",
      "It gets better I know, tell you, I know\n",
      "[Verse 4: Juelz Santana]\n",
      "Now I was born by the river in a little tent\n",
      "Little gate, little fence - I climbed over\n",
      "Little scrapes, little dents - I got over\n",
      "That was just the beginning it's not over\n",
      "It's been a long time comin' Cam\n",
      "It's been a long time riding and a long time running, man\n",
      "Shit done changed since The Wop and The Running Man\n",
      "Since Nino, Gee Money, The Carter, and the Duh-Duh Man\n",
      "It's no longer a New Jack City\n",
      "It's \"cop fast and move that quickly\" or cops crash\n",
      "Spent a long time coming up this road\n",
      "And I ain't talking rap, man, I'm coming up this road\n",
      "I'm talking crack, man and coming up with O's\n",
      "I'm coming up with halves and coming up with wholes\n",
      "Shit got hectic had to come up with my hoes\n",
      "They would boof it and go, I receive it move it and roll\n",
      "I was comin' from the Q, Zeek was comin' from the O\n",
      "Jim chose to give his work to smash in dough\n",
      "We was all on the paper-run\n",
      "Yeah, waiting for a change to come\n",
      "Now look: the change has come\n",
      "The 7-Pick Up, Yukon, the Range is come\n",
      "The day has come, Dipset remains the ones\n",
      "Most hated by you other motherfuckers\n",
      "In this game, we remain, it's a shame cuz\n"
     ]
    }
   ],
   "source": [
    "#lyrics.iloc[:10, 2:8]\n",
    "print(lyrics.iat[9,6])"
   ],
   "metadata": {
    "collapsed": false
   }
  },
  {
   "cell_type": "code",
   "execution_count": 12,
   "outputs": [],
   "source": [
    "# Retrieve the content of the cell\n",
    "cell_content = lyrics.iat[1,6]  # Replace with the appropriate row and column labels\n",
    "\n",
    "# Specify the file path and name for the text file\n",
    "file_path = '../files/lyrics.txt'\n",
    "\n",
    "# Write the cell content to the text file\n",
    "with open(file_path, 'w') as file:\n",
    "    file.writelines(str(cell_content))"
   ],
   "metadata": {
    "collapsed": false
   }
  },
  {
   "cell_type": "code",
   "execution_count": 6,
   "outputs": [
    {
     "data": {
      "text/plain": "               title  tag     artist  year   views  \\\n0          Killa Cam  rap    Cam'ron  2004  173166   \n1         Can I Live  rap      JAY-Z  1996  468624   \n2  Forgive Me Father  rap   Fabolous  2003    4743   \n3       Down and Out  rap    Cam'ron  2004  144404   \n4             Fly In  rap  Lil Wayne  2005   78271   \n5     Lollipop Remix  rap  Lil Wayne  2008  580832   \n6         Im Not You  rap     Clipse  2002   28645   \n7        Family Ties  rap    Cam'ron  2004   41960   \n8  Rockin and Rollin  rap    Cam'ron  1998    6399   \n9      Lord You Know  rap    Cam'ron  2004   11882   \n\n                                       features  \\\n0                   {\"Cam\\\\'ron\",\"Opera Steve\"}   \n1                                            {}   \n2                                            {}   \n3  {\"Cam\\\\'ron\",\"Kanye West\",\"Syleena Johnson\"}   \n4                                            {}   \n5                 {\"Kanye West\",\"Static Major\"}   \n6   {Jadakiss,\"Styles P\",\"Roscoe P. Coldchain\"}   \n7                     {\"Cam\\\\'ron\",\"Lady Wray\"}   \n8                                 {\"Cam\\\\'ron\"}   \n9          {\"Cam\\\\'ron\",\"Juelz Santana\",Jaheim}   \n\n                                              lyrics  id language_cld3  \\\n0  [Chorus: Opera Steve & Cam'ron]\\nKilla Cam, Ki...   1            en   \n1  [Produced by Irv Gotti]\\n\\n[Intro]\\nYeah, hah,...   3            en   \n2  Maybe cause I'm eatin\\nAnd these bastards fien...   4            en   \n3  [Produced by Kanye West and Brian Miller]\\n\\n[...   5            en   \n4  [Intro]\\nSo they ask me\\n\"Young boy\\nWhat you ...   6            en   \n5  [Intro: Lil Wayne]\\nHaha\\nUh-huh\\nNo homo (You...   7            en   \n6  [Intro: Pusha T]\\nNo, no, no!\\nI told you, I l...   8            en   \n7  [Verse 1: Cam'ron]\\nKilla, Dipset\\nMan I spit ...   9            en   \n8  [Verse 1]\\nAy yo you wonder who I are\\nI guzzl...  10            en   \n9  [Chorus: Jaheim]\\nNow Lord you know, just how ...  11            en   \n\n  language_ft language  \n0          en       en  \n1          en       en  \n2          en       en  \n3          en       en  \n4          en       en  \n5          en       en  \n6          en       en  \n7          en       en  \n8          en       en  \n9          en       en  ",
      "text/html": "<div>\n<style scoped>\n    .dataframe tbody tr th:only-of-type {\n        vertical-align: middle;\n    }\n\n    .dataframe tbody tr th {\n        vertical-align: top;\n    }\n\n    .dataframe thead th {\n        text-align: right;\n    }\n</style>\n<table border=\"1\" class=\"dataframe\">\n  <thead>\n    <tr style=\"text-align: right;\">\n      <th></th>\n      <th>title</th>\n      <th>tag</th>\n      <th>artist</th>\n      <th>year</th>\n      <th>views</th>\n      <th>features</th>\n      <th>lyrics</th>\n      <th>id</th>\n      <th>language_cld3</th>\n      <th>language_ft</th>\n      <th>language</th>\n    </tr>\n  </thead>\n  <tbody>\n    <tr>\n      <th>0</th>\n      <td>Killa Cam</td>\n      <td>rap</td>\n      <td>Cam'ron</td>\n      <td>2004</td>\n      <td>173166</td>\n      <td>{\"Cam\\\\'ron\",\"Opera Steve\"}</td>\n      <td>[Chorus: Opera Steve &amp; Cam'ron]\\nKilla Cam, Ki...</td>\n      <td>1</td>\n      <td>en</td>\n      <td>en</td>\n      <td>en</td>\n    </tr>\n    <tr>\n      <th>1</th>\n      <td>Can I Live</td>\n      <td>rap</td>\n      <td>JAY-Z</td>\n      <td>1996</td>\n      <td>468624</td>\n      <td>{}</td>\n      <td>[Produced by Irv Gotti]\\n\\n[Intro]\\nYeah, hah,...</td>\n      <td>3</td>\n      <td>en</td>\n      <td>en</td>\n      <td>en</td>\n    </tr>\n    <tr>\n      <th>2</th>\n      <td>Forgive Me Father</td>\n      <td>rap</td>\n      <td>Fabolous</td>\n      <td>2003</td>\n      <td>4743</td>\n      <td>{}</td>\n      <td>Maybe cause I'm eatin\\nAnd these bastards fien...</td>\n      <td>4</td>\n      <td>en</td>\n      <td>en</td>\n      <td>en</td>\n    </tr>\n    <tr>\n      <th>3</th>\n      <td>Down and Out</td>\n      <td>rap</td>\n      <td>Cam'ron</td>\n      <td>2004</td>\n      <td>144404</td>\n      <td>{\"Cam\\\\'ron\",\"Kanye West\",\"Syleena Johnson\"}</td>\n      <td>[Produced by Kanye West and Brian Miller]\\n\\n[...</td>\n      <td>5</td>\n      <td>en</td>\n      <td>en</td>\n      <td>en</td>\n    </tr>\n    <tr>\n      <th>4</th>\n      <td>Fly In</td>\n      <td>rap</td>\n      <td>Lil Wayne</td>\n      <td>2005</td>\n      <td>78271</td>\n      <td>{}</td>\n      <td>[Intro]\\nSo they ask me\\n\"Young boy\\nWhat you ...</td>\n      <td>6</td>\n      <td>en</td>\n      <td>en</td>\n      <td>en</td>\n    </tr>\n    <tr>\n      <th>5</th>\n      <td>Lollipop Remix</td>\n      <td>rap</td>\n      <td>Lil Wayne</td>\n      <td>2008</td>\n      <td>580832</td>\n      <td>{\"Kanye West\",\"Static Major\"}</td>\n      <td>[Intro: Lil Wayne]\\nHaha\\nUh-huh\\nNo homo (You...</td>\n      <td>7</td>\n      <td>en</td>\n      <td>en</td>\n      <td>en</td>\n    </tr>\n    <tr>\n      <th>6</th>\n      <td>Im Not You</td>\n      <td>rap</td>\n      <td>Clipse</td>\n      <td>2002</td>\n      <td>28645</td>\n      <td>{Jadakiss,\"Styles P\",\"Roscoe P. Coldchain\"}</td>\n      <td>[Intro: Pusha T]\\nNo, no, no!\\nI told you, I l...</td>\n      <td>8</td>\n      <td>en</td>\n      <td>en</td>\n      <td>en</td>\n    </tr>\n    <tr>\n      <th>7</th>\n      <td>Family Ties</td>\n      <td>rap</td>\n      <td>Cam'ron</td>\n      <td>2004</td>\n      <td>41960</td>\n      <td>{\"Cam\\\\'ron\",\"Lady Wray\"}</td>\n      <td>[Verse 1: Cam'ron]\\nKilla, Dipset\\nMan I spit ...</td>\n      <td>9</td>\n      <td>en</td>\n      <td>en</td>\n      <td>en</td>\n    </tr>\n    <tr>\n      <th>8</th>\n      <td>Rockin and Rollin</td>\n      <td>rap</td>\n      <td>Cam'ron</td>\n      <td>1998</td>\n      <td>6399</td>\n      <td>{\"Cam\\\\'ron\"}</td>\n      <td>[Verse 1]\\nAy yo you wonder who I are\\nI guzzl...</td>\n      <td>10</td>\n      <td>en</td>\n      <td>en</td>\n      <td>en</td>\n    </tr>\n    <tr>\n      <th>9</th>\n      <td>Lord You Know</td>\n      <td>rap</td>\n      <td>Cam'ron</td>\n      <td>2004</td>\n      <td>11882</td>\n      <td>{\"Cam\\\\'ron\",\"Juelz Santana\",Jaheim}</td>\n      <td>[Chorus: Jaheim]\\nNow Lord you know, just how ...</td>\n      <td>11</td>\n      <td>en</td>\n      <td>en</td>\n      <td>en</td>\n    </tr>\n  </tbody>\n</table>\n</div>"
     },
     "execution_count": 6,
     "metadata": {},
     "output_type": "execute_result"
    }
   ],
   "source": [
    "lyrics.iloc[:10 ]"
   ],
   "metadata": {
    "collapsed": false
   }
  },
  {
   "cell_type": "markdown",
   "source": [
    "## Remove brackets\n",
    "Here we remove the brackets from the lyrics, that they can be used by the classifiers\n"
   ],
   "metadata": {
    "collapsed": false
   }
  },
  {
   "cell_type": "code",
   "execution_count": 7,
   "outputs": [],
   "source": [
    "import re\n",
    "def preprocess(song):\n",
    "    output_text = re.sub(r'\\[\\s*.*?\\s*\\]\\n', '', song)\n",
    "    return output_text"
   ],
   "metadata": {
    "collapsed": false
   }
  },
  {
   "cell_type": "code",
   "execution_count": 11,
   "outputs": [
    {
     "data": {
      "text/plain": "               title  tag     artist  year   views  \\\n0          Killa Cam  rap    Cam'ron  2004  173166   \n1         Can I Live  rap      JAY-Z  1996  468624   \n2  Forgive Me Father  rap   Fabolous  2003    4743   \n3       Down and Out  rap    Cam'ron  2004  144404   \n4             Fly In  rap  Lil Wayne  2005   78271   \n5     Lollipop Remix  rap  Lil Wayne  2008  580832   \n6         Im Not You  rap     Clipse  2002   28645   \n7        Family Ties  rap    Cam'ron  2004   41960   \n8  Rockin and Rollin  rap    Cam'ron  1998    6399   \n9      Lord You Know  rap    Cam'ron  2004   11882   \n\n                                       features  \\\n0                   {\"Cam\\\\'ron\",\"Opera Steve\"}   \n1                                            {}   \n2                                            {}   \n3  {\"Cam\\\\'ron\",\"Kanye West\",\"Syleena Johnson\"}   \n4                                            {}   \n5                 {\"Kanye West\",\"Static Major\"}   \n6   {Jadakiss,\"Styles P\",\"Roscoe P. Coldchain\"}   \n7                     {\"Cam\\\\'ron\",\"Lady Wray\"}   \n8                                 {\"Cam\\\\'ron\"}   \n9          {\"Cam\\\\'ron\",\"Juelz Santana\",Jaheim}   \n\n                                              lyrics  id language_cld3  \\\n0  Killa Cam, Killa Cam, Cam\\nKilla Cam, Killa Ca...   1            en   \n1  \\nYeah, hah, yeah, Roc-A-Fella\\nWe invite you ...   3            en   \n2  Maybe cause I'm eatin\\nAnd these bastards fien...   4            en   \n3  \\nUgh, Killa!\\nBaby!\\nKanye, this that 1970s H...   5            en   \n4  So they ask me\\n\"Young boy\\nWhat you gon' do t...   6            en   \n5  Haha\\nUh-huh\\nNo homo (Young Mula, baby!)\\nI s...   7            en   \n6  No, no, no!\\nI told you, I lived this shit\\nI ...   8            en   \n7  Killa, Dipset\\nMan I spit that pimp talk, you ...   9            en   \n8  Ay yo you wonder who I are\\nI guzzle up at the...  10            en   \n9  Now Lord you know, just how hard I try\\nTo liv...  11            en   \n\n  language_ft language  \n0          en       en  \n1          en       en  \n2          en       en  \n3          en       en  \n4          en       en  \n5          en       en  \n6          en       en  \n7          en       en  \n8          en       en  \n9          en       en  ",
      "text/html": "<div>\n<style scoped>\n    .dataframe tbody tr th:only-of-type {\n        vertical-align: middle;\n    }\n\n    .dataframe tbody tr th {\n        vertical-align: top;\n    }\n\n    .dataframe thead th {\n        text-align: right;\n    }\n</style>\n<table border=\"1\" class=\"dataframe\">\n  <thead>\n    <tr style=\"text-align: right;\">\n      <th></th>\n      <th>title</th>\n      <th>tag</th>\n      <th>artist</th>\n      <th>year</th>\n      <th>views</th>\n      <th>features</th>\n      <th>lyrics</th>\n      <th>id</th>\n      <th>language_cld3</th>\n      <th>language_ft</th>\n      <th>language</th>\n    </tr>\n  </thead>\n  <tbody>\n    <tr>\n      <th>0</th>\n      <td>Killa Cam</td>\n      <td>rap</td>\n      <td>Cam'ron</td>\n      <td>2004</td>\n      <td>173166</td>\n      <td>{\"Cam\\\\'ron\",\"Opera Steve\"}</td>\n      <td>Killa Cam, Killa Cam, Cam\\nKilla Cam, Killa Ca...</td>\n      <td>1</td>\n      <td>en</td>\n      <td>en</td>\n      <td>en</td>\n    </tr>\n    <tr>\n      <th>1</th>\n      <td>Can I Live</td>\n      <td>rap</td>\n      <td>JAY-Z</td>\n      <td>1996</td>\n      <td>468624</td>\n      <td>{}</td>\n      <td>\\nYeah, hah, yeah, Roc-A-Fella\\nWe invite you ...</td>\n      <td>3</td>\n      <td>en</td>\n      <td>en</td>\n      <td>en</td>\n    </tr>\n    <tr>\n      <th>2</th>\n      <td>Forgive Me Father</td>\n      <td>rap</td>\n      <td>Fabolous</td>\n      <td>2003</td>\n      <td>4743</td>\n      <td>{}</td>\n      <td>Maybe cause I'm eatin\\nAnd these bastards fien...</td>\n      <td>4</td>\n      <td>en</td>\n      <td>en</td>\n      <td>en</td>\n    </tr>\n    <tr>\n      <th>3</th>\n      <td>Down and Out</td>\n      <td>rap</td>\n      <td>Cam'ron</td>\n      <td>2004</td>\n      <td>144404</td>\n      <td>{\"Cam\\\\'ron\",\"Kanye West\",\"Syleena Johnson\"}</td>\n      <td>\\nUgh, Killa!\\nBaby!\\nKanye, this that 1970s H...</td>\n      <td>5</td>\n      <td>en</td>\n      <td>en</td>\n      <td>en</td>\n    </tr>\n    <tr>\n      <th>4</th>\n      <td>Fly In</td>\n      <td>rap</td>\n      <td>Lil Wayne</td>\n      <td>2005</td>\n      <td>78271</td>\n      <td>{}</td>\n      <td>So they ask me\\n\"Young boy\\nWhat you gon' do t...</td>\n      <td>6</td>\n      <td>en</td>\n      <td>en</td>\n      <td>en</td>\n    </tr>\n    <tr>\n      <th>5</th>\n      <td>Lollipop Remix</td>\n      <td>rap</td>\n      <td>Lil Wayne</td>\n      <td>2008</td>\n      <td>580832</td>\n      <td>{\"Kanye West\",\"Static Major\"}</td>\n      <td>Haha\\nUh-huh\\nNo homo (Young Mula, baby!)\\nI s...</td>\n      <td>7</td>\n      <td>en</td>\n      <td>en</td>\n      <td>en</td>\n    </tr>\n    <tr>\n      <th>6</th>\n      <td>Im Not You</td>\n      <td>rap</td>\n      <td>Clipse</td>\n      <td>2002</td>\n      <td>28645</td>\n      <td>{Jadakiss,\"Styles P\",\"Roscoe P. Coldchain\"}</td>\n      <td>No, no, no!\\nI told you, I lived this shit\\nI ...</td>\n      <td>8</td>\n      <td>en</td>\n      <td>en</td>\n      <td>en</td>\n    </tr>\n    <tr>\n      <th>7</th>\n      <td>Family Ties</td>\n      <td>rap</td>\n      <td>Cam'ron</td>\n      <td>2004</td>\n      <td>41960</td>\n      <td>{\"Cam\\\\'ron\",\"Lady Wray\"}</td>\n      <td>Killa, Dipset\\nMan I spit that pimp talk, you ...</td>\n      <td>9</td>\n      <td>en</td>\n      <td>en</td>\n      <td>en</td>\n    </tr>\n    <tr>\n      <th>8</th>\n      <td>Rockin and Rollin</td>\n      <td>rap</td>\n      <td>Cam'ron</td>\n      <td>1998</td>\n      <td>6399</td>\n      <td>{\"Cam\\\\'ron\"}</td>\n      <td>Ay yo you wonder who I are\\nI guzzle up at the...</td>\n      <td>10</td>\n      <td>en</td>\n      <td>en</td>\n      <td>en</td>\n    </tr>\n    <tr>\n      <th>9</th>\n      <td>Lord You Know</td>\n      <td>rap</td>\n      <td>Cam'ron</td>\n      <td>2004</td>\n      <td>11882</td>\n      <td>{\"Cam\\\\'ron\",\"Juelz Santana\",Jaheim}</td>\n      <td>Now Lord you know, just how hard I try\\nTo liv...</td>\n      <td>11</td>\n      <td>en</td>\n      <td>en</td>\n      <td>en</td>\n    </tr>\n  </tbody>\n</table>\n</div>"
     },
     "execution_count": 11,
     "metadata": {},
     "output_type": "execute_result"
    }
   ],
   "source": [
    "for i in range(lyrics.shape[0]):\n",
    "    if lyrics['language'][i] != 'en':\n",
    "        lyrics.drop(i)\n",
    "    else:\n",
    "        cleaned = preprocess(lyrics['lyrics'][i])\n",
    "        lyrics.at[i, 'lyrics'] = cleaned\n",
    "\n",
    "\n",
    "lyrics.reset_index(drop=True, inplace=True)\n",
    "lyrics.iloc[:10]"
   ],
   "metadata": {
    "collapsed": false
   }
  },
  {
   "cell_type": "code",
   "execution_count": null,
   "outputs": [],
   "source": [],
   "metadata": {
    "collapsed": false
   }
  }
 ],
 "metadata": {
  "kernelspec": {
   "display_name": "Python 3",
   "language": "python",
   "name": "python3"
  },
  "language_info": {
   "codemirror_mode": {
    "name": "ipython",
    "version": 2
   },
   "file_extension": ".py",
   "mimetype": "text/x-python",
   "name": "python",
   "nbconvert_exporter": "python",
   "pygments_lexer": "ipython2",
   "version": "2.7.6"
  }
 },
 "nbformat": 4,
 "nbformat_minor": 0
}
