{
 "cells": [
  {
   "cell_type": "markdown",
   "source": [
    "## This notebook is dedicated to the exploration of the Lyrics dataset\n"
   ],
   "metadata": {
    "collapsed": false
   }
  },
  {
   "cell_type": "code",
   "execution_count": null,
   "outputs": [],
   "source": [
    "import pandas as pd\n"
   ],
   "metadata": {
    "collapsed": false
   }
  },
  {
   "cell_type": "code",
   "execution_count": null,
   "outputs": [],
   "source": [
    "n_rows = 40000\n",
    "lyrics = pd.read_csv('../song_lyrics.csv', nrows=n_rows)\n",
    "# lyrics[:10, 1:]"
   ],
   "metadata": {
    "collapsed": false
   }
  },
  {
   "cell_type": "code",
   "execution_count": null,
   "outputs": [],
   "source": [
    "#lyrics.iloc[:10, 2:8]\n",
    "print(lyrics.iat[9,6])"
   ],
   "metadata": {
    "collapsed": false
   }
  },
  {
   "cell_type": "code",
   "execution_count": null,
   "outputs": [],
   "source": [
    "lyrics.iloc[:10 ]"
   ],
   "metadata": {
    "collapsed": false
   }
  },
  {
   "cell_type": "markdown",
   "source": [
    "## Remove brackets\n",
    "Here we remove the brackets from the lyrics, that they can be used by the classifiers\n"
   ],
   "metadata": {
    "collapsed": false
   }
  },
  {
   "cell_type": "code",
   "execution_count": null,
   "outputs": [],
   "source": [
    "import re\n",
    "def preprocess(song):\n",
    "    output_text = re.sub(r'\\[\\s*.*?\\s*\\]\\n', '', song)\n",
    "    return output_text"
   ],
   "metadata": {
    "collapsed": false
   }
  },
  {
   "cell_type": "code",
   "execution_count": null,
   "outputs": [],
   "source": [
    "# Retrieve the content of the cell\n",
    "import string\n",
    "cell_content = lyrics.iat[5000,6]  # Replace with the appropriate row and column labels\n",
    "# print(str(cell_content))\n",
    "# Specify the file path and name for the text file\n",
    "file_path = '../files/lyrics.txt'\n",
    "\n",
    "# Write the cell content to the text file\n",
    "with open(file_path, 'w') as file:\n",
    "    lines = str(cell_content).splitlines()\n",
    "    for line in lines:\n",
    "        if line.strip():  # Check if the line is non-blank\n",
    "            # print(line)\n",
    "            last_two_words = re.findall(r'\\b(\\w+\\W*\\w+)\\W*$', line)[-1]\n",
    "            last_two_words = re.sub(r'\\d', '', last_two_words)  # Remove numbers\n",
    "            last_two_words = last_two_words.translate(str.maketrans('', '', string.punctuation))  # Remove punctuation\n",
    "            file.write(last_two_words + '\\n')"
   ],
   "metadata": {
    "collapsed": false
   }
  },
  {
   "cell_type": "markdown",
   "source": [
    "Here we remove the lyrics of the other languages that are not english, we drop each row which contains such\n",
    "and we reindex the table afterwards"
   ],
   "metadata": {
    "collapsed": false
   }
  },
  {
   "cell_type": "code",
   "execution_count": null,
   "outputs": [],
   "source": [
    "\n",
    "for i, row in lyrics.iterrows():\n",
    "    if row['language'] != 'en':\n",
    "        lyrics.drop(i, inplace=True)\n",
    "        # print('Hey it is not an english lyrics!')\n",
    "    else:\n",
    "        cleaned = preprocess(row['lyrics'])\n",
    "        lyrics.at[i, 'lyrics'] = cleaned\n",
    "\n",
    "\n",
    "lyrics.reset_index(drop=True, inplace=True)\n",
    "# lyrics.iloc[:10]"
   ],
   "metadata": {
    "collapsed": false
   }
  },
  {
   "cell_type": "code",
   "execution_count": null,
   "outputs": [],
   "source": [
    "print(lyrics.shape)"
   ],
   "metadata": {
    "collapsed": false
   }
  },
  {
   "cell_type": "markdown",
   "source": [
    "## Rhyme extraction\n",
    "What could be the desired marked formats?\n",
    "1. Most frequent scheme - ABAB, ABBA (underfitting)\n",
    "2. The exact words that are being rhymed?\n",
    "3. The whole rhyming scheme of the song - ABABCDDC-FFFF-ABABCDCD-FFFF-FFFF (overfitting)\n",
    "4. Multisyllable rhymes - (AB)(AB)(CB)(CB)"
   ],
   "metadata": {
    "collapsed": false
   }
  },
  {
   "cell_type": "code",
   "execution_count": 27,
   "outputs": [
    {
     "name": "stdout",
     "output_type": "stream",
     "text": [
      "Error\n",
      "Error\n",
      "Error\n",
      "Error\n"
     ]
    }
   ],
   "source": [
    "# Specify the file path and name\n",
    "file_path = '../cmudict-0.7b.txt'\n",
    "\n",
    "# Create an empty dictionary to store the word-phoneme mappings\n",
    "word_phoneme_dict = {}\n",
    "\n",
    "encodings = ['utf-8', 'latin-1', 'utf-16', 'cp1252']\n",
    "for encoding in encodings:\n",
    "    try:\n",
    "        with open(file_path, 'r') as file:\n",
    "            for line in file:\n",
    "                line = line.strip()\n",
    "                if line:\n",
    "                    split = line.split()\n",
    "                    word_phoneme_dict[split[0]] = ' '.join(split[1:])\n",
    "            # break\n",
    "    except UnicodeDecodeError:\n",
    "        print('Error')\n",
    "\n",
    "# Print the dictionary\n",
    "#print(word_phoneme_dict)"
   ],
   "metadata": {
    "collapsed": false
   }
  },
  {
   "cell_type": "code",
   "execution_count": 28,
   "outputs": [
    {
     "name": "stdout",
     "output_type": "stream",
     "text": [
      "None\n",
      "35129\n"
     ]
    }
   ],
   "source": [
    "print(word_phoneme_dict.get('FOOTBALL'))\n",
    "print(len(word_phoneme_dict))\n",
    "# print(word_phoneme_dict)"
   ],
   "metadata": {
    "collapsed": false
   }
  },
  {
   "cell_type": "code",
   "execution_count": 29,
   "outputs": [
    {
     "name": "stdout",
     "output_type": "stream",
     "text": [
      "Available Memory: 5.97 GB\n"
     ]
    }
   ],
   "source": [
    "import psutil\n",
    "\n",
    "# Get the current available memory in bytes\n",
    "available_memory = psutil.virtual_memory().available\n",
    "\n",
    "# Convert bytes to human-readable format\n",
    "available_memory_gb = available_memory / (1024 ** 3)  # Convert bytes to gigabytes\n",
    "\n",
    "# Print the available memory\n",
    "print(f\"Available Memory: {available_memory_gb:.2f} GB\")\n"
   ],
   "metadata": {
    "collapsed": false
   }
  },
  {
   "cell_type": "code",
   "execution_count": 24,
   "outputs": [
    {
     "name": "stdout",
     "output_type": "stream",
     "text": [
      "Requirement already satisfied: SQLAlchemy in /Users/zhenyabudnyk/PycharmProjects/LyrAIX/venv/lib/python3.8/site-packages (1.4.43)\r\n",
      "Requirement already satisfied: greenlet!=0.4.17 in /Users/zhenyabudnyk/PycharmProjects/LyrAIX/venv/lib/python3.8/site-packages (from SQLAlchemy) (2.0.1)\r\n",
      "\u001B[33mWARNING: You are using pip version 21.3.1; however, version 23.1.2 is available.\r\n",
      "You should consider upgrading via the '/Users/zhenyabudnyk/PycharmProjects/LyrAIX/venv/bin/python -m pip install --upgrade pip' command.\u001B[0m\r\n"
     ]
    }
   ],
   "source": [
    "# here a database will be created to store the key-value pairs\n",
    "!pip install SQLAlchemy"
   ],
   "metadata": {
    "collapsed": false
   }
  },
  {
   "cell_type": "code",
   "execution_count": 55,
   "outputs": [],
   "source": [
    "from sqlalchemy import create_engine, Column, String\n",
    "from sqlalchemy.ext.declarative import declarative_base\n",
    "from sqlalchemy.orm import sessionmaker\n",
    "\n",
    "# Create the SQLAlchemy engine\n",
    "engine = create_engine('sqlite:///word_phonemes.db')\n",
    "Base = declarative_base()\n",
    "Session = sessionmaker(bind=engine)\n",
    "session = Session()"
   ],
   "metadata": {
    "collapsed": false
   }
  },
  {
   "cell_type": "code",
   "execution_count": 56,
   "outputs": [],
   "source": [
    "from sqlalchemy import Column, Integer, String\n",
    "\n",
    "class KeyValue(Base):\n",
    "    __tablename__ = 'word_phonemes'\n",
    "\n",
    "    id = Column(Integer, primary_key=True, autoincrement=True)\n",
    "    key = Column(String)\n",
    "    value = Column(String)\n",
    "\n",
    "    def __init__(self, key, value):\n",
    "        self.key = key\n",
    "        self.value = value\n",
    "\n",
    "Base.metadata.create_all(engine)"
   ],
   "metadata": {
    "collapsed": false
   }
  },
  {
   "cell_type": "code",
   "execution_count": 57,
   "outputs": [
    {
     "name": "stdout",
     "output_type": "stream",
     "text": [
      "Error\n",
      "Error\n",
      "Error\n",
      "Error\n"
     ]
    }
   ],
   "source": [
    "file_path = '../cmudict-0.7b.txt'\n",
    "\n",
    "# Create an empty dictionary to store the word-phoneme mappings\n",
    "word_phoneme_dict = {}\n",
    "\n",
    "encodings = ['utf-8', 'latin-1', 'utf-16', 'cp1252']\n",
    "for encoding in encodings:\n",
    "    try:\n",
    "        with open(file_path, 'r') as file:\n",
    "            for line in file:\n",
    "                line = line.strip()\n",
    "                if line:\n",
    "                    split = line.split()\n",
    "                    # word_phoneme_dict[split[0]] = ' '.join(split[1:])\n",
    "                    key_value = KeyValue(key=split[0], value=' '.join(split[1:]))\n",
    "                    session.add(key_value)\n",
    "            # break\n",
    "    except UnicodeDecodeError:\n",
    "        print('Error')\n"
   ],
   "metadata": {
    "collapsed": false
   }
  },
  {
   "cell_type": "markdown",
   "source": [],
   "metadata": {
    "collapsed": false
   }
  },
  {
   "cell_type": "code",
   "execution_count": 58,
   "outputs": [],
   "source": [
    "session.commit()\n",
    "session.close()\n",
    "engine.dispose()"
   ],
   "metadata": {
    "collapsed": false
   }
  },
  {
   "cell_type": "markdown",
   "source": [
    "## Topic Modelling and Extraction\n"
   ],
   "metadata": {
    "collapsed": false
   }
  },
  {
   "cell_type": "markdown",
   "source": [
    "## Affect labeling"
   ],
   "metadata": {
    "collapsed": false
   }
  },
  {
   "cell_type": "code",
   "execution_count": null,
   "outputs": [],
   "source": [],
   "metadata": {
    "collapsed": false
   }
  },
  {
   "cell_type": "code",
   "execution_count": null,
   "outputs": [],
   "source": [],
   "metadata": {
    "collapsed": false
   }
  }
 ],
 "metadata": {
  "kernelspec": {
   "display_name": "Python 3",
   "language": "python",
   "name": "python3"
  },
  "language_info": {
   "codemirror_mode": {
    "name": "ipython",
    "version": 2
   },
   "file_extension": ".py",
   "mimetype": "text/x-python",
   "name": "python",
   "nbconvert_exporter": "python",
   "pygments_lexer": "ipython2",
   "version": "2.7.6"
  }
 },
 "nbformat": 4,
 "nbformat_minor": 0
}
