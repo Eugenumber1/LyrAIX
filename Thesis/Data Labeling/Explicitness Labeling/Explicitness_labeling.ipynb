{
 "cells": [
  {
   "cell_type": "code",
   "execution_count": 1,
   "id": "c12c8385-fd89-408f-8ce1-c20d08b8387e",
   "metadata": {},
   "outputs": [],
   "source": [
    "import pandas as pd\n"
   ]
  },
  {
   "cell_type": "code",
   "execution_count": 20,
   "id": "0273ecb7-d795-4377-a299-8af1aebab1f9",
   "metadata": {},
   "outputs": [],
   "source": [
    "lyrics = pd.read_csv('Rap/song_parts.csv')\n",
    "\n"
   ]
  },
  {
   "cell_type": "code",
   "execution_count": 23,
   "id": "b4f0dc8c-4831-4815-8057-985d5bc3e53b",
   "metadata": {},
   "outputs": [
    {
     "name": "stdout",
     "output_type": "stream",
     "text": [
      "(5472341, 7)\n"
     ]
    }
   ],
   "source": [
    "print(lyrics.shape)\n",
    "lyrics.dropna(subset=['lyrics'], inplace=True)"
   ]
  },
  {
   "cell_type": "code",
   "execution_count": 24,
   "id": "94f60cbd-aa0b-463c-9a0c-0d1406ac5e3c",
   "metadata": {},
   "outputs": [
    {
     "name": "stdout",
     "output_type": "stream",
     "text": [
      "0\n"
     ]
    }
   ],
   "source": [
    "count = lyrics['lyrics'].isna().sum()\n",
    "print(count)"
   ]
  },
  {
   "cell_type": "code",
   "execution_count": 25,
   "id": "a03b652d-6966-4da7-81b8-8b147e4af86d",
   "metadata": {},
   "outputs": [],
   "source": [
    "profanities = set()\n",
    "with open('profanities.txt', 'r') as file:\n",
    "    prof_string = file.read().replace('\\n', '')\n",
    "    prof_tokens = prof_string.split(\", \")\n",
    "    for token in prof_tokens:\n",
    "        profanities.add(token)"
   ]
  },
  {
   "cell_type": "code",
   "execution_count": 30,
   "id": "01c4f1d6-9fb1-4c40-b2db-6f67a3883f2b",
   "metadata": {},
   "outputs": [],
   "source": [
    "from nltk.tokenize import RegexpTokenizer\n",
    "from nltk.stem.wordnet import WordNetLemmatizer\n",
    "lemmatizer = WordNetLemmatizer()\n",
    "tokenizer = RegexpTokenizer(r'\\w+')\n",
    "\n",
    "def find_explicitness(song):\n",
    "    #  print(song)\n",
    "    tokenized_song = tokenizer.tokenize(song.lower())\n",
    "    lemmas = (lemmatizer.lemmatize(token) for token in tokenized_song)\n",
    "    if any(lemma in profanities for lemma in lemmas):\n",
    "        return 'Explicit content'\n",
    "\n",
    "    return 'Normal'"
   ]
  },
  {
   "cell_type": "code",
   "execution_count": 31,
   "id": "b2633124-6014-4738-8103-c1d873b32592",
   "metadata": {},
   "outputs": [
    {
     "name": "stderr",
     "output_type": "stream",
     "text": [
      "[nltk_data] Downloading package wordnet to /home/jovyan/nltk_data...\n",
      "[nltk_data]   Package wordnet is already up-to-date!\n"
     ]
    },
    {
     "data": {
      "text/plain": [
       "True"
      ]
     },
     "execution_count": 31,
     "metadata": {},
     "output_type": "execute_result"
    }
   ],
   "source": [
    "import nltk\n",
    "nltk.download('wordnet')"
   ]
  },
  {
   "cell_type": "code",
   "execution_count": 32,
   "id": "0a019f4d-90cb-4d98-8d7e-6390be0c3bb9",
   "metadata": {},
   "outputs": [],
   "source": [
    "#print(lyrics['lyrics'][0])"
   ]
  },
  {
   "cell_type": "code",
   "execution_count": 33,
   "id": "2137681e-1e40-4b22-974c-8019b48c943c",
   "metadata": {},
   "outputs": [
    {
     "name": "stderr",
     "output_type": "stream",
     "text": [
      "100%|██████████| 5334078/5334078 [12:25<00:00, 7158.63it/s]\n"
     ]
    }
   ],
   "source": [
    "from tqdm import tqdm\n",
    "\n",
    "tqdm.pandas()\n",
    "\n",
    "lyrics['explicitness'] = lyrics['lyrics'].progress_apply(find_explicitness)"
   ]
  },
  {
   "cell_type": "code",
   "execution_count": 34,
   "id": "517371cf-9142-4482-bbfd-2001e309e5ce",
   "metadata": {},
   "outputs": [],
   "source": [
    "lyrics.to_csv('song_parts.csv', index=False)"
   ]
  },
  {
   "cell_type": "code",
   "execution_count": null,
   "id": "0fa78175-5ad3-4ded-aea5-93ace6c88e5b",
   "metadata": {},
   "outputs": [],
   "source": []
  }
 ],
 "metadata": {
  "kernelspec": {
   "display_name": "Python",
   "language": "python",
   "name": "python3"
  },
  "language_info": {
   "codemirror_mode": {
    "name": "ipython",
    "version": 3
   },
   "file_extension": ".py",
   "mimetype": "text/x-python",
   "name": "python",
   "nbconvert_exporter": "python",
   "pygments_lexer": "ipython3",
   "version": "3.8.10"
  }
 },
 "nbformat": 4,
 "nbformat_minor": 5
}
