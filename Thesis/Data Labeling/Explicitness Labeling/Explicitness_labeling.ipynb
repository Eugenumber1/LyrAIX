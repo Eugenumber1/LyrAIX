{
 "cells": [
  {
   "cell_type": "code",
   "execution_count": 2,
   "id": "c12c8385-fd89-408f-8ce1-c20d08b8387e",
   "metadata": {},
   "outputs": [],
   "source": [
    "import pandas as pd\n"
   ]
  },
  {
   "cell_type": "code",
   "execution_count": 3,
   "id": "0273ecb7-d795-4377-a299-8af1aebab1f9",
   "metadata": {},
   "outputs": [],
   "source": [
    "lyrics = pd.read_csv('/Users/zhenyabudnyk/PycharmProjects/LyrAIX/Thesis/Research Questions/RQ1/prompts.csv')\n",
    "\n"
   ]
  },
  {
   "cell_type": "code",
   "execution_count": 4,
   "outputs": [
    {
     "data": {
      "text/plain": "     Unnamed: 0.2  Unnamed: 0.1  Unnamed: 0 Valence Arousal Dominance    Part  \\\n0               0             0           0    High     Low    Medium  Chorus   \n1               1             1           1    High  Medium       Low  Bridge   \n2               2             2           2    High  Medium      High  Chorus   \n3               3             3           3  Medium     Low      High  Bridge   \n4               4             4           4  Medium    High    Medium  Chorus   \n..            ...           ...         ...     ...     ...       ...     ...   \n295           295           295         295    High    High       Low   Verse   \n296           296           296         296    High     Low      High   Verse   \n297           297           297         297     Low    High    Medium   Verse   \n298           298           298         298  Medium  Medium       Low   Verse   \n299           299           299         299    High    High      High   Verse   \n\n                          Artist                   Topic      Explicitness  \\\n0                     Sofya Wang  life and relationships            Normal   \n1                    Chiddy Bang  life and relationships            Normal   \n2                        Shwayze  life and relationships            Normal   \n3                   Dove Cameron                 general            Normal   \n4                         Weezer                 general            Normal   \n..                           ...                     ...               ...   \n295             The Irish Rovers                 general            Normal   \n296  Genius English Translations  life and relationships  Explicit content   \n297           Tiana Major9 & SiR                 general            Normal   \n298                  Spacey Jane    religion and society  Explicit content   \n299                   Chief Keef  life and relationships            Normal   \n\n                                                Scheme  \\\n0                                      0-0-0-1-0-0-1-1   \n1                                      0-0-1-2-3-4-5-6   \n2                                        0-1-2-0-3-3-4   \n3                                          0-1-2-1-1-1   \n4                                                    0   \n..                                                 ...   \n295  0-1-2-3-4-5-6-7-8-9-10-11-12-13-14-15-16-17-18...   \n296                                            0-0-0-0   \n297                                            0-1-2-1   \n298                                            0-1-2-3   \n299                                      0-1-1-2-2-1-3   \n\n                                           Instruction  \\\n0    Generate a Chorus of song lyrics in the style ...   \n1    Generate a Bridge of song lyrics in the style ...   \n2    Generate a Chorus of song lyrics in the style ...   \n3    Generate a Bridge of song lyrics in the style ...   \n4    Generate a Chorus of song lyrics in the style ...   \n..                                                 ...   \n295  Generate a Verse of song lyrics in the style o...   \n296  Generate a Verse of song lyrics in the style o...   \n297  Generate a Verse of song lyrics in the style o...   \n298  Generate a Verse of song lyrics in the style o...   \n299  Generate a Verse of song lyrics in the style o...   \n\n                                               results predicted explicitness  \n0    We're lying, we're lying in the shadows\\nI'm f...                 Normal  \n1    You don't wanna party\\nWhy you tryna party\\nI ...                 Normal  \n2    And if you run from me, baby, run from me\\nYou...                 Normal  \n3    Swing on by, all you can hear is me\\nLet's get...                 Normal  \n4            Singing like a symphony in a restaurant\\n                 Normal  \n..                                                 ...                    ...  \n295  Down to the wire\\nI'm down to the wire\\nI'm do...                 Normal  \n296  Well, I want to taste my eyes\\nI wanna see the...                 Normal  \n297  It's a big world, but I gotta do my thing\\nThe...                 Normal  \n298  Him to me a mwah a cryd for the people that kn...                 Normal  \n299  I been going every day, all the day\\nGot a lot...                 Normal  \n\n[300 rows x 14 columns]",
      "text/html": "<div>\n<style scoped>\n    .dataframe tbody tr th:only-of-type {\n        vertical-align: middle;\n    }\n\n    .dataframe tbody tr th {\n        vertical-align: top;\n    }\n\n    .dataframe thead th {\n        text-align: right;\n    }\n</style>\n<table border=\"1\" class=\"dataframe\">\n  <thead>\n    <tr style=\"text-align: right;\">\n      <th></th>\n      <th>Unnamed: 0.2</th>\n      <th>Unnamed: 0.1</th>\n      <th>Unnamed: 0</th>\n      <th>Valence</th>\n      <th>Arousal</th>\n      <th>Dominance</th>\n      <th>Part</th>\n      <th>Artist</th>\n      <th>Topic</th>\n      <th>Explicitness</th>\n      <th>Scheme</th>\n      <th>Instruction</th>\n      <th>results</th>\n      <th>predicted explicitness</th>\n    </tr>\n  </thead>\n  <tbody>\n    <tr>\n      <th>0</th>\n      <td>0</td>\n      <td>0</td>\n      <td>0</td>\n      <td>High</td>\n      <td>Low</td>\n      <td>Medium</td>\n      <td>Chorus</td>\n      <td>Sofya Wang</td>\n      <td>life and relationships</td>\n      <td>Normal</td>\n      <td>0-0-0-1-0-0-1-1</td>\n      <td>Generate a Chorus of song lyrics in the style ...</td>\n      <td>We're lying, we're lying in the shadows\\nI'm f...</td>\n      <td>Normal</td>\n    </tr>\n    <tr>\n      <th>1</th>\n      <td>1</td>\n      <td>1</td>\n      <td>1</td>\n      <td>High</td>\n      <td>Medium</td>\n      <td>Low</td>\n      <td>Bridge</td>\n      <td>Chiddy Bang</td>\n      <td>life and relationships</td>\n      <td>Normal</td>\n      <td>0-0-1-2-3-4-5-6</td>\n      <td>Generate a Bridge of song lyrics in the style ...</td>\n      <td>You don't wanna party\\nWhy you tryna party\\nI ...</td>\n      <td>Normal</td>\n    </tr>\n    <tr>\n      <th>2</th>\n      <td>2</td>\n      <td>2</td>\n      <td>2</td>\n      <td>High</td>\n      <td>Medium</td>\n      <td>High</td>\n      <td>Chorus</td>\n      <td>Shwayze</td>\n      <td>life and relationships</td>\n      <td>Normal</td>\n      <td>0-1-2-0-3-3-4</td>\n      <td>Generate a Chorus of song lyrics in the style ...</td>\n      <td>And if you run from me, baby, run from me\\nYou...</td>\n      <td>Normal</td>\n    </tr>\n    <tr>\n      <th>3</th>\n      <td>3</td>\n      <td>3</td>\n      <td>3</td>\n      <td>Medium</td>\n      <td>Low</td>\n      <td>High</td>\n      <td>Bridge</td>\n      <td>Dove Cameron</td>\n      <td>general</td>\n      <td>Normal</td>\n      <td>0-1-2-1-1-1</td>\n      <td>Generate a Bridge of song lyrics in the style ...</td>\n      <td>Swing on by, all you can hear is me\\nLet's get...</td>\n      <td>Normal</td>\n    </tr>\n    <tr>\n      <th>4</th>\n      <td>4</td>\n      <td>4</td>\n      <td>4</td>\n      <td>Medium</td>\n      <td>High</td>\n      <td>Medium</td>\n      <td>Chorus</td>\n      <td>Weezer</td>\n      <td>general</td>\n      <td>Normal</td>\n      <td>0</td>\n      <td>Generate a Chorus of song lyrics in the style ...</td>\n      <td>Singing like a symphony in a restaurant\\n</td>\n      <td>Normal</td>\n    </tr>\n    <tr>\n      <th>...</th>\n      <td>...</td>\n      <td>...</td>\n      <td>...</td>\n      <td>...</td>\n      <td>...</td>\n      <td>...</td>\n      <td>...</td>\n      <td>...</td>\n      <td>...</td>\n      <td>...</td>\n      <td>...</td>\n      <td>...</td>\n      <td>...</td>\n      <td>...</td>\n    </tr>\n    <tr>\n      <th>295</th>\n      <td>295</td>\n      <td>295</td>\n      <td>295</td>\n      <td>High</td>\n      <td>High</td>\n      <td>Low</td>\n      <td>Verse</td>\n      <td>The Irish Rovers</td>\n      <td>general</td>\n      <td>Normal</td>\n      <td>0-1-2-3-4-5-6-7-8-9-10-11-12-13-14-15-16-17-18...</td>\n      <td>Generate a Verse of song lyrics in the style o...</td>\n      <td>Down to the wire\\nI'm down to the wire\\nI'm do...</td>\n      <td>Normal</td>\n    </tr>\n    <tr>\n      <th>296</th>\n      <td>296</td>\n      <td>296</td>\n      <td>296</td>\n      <td>High</td>\n      <td>Low</td>\n      <td>High</td>\n      <td>Verse</td>\n      <td>Genius English Translations</td>\n      <td>life and relationships</td>\n      <td>Explicit content</td>\n      <td>0-0-0-0</td>\n      <td>Generate a Verse of song lyrics in the style o...</td>\n      <td>Well, I want to taste my eyes\\nI wanna see the...</td>\n      <td>Normal</td>\n    </tr>\n    <tr>\n      <th>297</th>\n      <td>297</td>\n      <td>297</td>\n      <td>297</td>\n      <td>Low</td>\n      <td>High</td>\n      <td>Medium</td>\n      <td>Verse</td>\n      <td>Tiana Major9 &amp; SiR</td>\n      <td>general</td>\n      <td>Normal</td>\n      <td>0-1-2-1</td>\n      <td>Generate a Verse of song lyrics in the style o...</td>\n      <td>It's a big world, but I gotta do my thing\\nThe...</td>\n      <td>Normal</td>\n    </tr>\n    <tr>\n      <th>298</th>\n      <td>298</td>\n      <td>298</td>\n      <td>298</td>\n      <td>Medium</td>\n      <td>Medium</td>\n      <td>Low</td>\n      <td>Verse</td>\n      <td>Spacey Jane</td>\n      <td>religion and society</td>\n      <td>Explicit content</td>\n      <td>0-1-2-3</td>\n      <td>Generate a Verse of song lyrics in the style o...</td>\n      <td>Him to me a mwah a cryd for the people that kn...</td>\n      <td>Normal</td>\n    </tr>\n    <tr>\n      <th>299</th>\n      <td>299</td>\n      <td>299</td>\n      <td>299</td>\n      <td>High</td>\n      <td>High</td>\n      <td>High</td>\n      <td>Verse</td>\n      <td>Chief Keef</td>\n      <td>life and relationships</td>\n      <td>Normal</td>\n      <td>0-1-1-2-2-1-3</td>\n      <td>Generate a Verse of song lyrics in the style o...</td>\n      <td>I been going every day, all the day\\nGot a lot...</td>\n      <td>Normal</td>\n    </tr>\n  </tbody>\n</table>\n<p>300 rows × 14 columns</p>\n</div>"
     },
     "execution_count": 4,
     "metadata": {},
     "output_type": "execute_result"
    }
   ],
   "source": [
    "lyrics"
   ],
   "metadata": {
    "collapsed": false
   }
  },
  {
   "cell_type": "code",
   "execution_count": 23,
   "id": "b4f0dc8c-4831-4815-8057-985d5bc3e53b",
   "metadata": {},
   "outputs": [
    {
     "name": "stdout",
     "output_type": "stream",
     "text": [
      "(5472341, 7)\n"
     ]
    }
   ],
   "source": [
    "print(lyrics.shape)\n",
    "lyrics.dropna(subset=['lyrics'], inplace=True)"
   ]
  },
  {
   "cell_type": "code",
   "execution_count": 24,
   "id": "94f60cbd-aa0b-463c-9a0c-0d1406ac5e3c",
   "metadata": {},
   "outputs": [
    {
     "name": "stdout",
     "output_type": "stream",
     "text": [
      "0\n"
     ]
    }
   ],
   "source": [
    "count = lyrics['lyrics'].isna().sum()\n",
    "print(count)"
   ]
  },
  {
   "cell_type": "code",
   "execution_count": 5,
   "id": "a03b652d-6966-4da7-81b8-8b147e4af86d",
   "metadata": {},
   "outputs": [],
   "source": [
    "profanities = set()\n",
    "with open('profanities.txt', 'r') as file:\n",
    "    prof_string = file.read().replace('\\n', '')\n",
    "    prof_tokens = prof_string.split(\", \")\n",
    "    for token in prof_tokens:\n",
    "        profanities.add(token)"
   ]
  },
  {
   "cell_type": "code",
   "execution_count": 6,
   "id": "01c4f1d6-9fb1-4c40-b2db-6f67a3883f2b",
   "metadata": {},
   "outputs": [],
   "source": [
    "from nltk.tokenize import RegexpTokenizer\n",
    "from nltk.stem.wordnet import WordNetLemmatizer\n",
    "lemmatizer = WordNetLemmatizer()\n",
    "tokenizer = RegexpTokenizer(r'\\w+')\n",
    "\n",
    "def find_explicitness(song):\n",
    "    #  print(song)\n",
    "    tokenized_song = tokenizer.tokenize(song.lower())\n",
    "    lemmas = (lemmatizer.lemmatize(token) for token in tokenized_song)\n",
    "    if any(lemma in profanities for lemma in lemmas):\n",
    "        return 'Explicit content'\n",
    "\n",
    "    return 'Normal'"
   ]
  },
  {
   "cell_type": "code",
   "execution_count": 31,
   "id": "b2633124-6014-4738-8103-c1d873b32592",
   "metadata": {},
   "outputs": [
    {
     "name": "stderr",
     "output_type": "stream",
     "text": [
      "[nltk_data] Downloading package wordnet to /home/jovyan/nltk_data...\n",
      "[nltk_data]   Package wordnet is already up-to-date!\n"
     ]
    },
    {
     "data": {
      "text/plain": [
       "True"
      ]
     },
     "execution_count": 31,
     "metadata": {},
     "output_type": "execute_result"
    }
   ],
   "source": [
    "import nltk\n",
    "nltk.download('wordnet')"
   ]
  },
  {
   "cell_type": "code",
   "execution_count": 32,
   "id": "0a019f4d-90cb-4d98-8d7e-6390be0c3bb9",
   "metadata": {},
   "outputs": [],
   "source": [
    "#print(lyrics['lyrics'][0])"
   ]
  },
  {
   "cell_type": "code",
   "execution_count": 7,
   "id": "2137681e-1e40-4b22-974c-8019b48c943c",
   "metadata": {},
   "outputs": [
    {
     "name": "stderr",
     "output_type": "stream",
     "text": [
      "100%|██████████| 300/300 [00:02<00:00, 133.46it/s]\n"
     ]
    }
   ],
   "source": [
    "from tqdm import tqdm\n",
    "\n",
    "tqdm.pandas()\n",
    "\n",
    "lyrics['predicted explicitness'] = lyrics['results'].progress_apply(find_explicitness)"
   ]
  },
  {
   "cell_type": "code",
   "execution_count": 8,
   "outputs": [
    {
     "data": {
      "text/plain": "     Unnamed: 0.2  Unnamed: 0.1  Unnamed: 0 Valence Arousal Dominance    Part  \\\n0               0             0           0    High     Low    Medium  Chorus   \n1               1             1           1    High  Medium       Low  Bridge   \n2               2             2           2    High  Medium      High  Chorus   \n3               3             3           3  Medium     Low      High  Bridge   \n4               4             4           4  Medium    High    Medium  Chorus   \n..            ...           ...         ...     ...     ...       ...     ...   \n295           295           295         295    High    High       Low   Verse   \n296           296           296         296    High     Low      High   Verse   \n297           297           297         297     Low    High    Medium   Verse   \n298           298           298         298  Medium  Medium       Low   Verse   \n299           299           299         299    High    High      High   Verse   \n\n                          Artist                   Topic      Explicitness  \\\n0                     Sofya Wang  life and relationships            Normal   \n1                    Chiddy Bang  life and relationships            Normal   \n2                        Shwayze  life and relationships            Normal   \n3                   Dove Cameron                 general            Normal   \n4                         Weezer                 general            Normal   \n..                           ...                     ...               ...   \n295             The Irish Rovers                 general            Normal   \n296  Genius English Translations  life and relationships  Explicit content   \n297           Tiana Major9 & SiR                 general            Normal   \n298                  Spacey Jane    religion and society  Explicit content   \n299                   Chief Keef  life and relationships            Normal   \n\n                                                Scheme  \\\n0                                      0-0-0-1-0-0-1-1   \n1                                      0-0-1-2-3-4-5-6   \n2                                        0-1-2-0-3-3-4   \n3                                          0-1-2-1-1-1   \n4                                                    0   \n..                                                 ...   \n295  0-1-2-3-4-5-6-7-8-9-10-11-12-13-14-15-16-17-18...   \n296                                            0-0-0-0   \n297                                            0-1-2-1   \n298                                            0-1-2-3   \n299                                      0-1-1-2-2-1-3   \n\n                                           Instruction  \\\n0    Generate a Chorus of song lyrics in the style ...   \n1    Generate a Bridge of song lyrics in the style ...   \n2    Generate a Chorus of song lyrics in the style ...   \n3    Generate a Bridge of song lyrics in the style ...   \n4    Generate a Chorus of song lyrics in the style ...   \n..                                                 ...   \n295  Generate a Verse of song lyrics in the style o...   \n296  Generate a Verse of song lyrics in the style o...   \n297  Generate a Verse of song lyrics in the style o...   \n298  Generate a Verse of song lyrics in the style o...   \n299  Generate a Verse of song lyrics in the style o...   \n\n                                               results predicted explicitness  \n0    We're lying, we're lying in the shadows\\nI'm f...                 Normal  \n1    You don't wanna party\\nWhy you tryna party\\nI ...                 Normal  \n2    And if you run from me, baby, run from me\\nYou...                 Normal  \n3    Swing on by, all you can hear is me\\nLet's get...                 Normal  \n4            Singing like a symphony in a restaurant\\n                 Normal  \n..                                                 ...                    ...  \n295  Down to the wire\\nI'm down to the wire\\nI'm do...                 Normal  \n296  Well, I want to taste my eyes\\nI wanna see the...                 Normal  \n297  It's a big world, but I gotta do my thing\\nThe...                 Normal  \n298  Him to me a mwah a cryd for the people that kn...                 Normal  \n299  I been going every day, all the day\\nGot a lot...                 Normal  \n\n[300 rows x 14 columns]",
      "text/html": "<div>\n<style scoped>\n    .dataframe tbody tr th:only-of-type {\n        vertical-align: middle;\n    }\n\n    .dataframe tbody tr th {\n        vertical-align: top;\n    }\n\n    .dataframe thead th {\n        text-align: right;\n    }\n</style>\n<table border=\"1\" class=\"dataframe\">\n  <thead>\n    <tr style=\"text-align: right;\">\n      <th></th>\n      <th>Unnamed: 0.2</th>\n      <th>Unnamed: 0.1</th>\n      <th>Unnamed: 0</th>\n      <th>Valence</th>\n      <th>Arousal</th>\n      <th>Dominance</th>\n      <th>Part</th>\n      <th>Artist</th>\n      <th>Topic</th>\n      <th>Explicitness</th>\n      <th>Scheme</th>\n      <th>Instruction</th>\n      <th>results</th>\n      <th>predicted explicitness</th>\n    </tr>\n  </thead>\n  <tbody>\n    <tr>\n      <th>0</th>\n      <td>0</td>\n      <td>0</td>\n      <td>0</td>\n      <td>High</td>\n      <td>Low</td>\n      <td>Medium</td>\n      <td>Chorus</td>\n      <td>Sofya Wang</td>\n      <td>life and relationships</td>\n      <td>Normal</td>\n      <td>0-0-0-1-0-0-1-1</td>\n      <td>Generate a Chorus of song lyrics in the style ...</td>\n      <td>We're lying, we're lying in the shadows\\nI'm f...</td>\n      <td>Normal</td>\n    </tr>\n    <tr>\n      <th>1</th>\n      <td>1</td>\n      <td>1</td>\n      <td>1</td>\n      <td>High</td>\n      <td>Medium</td>\n      <td>Low</td>\n      <td>Bridge</td>\n      <td>Chiddy Bang</td>\n      <td>life and relationships</td>\n      <td>Normal</td>\n      <td>0-0-1-2-3-4-5-6</td>\n      <td>Generate a Bridge of song lyrics in the style ...</td>\n      <td>You don't wanna party\\nWhy you tryna party\\nI ...</td>\n      <td>Normal</td>\n    </tr>\n    <tr>\n      <th>2</th>\n      <td>2</td>\n      <td>2</td>\n      <td>2</td>\n      <td>High</td>\n      <td>Medium</td>\n      <td>High</td>\n      <td>Chorus</td>\n      <td>Shwayze</td>\n      <td>life and relationships</td>\n      <td>Normal</td>\n      <td>0-1-2-0-3-3-4</td>\n      <td>Generate a Chorus of song lyrics in the style ...</td>\n      <td>And if you run from me, baby, run from me\\nYou...</td>\n      <td>Normal</td>\n    </tr>\n    <tr>\n      <th>3</th>\n      <td>3</td>\n      <td>3</td>\n      <td>3</td>\n      <td>Medium</td>\n      <td>Low</td>\n      <td>High</td>\n      <td>Bridge</td>\n      <td>Dove Cameron</td>\n      <td>general</td>\n      <td>Normal</td>\n      <td>0-1-2-1-1-1</td>\n      <td>Generate a Bridge of song lyrics in the style ...</td>\n      <td>Swing on by, all you can hear is me\\nLet's get...</td>\n      <td>Normal</td>\n    </tr>\n    <tr>\n      <th>4</th>\n      <td>4</td>\n      <td>4</td>\n      <td>4</td>\n      <td>Medium</td>\n      <td>High</td>\n      <td>Medium</td>\n      <td>Chorus</td>\n      <td>Weezer</td>\n      <td>general</td>\n      <td>Normal</td>\n      <td>0</td>\n      <td>Generate a Chorus of song lyrics in the style ...</td>\n      <td>Singing like a symphony in a restaurant\\n</td>\n      <td>Normal</td>\n    </tr>\n    <tr>\n      <th>...</th>\n      <td>...</td>\n      <td>...</td>\n      <td>...</td>\n      <td>...</td>\n      <td>...</td>\n      <td>...</td>\n      <td>...</td>\n      <td>...</td>\n      <td>...</td>\n      <td>...</td>\n      <td>...</td>\n      <td>...</td>\n      <td>...</td>\n      <td>...</td>\n    </tr>\n    <tr>\n      <th>295</th>\n      <td>295</td>\n      <td>295</td>\n      <td>295</td>\n      <td>High</td>\n      <td>High</td>\n      <td>Low</td>\n      <td>Verse</td>\n      <td>The Irish Rovers</td>\n      <td>general</td>\n      <td>Normal</td>\n      <td>0-1-2-3-4-5-6-7-8-9-10-11-12-13-14-15-16-17-18...</td>\n      <td>Generate a Verse of song lyrics in the style o...</td>\n      <td>Down to the wire\\nI'm down to the wire\\nI'm do...</td>\n      <td>Normal</td>\n    </tr>\n    <tr>\n      <th>296</th>\n      <td>296</td>\n      <td>296</td>\n      <td>296</td>\n      <td>High</td>\n      <td>Low</td>\n      <td>High</td>\n      <td>Verse</td>\n      <td>Genius English Translations</td>\n      <td>life and relationships</td>\n      <td>Explicit content</td>\n      <td>0-0-0-0</td>\n      <td>Generate a Verse of song lyrics in the style o...</td>\n      <td>Well, I want to taste my eyes\\nI wanna see the...</td>\n      <td>Normal</td>\n    </tr>\n    <tr>\n      <th>297</th>\n      <td>297</td>\n      <td>297</td>\n      <td>297</td>\n      <td>Low</td>\n      <td>High</td>\n      <td>Medium</td>\n      <td>Verse</td>\n      <td>Tiana Major9 &amp; SiR</td>\n      <td>general</td>\n      <td>Normal</td>\n      <td>0-1-2-1</td>\n      <td>Generate a Verse of song lyrics in the style o...</td>\n      <td>It's a big world, but I gotta do my thing\\nThe...</td>\n      <td>Normal</td>\n    </tr>\n    <tr>\n      <th>298</th>\n      <td>298</td>\n      <td>298</td>\n      <td>298</td>\n      <td>Medium</td>\n      <td>Medium</td>\n      <td>Low</td>\n      <td>Verse</td>\n      <td>Spacey Jane</td>\n      <td>religion and society</td>\n      <td>Explicit content</td>\n      <td>0-1-2-3</td>\n      <td>Generate a Verse of song lyrics in the style o...</td>\n      <td>Him to me a mwah a cryd for the people that kn...</td>\n      <td>Normal</td>\n    </tr>\n    <tr>\n      <th>299</th>\n      <td>299</td>\n      <td>299</td>\n      <td>299</td>\n      <td>High</td>\n      <td>High</td>\n      <td>High</td>\n      <td>Verse</td>\n      <td>Chief Keef</td>\n      <td>life and relationships</td>\n      <td>Normal</td>\n      <td>0-1-1-2-2-1-3</td>\n      <td>Generate a Verse of song lyrics in the style o...</td>\n      <td>I been going every day, all the day\\nGot a lot...</td>\n      <td>Normal</td>\n    </tr>\n  </tbody>\n</table>\n<p>300 rows × 14 columns</p>\n</div>"
     },
     "execution_count": 8,
     "metadata": {},
     "output_type": "execute_result"
    }
   ],
   "source": [
    "lyrics"
   ],
   "metadata": {
    "collapsed": false
   }
  },
  {
   "cell_type": "code",
   "execution_count": 8,
   "id": "517371cf-9142-4482-bbfd-2001e309e5ce",
   "metadata": {},
   "outputs": [],
   "source": [
    "lyrics.to_csv('/Users/zhenyabudnyk/PycharmProjects/LyrAIX/Thesis/Research Questions/RQ1/prompts.csv', index=False)"
   ]
  },
  {
   "cell_type": "code",
   "execution_count": 9,
   "id": "0fa78175-5ad3-4ded-aea5-93ace6c88e5b",
   "metadata": {},
   "outputs": [],
   "source": [
    "match = 0\n",
    "for i in range(300):\n",
    "    if lyrics.loc[i, 'Explicitness'] == lyrics.loc[i, 'predicted explicitness']:\n",
    "        match += 1"
   ]
  },
  {
   "cell_type": "code",
   "execution_count": 10,
   "outputs": [
    {
     "name": "stdout",
     "output_type": "stream",
     "text": [
      "215\n"
     ]
    }
   ],
   "source": [
    "print(match)"
   ],
   "metadata": {
    "collapsed": false
   }
  },
  {
   "cell_type": "code",
   "execution_count": 16,
   "outputs": [
    {
     "name": "stdout",
     "output_type": "stream",
     "text": [
      "Confusion Matrix:\n",
      "[[ 10  70]\n",
      " [ 15 205]]\n",
      "Accuracy: 0.7166666666666667\n",
      "[[ 10  70]\n",
      " [ 15 205]]\n"
     ]
    }
   ],
   "source": [
    "import pandas as pd\n",
    "from sklearn.metrics import confusion_matrix, accuracy_score\n",
    "\n",
    "# Assuming your DataFrame is called 'df' with columns 'ground_truth' and 'predicted'\n",
    "ground_truth = lyrics['Explicitness']\n",
    "predicted = lyrics['predicted explicitness']\n",
    "\n",
    "class_labels = ['Explicit content', 'Normal']  # Replace with your actual class labels\n",
    "\n",
    "# Create the confusion matrix\n",
    "cm = confusion_matrix(ground_truth, predicted, labels=class_labels)\n",
    "# Create the confusion matrix\n",
    "accuracy = accuracy_score(ground_truth, predicted)\n",
    "\n",
    "print(\"Confusion Matrix:\")\n",
    "print(cm)\n",
    "print(\"Accuracy:\", accuracy)\n",
    "\n",
    "print(cm)"
   ],
   "metadata": {
    "collapsed": false
   }
  },
  {
   "cell_type": "code",
   "execution_count": null,
   "outputs": [],
   "source": [
    "# 215 / 300 explicit content"
   ],
   "metadata": {
    "collapsed": false
   }
  }
 ],
 "metadata": {
  "kernelspec": {
   "display_name": "Python",
   "language": "python",
   "name": "python3"
  },
  "language_info": {
   "codemirror_mode": {
    "name": "ipython",
    "version": 3
   },
   "file_extension": ".py",
   "mimetype": "text/x-python",
   "name": "python",
   "nbconvert_exporter": "python",
   "pygments_lexer": "ipython3",
   "version": "3.8.10"
  }
 },
 "nbformat": 4,
 "nbformat_minor": 5
}
