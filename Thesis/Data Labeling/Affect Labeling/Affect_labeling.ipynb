{
 "cells": [
  {
   "cell_type": "markdown",
   "id": "b3dd425d-8f74-416d-ae7a-5f809b4b7ce9",
   "metadata": {},
   "source": [
    "## Affect labeling\n"
   ]
  },
  {
   "cell_type": "code",
   "execution_count": 1,
   "id": "e996b401-8431-4b1f-864c-402a8663b7b4",
   "metadata": {},
   "outputs": [],
   "source": [
    "import pandas as pd\n",
    "import numpy as np"
   ]
  },
  {
   "cell_type": "code",
   "execution_count": 2,
   "id": "da51526d-ae98-40bf-9bb1-cf76113cedd3",
   "metadata": {},
   "outputs": [],
   "source": [
    "lyrics = pd.read_csv('../lyrics_5kk.csv')"
   ]
  },
  {
   "cell_type": "code",
   "execution_count": 81,
   "id": "abd4a352-5aef-4462-95cb-a3ecf4519aa0",
   "metadata": {},
   "outputs": [
    {
     "name": "stdout",
     "output_type": "stream",
     "text": [
      "317400  family and religion\n",
      "44031  love and relationship\n",
      "2357268  violence\n",
      "40937  life and time\n",
      "1131420  wealth and authority\n",
      "1443022  home and nature\n"
     ]
    }
   ],
   "source": [
    "# count = lyrics['predicted topics'].value_counts()['family and religion']\n",
    "# print(count, \" family and religion\")\n",
    "\n",
    "count = lyrics['predicted_topics'].value_counts()['family and religion']\n",
    "print(count, \" family and religion\")\n",
    "count = lyrics['predicted_topics'].value_counts()['love and relationship']\n",
    "print(count, \" love and relationship\")\n",
    "count = lyrics['predicted_topics'].value_counts()['violence']\n",
    "print(count, \" violence\")\n",
    "count = lyrics['predicted_topics'].value_counts()['life and time']\n",
    "print(count, \" life and time\")\n",
    "count = lyrics['predicted_topics'].value_counts()['wealth and authority']\n",
    "print(count, \" wealth and authority\")\n",
    "# count = lyrics['predicted topics'].value_counts()['home and nature']\n",
    "# print(count, \" home and nature\")\n",
    "count = lyrics['predicted_topics'].value_counts()['home and nature']\n",
    "print(count, \" home and nature\")\n"
   ]
  },
  {
   "cell_type": "code",
   "execution_count": 3,
   "id": "16774dc6-ad7d-470d-bfbd-b3a84d337078",
   "metadata": {},
   "outputs": [
    {
     "data": {
      "text/plain": "         Unnamed: 0             artist              title      tag  year  \\\n0                 0              JAY-Z         Can I Live      rap  1996   \n1                 1              JAY-Z         Can I Live      rap  1996   \n2                 2              JAY-Z         Can I Live      rap  1996   \n3                 3              JAY-Z         Can I Live      rap  1996   \n4                 4           Fabolous  Forgive Me Father      rap  2003   \n...             ...                ...                ...      ...   ...   \n5285446     5285446  Alana Springsteen         New Number  country  2022   \n5285447     5285447  Alana Springsteen         New Number  country  2022   \n5285448     5285448  Alana Springsteen         New Number  country  2022   \n5285449     5285449  Alana Springsteen         New Number  country  2022   \n5285450     5285450  Alana Springsteen         New Number  country  2022   \n\n          views       part                                             lyrics  \\\n0        468624  [Verse 1]  While I'm watchin' every nigga watchin' me clo...   \n1        468624   [Chorus]           Ge-ge-geyeahhh\\nCan I live?\\nCan I live?   \n2        468624  [Verse 2]  My mind is infested with sick thoughts that ci...   \n3        468624   [Chorus]  Can I live?\\nCan I live?\\nCan I live?\\nCan I l...   \n4          4743     [Hook]  Forgive me father for I have sinned\\nBut look ...   \n...         ...        ...                                                ...   \n5285446       1   [Chorus]  One that I ain't dial at least a couple thousa...   \n5285447       1  [Verse 2]  You need a new number and you can't get it fas...   \n5285448       1   [Chorus]  One that I ain't dial at least a couple thousa...   \n5285449       1   [Bridge]  Oh, if you wanna help me out\\nIf you wanna let...   \n5285450       1  [Verse 3]  You need a new number, one that I don't know\\n...   \n\n             explicitness      predicted_topics  \\\n0        Explicit content  wealth and authority   \n1                  Normal              violence   \n2                  Normal  wealth and authority   \n3                  Normal              violence   \n4        Explicit content              violence   \n...                   ...                   ...   \n5285446            Normal              violence   \n5285447            Normal       home and nature   \n5285448            Normal              violence   \n5285449            Normal       home and nature   \n5285450            Normal       home and nature   \n\n                                                   schemes Valence Arousal  \\\n0        0-0-0-0-1-1-0-2-0-3-4-5-0-6-7-8-7-9-7-5-5-10-1...  Medium  Medium   \n1                                                    0-1-2    High    High   \n2                        0-1-1-1-2-3-4-5-5-6-6-1-1-1-7-7-8  Medium  Medium   \n3                                                  0-1-2-3    High    High   \n4                                          0-0-0-0-1-0-0-0    High  Medium   \n...                                                    ...     ...     ...   \n5285446                                          0-1-0-2-3  Medium     Low   \n5285447                                            0-0-1-2    High  Medium   \n5285448                                    0-1-0-2-3-2-4-5  Medium     Low   \n5285449                                        0-1-2-3-3-2     Low     Low   \n5285450                                            0-0-1-2  Medium     Low   \n\n        Dominance                   topic  \n0          Medium                 general  \n1            High  life and relationships  \n2            High                 general  \n3            High  life and relationships  \n4            High  life and relationships  \n...           ...                     ...  \n5285446       Low     money and authority  \n5285447    Medium     money and authority  \n5285448       Low     money and authority  \n5285449       Low     money and authority  \n5285450       Low     money and authority  \n\n[5285451 rows x 15 columns]",
      "text/html": "<div>\n<style scoped>\n    .dataframe tbody tr th:only-of-type {\n        vertical-align: middle;\n    }\n\n    .dataframe tbody tr th {\n        vertical-align: top;\n    }\n\n    .dataframe thead th {\n        text-align: right;\n    }\n</style>\n<table border=\"1\" class=\"dataframe\">\n  <thead>\n    <tr style=\"text-align: right;\">\n      <th></th>\n      <th>Unnamed: 0</th>\n      <th>artist</th>\n      <th>title</th>\n      <th>tag</th>\n      <th>year</th>\n      <th>views</th>\n      <th>part</th>\n      <th>lyrics</th>\n      <th>explicitness</th>\n      <th>predicted_topics</th>\n      <th>schemes</th>\n      <th>Valence</th>\n      <th>Arousal</th>\n      <th>Dominance</th>\n      <th>topic</th>\n    </tr>\n  </thead>\n  <tbody>\n    <tr>\n      <th>0</th>\n      <td>0</td>\n      <td>JAY-Z</td>\n      <td>Can I Live</td>\n      <td>rap</td>\n      <td>1996</td>\n      <td>468624</td>\n      <td>[Verse 1]</td>\n      <td>While I'm watchin' every nigga watchin' me clo...</td>\n      <td>Explicit content</td>\n      <td>wealth and authority</td>\n      <td>0-0-0-0-1-1-0-2-0-3-4-5-0-6-7-8-7-9-7-5-5-10-1...</td>\n      <td>Medium</td>\n      <td>Medium</td>\n      <td>Medium</td>\n      <td>general</td>\n    </tr>\n    <tr>\n      <th>1</th>\n      <td>1</td>\n      <td>JAY-Z</td>\n      <td>Can I Live</td>\n      <td>rap</td>\n      <td>1996</td>\n      <td>468624</td>\n      <td>[Chorus]</td>\n      <td>Ge-ge-geyeahhh\\nCan I live?\\nCan I live?</td>\n      <td>Normal</td>\n      <td>violence</td>\n      <td>0-1-2</td>\n      <td>High</td>\n      <td>High</td>\n      <td>High</td>\n      <td>life and relationships</td>\n    </tr>\n    <tr>\n      <th>2</th>\n      <td>2</td>\n      <td>JAY-Z</td>\n      <td>Can I Live</td>\n      <td>rap</td>\n      <td>1996</td>\n      <td>468624</td>\n      <td>[Verse 2]</td>\n      <td>My mind is infested with sick thoughts that ci...</td>\n      <td>Normal</td>\n      <td>wealth and authority</td>\n      <td>0-1-1-1-2-3-4-5-5-6-6-1-1-1-7-7-8</td>\n      <td>Medium</td>\n      <td>Medium</td>\n      <td>High</td>\n      <td>general</td>\n    </tr>\n    <tr>\n      <th>3</th>\n      <td>3</td>\n      <td>JAY-Z</td>\n      <td>Can I Live</td>\n      <td>rap</td>\n      <td>1996</td>\n      <td>468624</td>\n      <td>[Chorus]</td>\n      <td>Can I live?\\nCan I live?\\nCan I live?\\nCan I l...</td>\n      <td>Normal</td>\n      <td>violence</td>\n      <td>0-1-2-3</td>\n      <td>High</td>\n      <td>High</td>\n      <td>High</td>\n      <td>life and relationships</td>\n    </tr>\n    <tr>\n      <th>4</th>\n      <td>4</td>\n      <td>Fabolous</td>\n      <td>Forgive Me Father</td>\n      <td>rap</td>\n      <td>2003</td>\n      <td>4743</td>\n      <td>[Hook]</td>\n      <td>Forgive me father for I have sinned\\nBut look ...</td>\n      <td>Explicit content</td>\n      <td>violence</td>\n      <td>0-0-0-0-1-0-0-0</td>\n      <td>High</td>\n      <td>Medium</td>\n      <td>High</td>\n      <td>life and relationships</td>\n    </tr>\n    <tr>\n      <th>...</th>\n      <td>...</td>\n      <td>...</td>\n      <td>...</td>\n      <td>...</td>\n      <td>...</td>\n      <td>...</td>\n      <td>...</td>\n      <td>...</td>\n      <td>...</td>\n      <td>...</td>\n      <td>...</td>\n      <td>...</td>\n      <td>...</td>\n      <td>...</td>\n      <td>...</td>\n    </tr>\n    <tr>\n      <th>5285446</th>\n      <td>5285446</td>\n      <td>Alana Springsteen</td>\n      <td>New Number</td>\n      <td>country</td>\n      <td>2022</td>\n      <td>1</td>\n      <td>[Chorus]</td>\n      <td>One that I ain't dial at least a couple thousa...</td>\n      <td>Normal</td>\n      <td>violence</td>\n      <td>0-1-0-2-3</td>\n      <td>Medium</td>\n      <td>Low</td>\n      <td>Low</td>\n      <td>money and authority</td>\n    </tr>\n    <tr>\n      <th>5285447</th>\n      <td>5285447</td>\n      <td>Alana Springsteen</td>\n      <td>New Number</td>\n      <td>country</td>\n      <td>2022</td>\n      <td>1</td>\n      <td>[Verse 2]</td>\n      <td>You need a new number and you can't get it fas...</td>\n      <td>Normal</td>\n      <td>home and nature</td>\n      <td>0-0-1-2</td>\n      <td>High</td>\n      <td>Medium</td>\n      <td>Medium</td>\n      <td>money and authority</td>\n    </tr>\n    <tr>\n      <th>5285448</th>\n      <td>5285448</td>\n      <td>Alana Springsteen</td>\n      <td>New Number</td>\n      <td>country</td>\n      <td>2022</td>\n      <td>1</td>\n      <td>[Chorus]</td>\n      <td>One that I ain't dial at least a couple thousa...</td>\n      <td>Normal</td>\n      <td>violence</td>\n      <td>0-1-0-2-3-2-4-5</td>\n      <td>Medium</td>\n      <td>Low</td>\n      <td>Low</td>\n      <td>money and authority</td>\n    </tr>\n    <tr>\n      <th>5285449</th>\n      <td>5285449</td>\n      <td>Alana Springsteen</td>\n      <td>New Number</td>\n      <td>country</td>\n      <td>2022</td>\n      <td>1</td>\n      <td>[Bridge]</td>\n      <td>Oh, if you wanna help me out\\nIf you wanna let...</td>\n      <td>Normal</td>\n      <td>home and nature</td>\n      <td>0-1-2-3-3-2</td>\n      <td>Low</td>\n      <td>Low</td>\n      <td>Low</td>\n      <td>money and authority</td>\n    </tr>\n    <tr>\n      <th>5285450</th>\n      <td>5285450</td>\n      <td>Alana Springsteen</td>\n      <td>New Number</td>\n      <td>country</td>\n      <td>2022</td>\n      <td>1</td>\n      <td>[Verse 3]</td>\n      <td>You need a new number, one that I don't know\\n...</td>\n      <td>Normal</td>\n      <td>home and nature</td>\n      <td>0-0-1-2</td>\n      <td>Medium</td>\n      <td>Low</td>\n      <td>Low</td>\n      <td>money and authority</td>\n    </tr>\n  </tbody>\n</table>\n<p>5285451 rows × 15 columns</p>\n</div>"
     },
     "execution_count": 3,
     "metadata": {},
     "output_type": "execute_result"
    }
   ],
   "source": [
    "lyrics"
   ]
  },
  {
   "cell_type": "code",
   "execution_count": 4,
   "id": "e2eb6de5-7275-48c1-b6b4-0857aa4be24a",
   "metadata": {},
   "outputs": [],
   "source": [
    "import numpy as np\n",
    "# Specify the file path and name\n",
    "file_path = 'NRC-VAD-Lexicon.txt'\n",
    "\n",
    "# Create an empty dictionary to store the word-phoneme mappings\n",
    "affect_dictionary = {}\n",
    "\n",
    "encodings = ['utf-8', 'latin-1', 'utf-16', 'cp1252']\n",
    "for encoding in encodings:\n",
    "    try:\n",
    "        with open(file_path, 'r') as file:\n",
    "            for line in file:\n",
    "                line = line.strip()\n",
    "                if line:\n",
    "                    #print(line)\n",
    "                    split = line.split()\n",
    "                    if len(split) == 4:\n",
    "                        affect_dictionary[split[0]] = np.array([float(split[1]), float(split[2]), float(split[3])])\n",
    "                    elif len(split) == 5:\n",
    "                        affect_dictionary[split[0]+\" \"+split[1]] = np.array([float(split[2]), float(split[3]), float(split[4])])\n",
    "                    else:\n",
    "                        affect_dictionary[split[0]+ \" \"+split[1]+ \" \"+split[2]] = np.array([float(split[3]), float(split[4]), float(split[5])])\n",
    "            # break\n",
    "    except UnicodeDecodeError:\n",
    "        print('Error')\n"
   ]
  },
  {
   "cell_type": "code",
   "execution_count": 4,
   "id": "b06e0b74-052c-4e40-969f-4bdaffcd546e",
   "metadata": {},
   "outputs": [],
   "source": []
  },
  {
   "cell_type": "code",
   "execution_count": 5,
   "id": "ea12ccc5-2022-4370-9198-de785f71017f",
   "metadata": {},
   "outputs": [],
   "source": [
    "import numpy as np\n",
    "import re\n",
    "from nltk.stem.wordnet import WordNetLemmatizer\n",
    "lemmatizer = WordNetLemmatizer()\n",
    "pattern = re.compile(r\"(\\[\\s*(Verse|Hook|Bridge|Chorus|Pre-Chorus|Intro|Outro|Refrain|Pre-Hook|Pre Hook|Pre Chorus|pre-Chorus|Interlude).*\\]\\n|\\(\\((Verse|Hook|Bridge|Chorus|Pre-Chorus|Intro|Outro|Refrain|Pre-Hook|Pre Hook|Pre Chorus|pre-Chorus|Interlude).*\\)\\)\\n|\\((Verse|Hook|Bridge|Chorus|Pre-Chorus|Intro|Outro|Refrain|Pre-Hook|Pre Hook|Pre Chorus|pre-Chorus|Interlude).*\\)\\n|(VERSE|HOOK|BRIDGE|CHORUS|PRE-CHORUS|INTRO|OUTRO|REFRAIN|PRE-HOOK|PRE HOOK|PRE CHORUS|INTERLUDE).*\\n)\", re.IGNORECASE)\n",
    "pattern_special_chars = re.compile(r'[^A-Za-z0-9\\s]')\n",
    "\n",
    "def compute_affect(lyric):    \n",
    "    lyric = re.sub(pattern, '', lyric) # remove the chorus, bridge and other stuff\n",
    "    lyric = re.sub(pattern_special_chars, '', lyric) # remove special chars\n",
    "    lyric = lyric.lower() \n",
    "    lyric = lyric.split('\\n') # split by new lines\n",
    "    lyric = list(filter(lambda line: line != '', lyric)) # delete an empty line\n",
    "    majority_score = np.zeros(3) # the output vector\n",
    "    count_of_words = 0\n",
    "    for i, line in enumerate(lyric):\n",
    "        line = line.split()\n",
    "        for word in line:\n",
    "            lemmatized_word = lemmatizer.lemmatize(word) #lemmatize the word\n",
    "            if word in affect_dictionary:\n",
    "                majority_score += affect_dictionary[word]\n",
    "                count_of_words += 1\n",
    "            elif lemmatized_word in affect_dictionary:\n",
    "                majority_score += affect_dictionary[lemmatized_word]\n",
    "                count_of_words += 1\n",
    "                \n",
    "                \n",
    "    # print(count_of_words)\n",
    "    return majority_score / count_of_words\n"
   ]
  },
  {
   "cell_type": "code",
   "execution_count": 6,
   "id": "d88220ef-3c73-4b16-b37c-c6a441c13634",
   "metadata": {},
   "outputs": [
    {
     "name": "stdout",
     "output_type": "stream",
     "text": [
      "[0.664 0.142 0.666]\n"
     ]
    }
   ],
   "source": [
    "print(affect_dictionary.get('royalty'))"
   ]
  },
  {
   "cell_type": "code",
   "execution_count": 7,
   "id": "b21d00c7-80bc-417c-884d-ba176ce99d67",
   "metadata": {},
   "outputs": [
    {
     "name": "stderr",
     "output_type": "stream",
     "text": [
      "100%|██████████| 5285451/5285451 [30:04<00:00, 2928.92it/s] \n"
     ]
    }
   ],
   "source": [
    "from tqdm import tqdm\n",
    "\n",
    "tqdm.pandas()\n",
    "\n",
    "lyrics['affect majority score'] = lyrics['lyrics'].progress_apply(compute_affect)"
   ]
  },
  {
   "cell_type": "code",
   "execution_count": 8,
   "id": "1782c4bb-34d8-4d6c-83d4-5fca7612ead7",
   "metadata": {},
   "outputs": [
    {
     "data": {
      "text/plain": "<Figure size 640x480 with 1 Axes>",
      "image/png": "[encoded data removed]"
     },
     "metadata": {},
     "output_type": "display_data"
    }
   ],
   "source": [
    "import matplotlib.pyplot as plt\n",
    "import numpy as np\n",
    "\n",
    "vectors = lyrics['affect majority score'].values\n",
    "\n",
    "# Preprocess the vectors and convert to a valid NumPy array\n",
    "processed_vectors = []\n",
    "for vector in vectors:\n",
    "    # Check if the vector is a valid three-dimensional array\n",
    "    if isinstance(vector, np.ndarray) and vector.shape == (3,):\n",
    "        processed_vectors.append(vector)\n",
    "\n",
    "# Convert the processed vectors to a NumPy array\n",
    "vectors_array = np.array(processed_vectors)\n",
    "\n",
    "# Extract the x, y, and z components from the vectors array\n",
    "valence = vectors_array[:, 0]\n",
    "arousal = vectors_array[:, 1]\n",
    "dominance = vectors_array[:, 2]\n",
    "\n",
    "# Plot the vectors\n",
    "fig = plt.figure()\n",
    "ax = fig.add_subplot(111, projection='3d')\n",
    "ax.plot(valence, arousal, dominance, 'bo')\n",
    "ax.scatter(valence, arousal, dominance, color='r')\n",
    "\n",
    "# Set labels for each axis\n",
    "ax.set_xlabel('valence')\n",
    "ax.set_ylabel('arousal')\n",
    "ax.set_zlabel('dominance')\n",
    "\n",
    "# Show the plot\n",
    "plt.show()"
   ]
  },
  {
   "cell_type": "code",
   "execution_count": 9,
   "id": "eafb8833-3412-4521-a822-5741f07bcdd6",
   "metadata": {},
   "outputs": [
    {
     "data": {
      "text/plain": "         Unnamed: 0             artist              title      tag  year  \\\n0                 0              JAY-Z         Can I Live      rap  1996   \n1                 1              JAY-Z         Can I Live      rap  1996   \n2                 2              JAY-Z         Can I Live      rap  1996   \n3                 3              JAY-Z         Can I Live      rap  1996   \n4                 4           Fabolous  Forgive Me Father      rap  2003   \n...             ...                ...                ...      ...   ...   \n5285446     5285446  Alana Springsteen         New Number  country  2022   \n5285447     5285447  Alana Springsteen         New Number  country  2022   \n5285448     5285448  Alana Springsteen         New Number  country  2022   \n5285449     5285449  Alana Springsteen         New Number  country  2022   \n5285450     5285450  Alana Springsteen         New Number  country  2022   \n\n          views       part                                             lyrics  \\\n0        468624  [Verse 1]  While I'm watchin' every nigga watchin' me clo...   \n1        468624   [Chorus]           Ge-ge-geyeahhh\\nCan I live?\\nCan I live?   \n2        468624  [Verse 2]  My mind is infested with sick thoughts that ci...   \n3        468624   [Chorus]  Can I live?\\nCan I live?\\nCan I live?\\nCan I l...   \n4          4743     [Hook]  Forgive me father for I have sinned\\nBut look ...   \n...         ...        ...                                                ...   \n5285446       1   [Chorus]  One that I ain't dial at least a couple thousa...   \n5285447       1  [Verse 2]  You need a new number and you can't get it fas...   \n5285448       1   [Chorus]  One that I ain't dial at least a couple thousa...   \n5285449       1   [Bridge]  Oh, if you wanna help me out\\nIf you wanna let...   \n5285450       1  [Verse 3]  You need a new number, one that I don't know\\n...   \n\n             explicitness      predicted_topics  \\\n0        Explicit content  wealth and authority   \n1                  Normal              violence   \n2                  Normal  wealth and authority   \n3                  Normal              violence   \n4        Explicit content              violence   \n...                   ...                   ...   \n5285446            Normal              violence   \n5285447            Normal       home and nature   \n5285448            Normal              violence   \n5285449            Normal       home and nature   \n5285450            Normal       home and nature   \n\n                                                   schemes Valence Arousal  \\\n0        0-0-0-0-1-1-0-2-0-3-4-5-0-6-7-8-7-9-7-5-5-10-1...  Medium  Medium   \n1                                                    0-1-2    High    High   \n2                        0-1-1-1-2-3-4-5-5-6-6-1-1-1-7-7-8  Medium  Medium   \n3                                                  0-1-2-3    High    High   \n4                                          0-0-0-0-1-0-0-0    High  Medium   \n...                                                    ...     ...     ...   \n5285446                                          0-1-0-2-3  Medium     Low   \n5285447                                            0-0-1-2    High  Medium   \n5285448                                    0-1-0-2-3-2-4-5  Medium     Low   \n5285449                                        0-1-2-3-3-2     Low     Low   \n5285450                                            0-0-1-2  Medium     Low   \n\n        Dominance                   topic  \\\n0          Medium                 general   \n1            High  life and relationships   \n2            High                 general   \n3            High  life and relationships   \n4            High  life and relationships   \n...           ...                     ...   \n5285446       Low     money and authority   \n5285447    Medium     money and authority   \n5285448       Low     money and authority   \n5285449       Low     money and authority   \n5285450       Low     money and authority   \n\n                                     affect majority score  \n0        [0.15460162601626018, -0.05027642276422763, 0....  \n1                      [0.542, 0.032999999999999974, 0.13]  \n2        [0.11377142857142858, -0.06905714285714284, 0....  \n3         [0.5419999999999999, 0.032999999999999974, 0.13]  \n4        [0.2957894736842104, -0.10726315789473684, 0.0...  \n...                                                    ...  \n5285446  [0.21057142857142855, -0.2071428571428571, -0....  \n5285447  [0.3163076923076923, -0.09276923076923077, 0.0...  \n5285448  [0.2125882352941176, -0.19470588235294115, -0....  \n5285449  [0.042666666666666665, -0.2306666666666667, -0...  \n5285450  [0.11, -0.19438095238095238, -0.13552380952380...  \n\n[5285451 rows x 16 columns]",
      "text/html": "<div>\n<style scoped>\n    .dataframe tbody tr th:only-of-type {\n        vertical-align: middle;\n    }\n\n    .dataframe tbody tr th {\n        vertical-align: top;\n    }\n\n    .dataframe thead th {\n        text-align: right;\n    }\n</style>\n<table border=\"1\" class=\"dataframe\">\n  <thead>\n    <tr style=\"text-align: right;\">\n      <th></th>\n      <th>Unnamed: 0</th>\n      <th>artist</th>\n      <th>title</th>\n      <th>tag</th>\n      <th>year</th>\n      <th>views</th>\n      <th>part</th>\n      <th>lyrics</th>\n      <th>explicitness</th>\n      <th>predicted_topics</th>\n      <th>schemes</th>\n      <th>Valence</th>\n      <th>Arousal</th>\n      <th>Dominance</th>\n      <th>topic</th>\n      <th>affect majority score</th>\n    </tr>\n  </thead>\n  <tbody>\n    <tr>\n      <th>0</th>\n      <td>0</td>\n      <td>JAY-Z</td>\n      <td>Can I Live</td>\n      <td>rap</td>\n      <td>1996</td>\n      <td>468624</td>\n      <td>[Verse 1]</td>\n      <td>While I'm watchin' every nigga watchin' me clo...</td>\n      <td>Explicit content</td>\n      <td>wealth and authority</td>\n      <td>0-0-0-0-1-1-0-2-0-3-4-5-0-6-7-8-7-9-7-5-5-10-1...</td>\n      <td>Medium</td>\n      <td>Medium</td>\n      <td>Medium</td>\n      <td>general</td>\n      <td>[0.15460162601626018, -0.05027642276422763, 0....</td>\n    </tr>\n    <tr>\n      <th>1</th>\n      <td>1</td>\n      <td>JAY-Z</td>\n      <td>Can I Live</td>\n      <td>rap</td>\n      <td>1996</td>\n      <td>468624</td>\n      <td>[Chorus]</td>\n      <td>Ge-ge-geyeahhh\\nCan I live?\\nCan I live?</td>\n      <td>Normal</td>\n      <td>violence</td>\n      <td>0-1-2</td>\n      <td>High</td>\n      <td>High</td>\n      <td>High</td>\n      <td>life and relationships</td>\n      <td>[0.542, 0.032999999999999974, 0.13]</td>\n    </tr>\n    <tr>\n      <th>2</th>\n      <td>2</td>\n      <td>JAY-Z</td>\n      <td>Can I Live</td>\n      <td>rap</td>\n      <td>1996</td>\n      <td>468624</td>\n      <td>[Verse 2]</td>\n      <td>My mind is infested with sick thoughts that ci...</td>\n      <td>Normal</td>\n      <td>wealth and authority</td>\n      <td>0-1-1-1-2-3-4-5-5-6-6-1-1-1-7-7-8</td>\n      <td>Medium</td>\n      <td>Medium</td>\n      <td>High</td>\n      <td>general</td>\n      <td>[0.11377142857142858, -0.06905714285714284, 0....</td>\n    </tr>\n    <tr>\n      <th>3</th>\n      <td>3</td>\n      <td>JAY-Z</td>\n      <td>Can I Live</td>\n      <td>rap</td>\n      <td>1996</td>\n      <td>468624</td>\n      <td>[Chorus]</td>\n      <td>Can I live?\\nCan I live?\\nCan I live?\\nCan I l...</td>\n      <td>Normal</td>\n      <td>violence</td>\n      <td>0-1-2-3</td>\n      <td>High</td>\n      <td>High</td>\n      <td>High</td>\n      <td>life and relationships</td>\n      <td>[0.5419999999999999, 0.032999999999999974, 0.13]</td>\n    </tr>\n    <tr>\n      <th>4</th>\n      <td>4</td>\n      <td>Fabolous</td>\n      <td>Forgive Me Father</td>\n      <td>rap</td>\n      <td>2003</td>\n      <td>4743</td>\n      <td>[Hook]</td>\n      <td>Forgive me father for I have sinned\\nBut look ...</td>\n      <td>Explicit content</td>\n      <td>violence</td>\n      <td>0-0-0-0-1-0-0-0</td>\n      <td>High</td>\n      <td>Medium</td>\n      <td>High</td>\n      <td>life and relationships</td>\n      <td>[0.2957894736842104, -0.10726315789473684, 0.0...</td>\n    </tr>\n    <tr>\n      <th>...</th>\n      <td>...</td>\n      <td>...</td>\n      <td>...</td>\n      <td>...</td>\n      <td>...</td>\n      <td>...</td>\n      <td>...</td>\n      <td>...</td>\n      <td>...</td>\n      <td>...</td>\n      <td>...</td>\n      <td>...</td>\n      <td>...</td>\n      <td>...</td>\n      <td>...</td>\n      <td>...</td>\n    </tr>\n    <tr>\n      <th>5285446</th>\n      <td>5285446</td>\n      <td>Alana Springsteen</td>\n      <td>New Number</td>\n      <td>country</td>\n      <td>2022</td>\n      <td>1</td>\n      <td>[Chorus]</td>\n      <td>One that I ain't dial at least a couple thousa...</td>\n      <td>Normal</td>\n      <td>violence</td>\n      <td>0-1-0-2-3</td>\n      <td>Medium</td>\n      <td>Low</td>\n      <td>Low</td>\n      <td>money and authority</td>\n      <td>[0.21057142857142855, -0.2071428571428571, -0....</td>\n    </tr>\n    <tr>\n      <th>5285447</th>\n      <td>5285447</td>\n      <td>Alana Springsteen</td>\n      <td>New Number</td>\n      <td>country</td>\n      <td>2022</td>\n      <td>1</td>\n      <td>[Verse 2]</td>\n      <td>You need a new number and you can't get it fas...</td>\n      <td>Normal</td>\n      <td>home and nature</td>\n      <td>0-0-1-2</td>\n      <td>High</td>\n      <td>Medium</td>\n      <td>Medium</td>\n      <td>money and authority</td>\n      <td>[0.3163076923076923, -0.09276923076923077, 0.0...</td>\n    </tr>\n    <tr>\n      <th>5285448</th>\n      <td>5285448</td>\n      <td>Alana Springsteen</td>\n      <td>New Number</td>\n      <td>country</td>\n      <td>2022</td>\n      <td>1</td>\n      <td>[Chorus]</td>\n      <td>One that I ain't dial at least a couple thousa...</td>\n      <td>Normal</td>\n      <td>violence</td>\n      <td>0-1-0-2-3-2-4-5</td>\n      <td>Medium</td>\n      <td>Low</td>\n      <td>Low</td>\n      <td>money and authority</td>\n      <td>[0.2125882352941176, -0.19470588235294115, -0....</td>\n    </tr>\n    <tr>\n      <th>5285449</th>\n      <td>5285449</td>\n      <td>Alana Springsteen</td>\n      <td>New Number</td>\n      <td>country</td>\n      <td>2022</td>\n      <td>1</td>\n      <td>[Bridge]</td>\n      <td>Oh, if you wanna help me out\\nIf you wanna let...</td>\n      <td>Normal</td>\n      <td>home and nature</td>\n      <td>0-1-2-3-3-2</td>\n      <td>Low</td>\n      <td>Low</td>\n      <td>Low</td>\n      <td>money and authority</td>\n      <td>[0.042666666666666665, -0.2306666666666667, -0...</td>\n    </tr>\n    <tr>\n      <th>5285450</th>\n      <td>5285450</td>\n      <td>Alana Springsteen</td>\n      <td>New Number</td>\n      <td>country</td>\n      <td>2022</td>\n      <td>1</td>\n      <td>[Verse 3]</td>\n      <td>You need a new number, one that I don't know\\n...</td>\n      <td>Normal</td>\n      <td>home and nature</td>\n      <td>0-0-1-2</td>\n      <td>Medium</td>\n      <td>Low</td>\n      <td>Low</td>\n      <td>money and authority</td>\n      <td>[0.11, -0.19438095238095238, -0.13552380952380...</td>\n    </tr>\n  </tbody>\n</table>\n<p>5285451 rows × 16 columns</p>\n</div>"
     },
     "execution_count": 9,
     "metadata": {},
     "output_type": "execute_result"
    }
   ],
   "source": [
    "lyrics"
   ]
  },
  {
   "cell_type": "code",
   "execution_count": 89,
   "id": "79538b86-4009-49cc-af84-7e3ba7637140",
   "metadata": {},
   "outputs": [],
   "source": [
    "# processed_vectors"
   ]
  },
  {
   "cell_type": "code",
   "execution_count": 14,
   "id": "f95b0993-44f3-4939-9249-57a5cd996bee",
   "metadata": {},
   "outputs": [
    {
     "name": "stdout",
     "output_type": "stream",
     "text": [
      "(5285451, 3)\n"
     ]
    }
   ],
   "source": [
    "# vectors = lyrics['affect majority score'].values\n",
    "# print(type(vectors))\n",
    "# vectors_pd = np.array(vectors)\n",
    "# print(np.shape(vectors))\n",
    "# vectors_list = vectors_pd.tolist()\n",
    "# vectors = np.array(vectors)\n",
    "# vectors\n",
    "\n",
    "# string_vectors = lyrics['affect majority score'].values\n",
    "\n",
    "# # Preprocess the strings and convert them back into numpy arrays\n",
    "# np_vectors = np.array([np.fromstring(vec[1:-1], sep=' ') for vec in string_vectors])\n",
    "np_vectors = processed_vectors\n",
    "print(np.shape(np_vectors))\n",
    "\n",
    "# [  39039,   44465,   48539,   62564,  136747,  145617,  169011,\n",
    "#         169031,  219629,  235700,  247183,  255053,  263347,  277461,\n",
    "#         294802,  339068,  342521,  412336,  566762,  705828,  763988,\n",
    "#         795790,  974271, 1017512, 1073327, 1090447, 1149358, 1204188,\n",
    "#        1363039, 1367906, 1373007, 1423818, 1503307, 1517306, 1570803,\n",
    "#        1628099, 1660084, 1675013, 1706983, 1713512, 1722284, 1745619,\n",
    "#        1755682, 1830503, 1839751, 1840931, 1851768, 1864663, 2015162,\n",
    "#        2020192, 2035813, 2041495, 2062911, 2085926, 2087152, 2087847,\n",
    "#        2101197, 2110929, 2114063, 2136242, 2164879, 2187662, 2256842,\n",
    "#        2267152, 2272327, 2311057, 2341265, 2410831, 2420803, 2440811,\n",
    "#        2448029, 2542024, 2609241, 2654513, 2701196, 2701370, 2713186,\n",
    "#        2713245, 2722683, 2727294, 2746263, 2749521] - these were NaNs\n",
    "\n",
    "# the right shape is (2797549, 3)"
   ]
  },
  {
   "cell_type": "code",
   "execution_count": 11,
   "id": "cc6b97d6-a785-426c-89f6-4da9e490da49",
   "metadata": {},
   "outputs": [
    {
     "name": "stdout",
     "output_type": "stream",
     "text": [
      "[ 0.15460163 -0.05027642  0.02180488]\n"
     ]
    }
   ],
   "source": [
    "print(np_vectors[0])"
   ]
  },
  {
   "cell_type": "code",
   "execution_count": 15,
   "id": "92ca7304-4000-4158-a06c-c140081cfa04",
   "metadata": {},
   "outputs": [
    {
     "name": "stdout",
     "output_type": "stream",
     "text": [
      "0\n",
      "0\n"
     ]
    }
   ],
   "source": [
    "num_nan = np.sum(np.isnan(np_vectors))\n",
    "print(num_nan)\n",
    "indices = np.where(np.any(np.isnan(np_vectors), axis=1))\n",
    "\n",
    "print(len(indices[0]))"
   ]
  },
  {
   "cell_type": "code",
   "execution_count": 16,
   "id": "05118407-c0ba-4264-89cd-05c4d72aba53",
   "metadata": {},
   "outputs": [
    {
     "name": "stdout",
     "output_type": "stream",
     "text": [
      "0\n"
     ]
    }
   ],
   "source": [
    "indices_list = indices[0].tolist()\n",
    "\n",
    "print(len(indices_list))\n",
    "# print(indices_list)"
   ]
  },
  {
   "cell_type": "code",
   "execution_count": 17,
   "id": "a509785d-1aa0-444c-8bb1-281f18942521",
   "metadata": {},
   "outputs": [
    {
     "name": "stdout",
     "output_type": "stream",
     "text": [
      "[ 0.26644444 -0.07718519 -0.01814815]\n",
      "[ 0.26644444 -0.07718519 -0.01814815]\n"
     ]
    }
   ],
   "source": [
    "print(compute_affect(lyrics.loc[44465, 'lyrics']))\n",
    "print(np_vectors[44465])"
   ]
  },
  {
   "cell_type": "code",
   "execution_count": 107,
   "id": "520d9de5-d550-42af-842a-bb7e80af9dbe",
   "metadata": {},
   "outputs": [
    {
     "data": {
      "text/html": [
       "<div>\n",
       "<style scoped>\n",
       "    .dataframe tbody tr th:only-of-type {\n",
       "        vertical-align: middle;\n",
       "    }\n",
       "\n",
       "    .dataframe tbody tr th {\n",
       "        vertical-align: top;\n",
       "    }\n",
       "\n",
       "    .dataframe thead th {\n",
       "        text-align: right;\n",
       "    }\n",
       "</style>\n",
       "<table border=\"1\" class=\"dataframe\">\n",
       "  <thead>\n",
       "    <tr style=\"text-align: right;\">\n",
       "      <th></th>\n",
       "      <th>artist</th>\n",
       "      <th>title</th>\n",
       "      <th>tag</th>\n",
       "      <th>year</th>\n",
       "      <th>views</th>\n",
       "      <th>part</th>\n",
       "      <th>lyrics</th>\n",
       "      <th>explicitness</th>\n",
       "      <th>tokenized, lemmatized, no bad words</th>\n",
       "      <th>predicted_topics</th>\n",
       "      <th>topic vectors</th>\n",
       "      <th>schemes</th>\n",
       "      <th>affect majority score</th>\n",
       "    </tr>\n",
       "  </thead>\n",
       "  <tbody>\n",
       "    <tr>\n",
       "      <th>0</th>\n",
       "      <td>JAY-Z</td>\n",
       "      <td>Can I Live</td>\n",
       "      <td>rap</td>\n",
       "      <td>1996</td>\n",
       "      <td>468624</td>\n",
       "      <td>[Verse 1]</td>\n",
       "      <td>While I'm watchin' every nigga watchin' me clo...</td>\n",
       "      <td>Explicit content</td>\n",
       "      <td>['watchin', 'every', 'watchin', 'closely', 'bu...</td>\n",
       "      <td>wealth and authority</td>\n",
       "      <td>[(0, 0.113372415), (1, 0.39564058), (2, 0.0583...</td>\n",
       "      <td>0-0-0-0-1-1-0-2-0-3-4-5-0-6-7-8-7-9-7-5-5-10-1...</td>\n",
       "      <td>[0.15460162601626018, -0.05027642276422763, 0....</td>\n",
       "    </tr>\n",
       "    <tr>\n",
       "      <th>1</th>\n",
       "      <td>JAY-Z</td>\n",
       "      <td>Can I Live</td>\n",
       "      <td>rap</td>\n",
       "      <td>1996</td>\n",
       "      <td>468624</td>\n",
       "      <td>[Chorus]</td>\n",
       "      <td>Ge-ge-geyeahhh\\nCan I live?\\nCan I live?</td>\n",
       "      <td>Normal</td>\n",
       "      <td>['geyeahhh', 'live', 'live']</td>\n",
       "      <td>violence</td>\n",
       "      <td>[(0, 0.05250941), (1, 0.1470429), (2, 0.052438...</td>\n",
       "      <td>0-1-2</td>\n",
       "      <td>[0.542, 0.032999999999999974, 0.13]</td>\n",
       "    </tr>\n",
       "    <tr>\n",
       "      <th>2</th>\n",
       "      <td>JAY-Z</td>\n",
       "      <td>Can I Live</td>\n",
       "      <td>rap</td>\n",
       "      <td>1996</td>\n",
       "      <td>468624</td>\n",
       "      <td>[Verse 2]</td>\n",
       "      <td>My mind is infested with sick thoughts that ci...</td>\n",
       "      <td>Normal</td>\n",
       "      <td>['mind', 'infested', 'sick', 'thought', 'circl...</td>\n",
       "      <td>wealth and authority</td>\n",
       "      <td>[(0, 0.10937761), (1, 0.3868071), (2, 0.050701...</td>\n",
       "      <td>0-1-1-1-2-3-4-5-5-6-6-1-1-1-7-7-8</td>\n",
       "      <td>[0.11377142857142858, -0.06905714285714284, 0....</td>\n",
       "    </tr>\n",
       "    <tr>\n",
       "      <th>3</th>\n",
       "      <td>JAY-Z</td>\n",
       "      <td>Can I Live</td>\n",
       "      <td>rap</td>\n",
       "      <td>1996</td>\n",
       "      <td>468624</td>\n",
       "      <td>[Chorus]</td>\n",
       "      <td>Can I live?\\nCan I live?\\nCan I live?\\nCan I l...</td>\n",
       "      <td>Normal</td>\n",
       "      <td>['live', 'live', 'live', 'live']</td>\n",
       "      <td>violence</td>\n",
       "      <td>[(0, 0.044248056), (1, 0.12390851), (2, 0.0441...</td>\n",
       "      <td>0-1-2-3</td>\n",
       "      <td>[0.5419999999999999, 0.032999999999999974, 0.13]</td>\n",
       "    </tr>\n",
       "    <tr>\n",
       "      <th>4</th>\n",
       "      <td>Fabolous</td>\n",
       "      <td>Forgive Me Father</td>\n",
       "      <td>rap</td>\n",
       "      <td>2003</td>\n",
       "      <td>4743</td>\n",
       "      <td>[Hook]</td>\n",
       "      <td>Forgive me father for I have sinned\\nBut look ...</td>\n",
       "      <td>Explicit content</td>\n",
       "      <td>['forgive', 'father', 'sinned', 'look', 'money...</td>\n",
       "      <td>violence</td>\n",
       "      <td>[(0, 0.05578675), (1, 0.19629966), (2, 0.09306...</td>\n",
       "      <td>0-0-0-0-1-0-0-0</td>\n",
       "      <td>[0.2957894736842104, -0.10726315789473684, 0.0...</td>\n",
       "    </tr>\n",
       "    <tr>\n",
       "      <th>...</th>\n",
       "      <td>...</td>\n",
       "      <td>...</td>\n",
       "      <td>...</td>\n",
       "      <td>...</td>\n",
       "      <td>...</td>\n",
       "      <td>...</td>\n",
       "      <td>...</td>\n",
       "      <td>...</td>\n",
       "      <td>...</td>\n",
       "      <td>...</td>\n",
       "      <td>...</td>\n",
       "      <td>...</td>\n",
       "      <td>...</td>\n",
       "    </tr>\n",
       "    <tr>\n",
       "      <th>5285446</th>\n",
       "      <td>Alana Springsteen</td>\n",
       "      <td>New Number</td>\n",
       "      <td>country</td>\n",
       "      <td>2022</td>\n",
       "      <td>1</td>\n",
       "      <td>[Chorus]</td>\n",
       "      <td>One that I ain't dial at least a couple thousa...</td>\n",
       "      <td>Normal</td>\n",
       "      <td>['one', 'dial', 'least', 'couple', 'thousand',...</td>\n",
       "      <td>violence</td>\n",
       "      <td>[(0, 0.02372636), (1, 0.1153468), (2, 0.023694...</td>\n",
       "      <td>0-1-0-2-3</td>\n",
       "      <td>[0.21057142857142855, -0.2071428571428571, -0....</td>\n",
       "    </tr>\n",
       "    <tr>\n",
       "      <th>5285447</th>\n",
       "      <td>Alana Springsteen</td>\n",
       "      <td>New Number</td>\n",
       "      <td>country</td>\n",
       "      <td>2022</td>\n",
       "      <td>1</td>\n",
       "      <td>[Verse 2]</td>\n",
       "      <td>You need a new number and you can't get it fas...</td>\n",
       "      <td>Normal</td>\n",
       "      <td>['need', 'new', 'number', 'fast', 'enough', 'c...</td>\n",
       "      <td>home and nature</td>\n",
       "      <td>[(0, 0.17068717), (1, 0.13369475), (2, 0.02103...</td>\n",
       "      <td>0-0-1-2</td>\n",
       "      <td>[0.3163076923076923, -0.09276923076923077, 0.0...</td>\n",
       "    </tr>\n",
       "    <tr>\n",
       "      <th>5285448</th>\n",
       "      <td>Alana Springsteen</td>\n",
       "      <td>New Number</td>\n",
       "      <td>country</td>\n",
       "      <td>2022</td>\n",
       "      <td>1</td>\n",
       "      <td>[Chorus]</td>\n",
       "      <td>One that I ain't dial at least a couple thousa...</td>\n",
       "      <td>Normal</td>\n",
       "      <td>['one', 'dial', 'least', 'couple', 'thousand',...</td>\n",
       "      <td>violence</td>\n",
       "      <td>[(0, 0.021061467), (1, 0.15476061), (2, 0.0210...</td>\n",
       "      <td>0-1-0-2-3-2-4-5</td>\n",
       "      <td>[0.2125882352941176, -0.19470588235294115, -0....</td>\n",
       "    </tr>\n",
       "    <tr>\n",
       "      <th>5285449</th>\n",
       "      <td>Alana Springsteen</td>\n",
       "      <td>New Number</td>\n",
       "      <td>country</td>\n",
       "      <td>2022</td>\n",
       "      <td>1</td>\n",
       "      <td>[Bridge]</td>\n",
       "      <td>Oh, if you wanna help me out\\nIf you wanna let...</td>\n",
       "      <td>Normal</td>\n",
       "      <td>['wanna', 'help', 'wanna', 'let', 'easy', 'car...</td>\n",
       "      <td>home and nature</td>\n",
       "      <td>[(0, 0.027157595), (1, 0.07908834), (2, 0.0271...</td>\n",
       "      <td>0-1-2-3-3-2</td>\n",
       "      <td>[0.042666666666666665, -0.2306666666666667, -0...</td>\n",
       "    </tr>\n",
       "    <tr>\n",
       "      <th>5285450</th>\n",
       "      <td>Alana Springsteen</td>\n",
       "      <td>New Number</td>\n",
       "      <td>country</td>\n",
       "      <td>2022</td>\n",
       "      <td>1</td>\n",
       "      <td>[Verse 3]</td>\n",
       "      <td>You need a new number, one that I don't know\\n...</td>\n",
       "      <td>Normal</td>\n",
       "      <td>['need', 'new', 'number', 'one', 'know', 'keep...</td>\n",
       "      <td>home and nature</td>\n",
       "      <td>[(0, 0.086214885), (1, 0.20911245), (2, 0.0190...</td>\n",
       "      <td>0-0-1-2</td>\n",
       "      <td>[0.11, -0.19438095238095238, -0.13552380952380...</td>\n",
       "    </tr>\n",
       "  </tbody>\n",
       "</table>\n",
       "<p>5285451 rows × 13 columns</p>\n",
       "</div>"
      ],
      "text/plain": [
       "                    artist              title      tag  year   views  \\\n",
       "0                    JAY-Z         Can I Live      rap  1996  468624   \n",
       "1                    JAY-Z         Can I Live      rap  1996  468624   \n",
       "2                    JAY-Z         Can I Live      rap  1996  468624   \n",
       "3                    JAY-Z         Can I Live      rap  1996  468624   \n",
       "4                 Fabolous  Forgive Me Father      rap  2003    4743   \n",
       "...                    ...                ...      ...   ...     ...   \n",
       "5285446  Alana Springsteen         New Number  country  2022       1   \n",
       "5285447  Alana Springsteen         New Number  country  2022       1   \n",
       "5285448  Alana Springsteen         New Number  country  2022       1   \n",
       "5285449  Alana Springsteen         New Number  country  2022       1   \n",
       "5285450  Alana Springsteen         New Number  country  2022       1   \n",
       "\n",
       "              part                                             lyrics  \\\n",
       "0        [Verse 1]  While I'm watchin' every nigga watchin' me clo...   \n",
       "1         [Chorus]           Ge-ge-geyeahhh\\nCan I live?\\nCan I live?   \n",
       "2        [Verse 2]  My mind is infested with sick thoughts that ci...   \n",
       "3         [Chorus]  Can I live?\\nCan I live?\\nCan I live?\\nCan I l...   \n",
       "4           [Hook]  Forgive me father for I have sinned\\nBut look ...   \n",
       "...            ...                                                ...   \n",
       "5285446   [Chorus]  One that I ain't dial at least a couple thousa...   \n",
       "5285447  [Verse 2]  You need a new number and you can't get it fas...   \n",
       "5285448   [Chorus]  One that I ain't dial at least a couple thousa...   \n",
       "5285449   [Bridge]  Oh, if you wanna help me out\\nIf you wanna let...   \n",
       "5285450  [Verse 3]  You need a new number, one that I don't know\\n...   \n",
       "\n",
       "             explicitness                tokenized, lemmatized, no bad words  \\\n",
       "0        Explicit content  ['watchin', 'every', 'watchin', 'closely', 'bu...   \n",
       "1                  Normal                       ['geyeahhh', 'live', 'live']   \n",
       "2                  Normal  ['mind', 'infested', 'sick', 'thought', 'circl...   \n",
       "3                  Normal                   ['live', 'live', 'live', 'live']   \n",
       "4        Explicit content  ['forgive', 'father', 'sinned', 'look', 'money...   \n",
       "...                   ...                                                ...   \n",
       "5285446            Normal  ['one', 'dial', 'least', 'couple', 'thousand',...   \n",
       "5285447            Normal  ['need', 'new', 'number', 'fast', 'enough', 'c...   \n",
       "5285448            Normal  ['one', 'dial', 'least', 'couple', 'thousand',...   \n",
       "5285449            Normal  ['wanna', 'help', 'wanna', 'let', 'easy', 'car...   \n",
       "5285450            Normal  ['need', 'new', 'number', 'one', 'know', 'keep...   \n",
       "\n",
       "             predicted_topics  \\\n",
       "0        wealth and authority   \n",
       "1                    violence   \n",
       "2        wealth and authority   \n",
       "3                    violence   \n",
       "4                    violence   \n",
       "...                       ...   \n",
       "5285446              violence   \n",
       "5285447       home and nature   \n",
       "5285448              violence   \n",
       "5285449       home and nature   \n",
       "5285450       home and nature   \n",
       "\n",
       "                                             topic vectors  \\\n",
       "0        [(0, 0.113372415), (1, 0.39564058), (2, 0.0583...   \n",
       "1        [(0, 0.05250941), (1, 0.1470429), (2, 0.052438...   \n",
       "2        [(0, 0.10937761), (1, 0.3868071), (2, 0.050701...   \n",
       "3        [(0, 0.044248056), (1, 0.12390851), (2, 0.0441...   \n",
       "4        [(0, 0.05578675), (1, 0.19629966), (2, 0.09306...   \n",
       "...                                                    ...   \n",
       "5285446  [(0, 0.02372636), (1, 0.1153468), (2, 0.023694...   \n",
       "5285447  [(0, 0.17068717), (1, 0.13369475), (2, 0.02103...   \n",
       "5285448  [(0, 0.021061467), (1, 0.15476061), (2, 0.0210...   \n",
       "5285449  [(0, 0.027157595), (1, 0.07908834), (2, 0.0271...   \n",
       "5285450  [(0, 0.086214885), (1, 0.20911245), (2, 0.0190...   \n",
       "\n",
       "                                                   schemes  \\\n",
       "0        0-0-0-0-1-1-0-2-0-3-4-5-0-6-7-8-7-9-7-5-5-10-1...   \n",
       "1                                                    0-1-2   \n",
       "2                        0-1-1-1-2-3-4-5-5-6-6-1-1-1-7-7-8   \n",
       "3                                                  0-1-2-3   \n",
       "4                                          0-0-0-0-1-0-0-0   \n",
       "...                                                    ...   \n",
       "5285446                                          0-1-0-2-3   \n",
       "5285447                                            0-0-1-2   \n",
       "5285448                                    0-1-0-2-3-2-4-5   \n",
       "5285449                                        0-1-2-3-3-2   \n",
       "5285450                                            0-0-1-2   \n",
       "\n",
       "                                     affect majority score  \n",
       "0        [0.15460162601626018, -0.05027642276422763, 0....  \n",
       "1                      [0.542, 0.032999999999999974, 0.13]  \n",
       "2        [0.11377142857142858, -0.06905714285714284, 0....  \n",
       "3         [0.5419999999999999, 0.032999999999999974, 0.13]  \n",
       "4        [0.2957894736842104, -0.10726315789473684, 0.0...  \n",
       "...                                                    ...  \n",
       "5285446  [0.21057142857142855, -0.2071428571428571, -0....  \n",
       "5285447  [0.3163076923076923, -0.09276923076923077, 0.0...  \n",
       "5285448  [0.2125882352941176, -0.19470588235294115, -0....  \n",
       "5285449  [0.042666666666666665, -0.2306666666666667, -0...  \n",
       "5285450  [0.11, -0.19438095238095238, -0.13552380952380...  \n",
       "\n",
       "[5285451 rows x 13 columns]"
      ]
     },
     "execution_count": 107,
     "metadata": {},
     "output_type": "execute_result"
    }
   ],
   "source": [
    "# lyrics = lyrics.drop(indices_list)\n",
    "lyrics.reset_index(drop=True, inplace=True)\n",
    "# lyrics\n",
    "\n"
   ]
  },
  {
   "cell_type": "code",
   "execution_count": 18,
   "id": "c53866cc-b6cb-4832-91c6-5732840d3d8a",
   "metadata": {},
   "outputs": [
    {
     "name": "stdout",
     "output_type": "stream",
     "text": [
      "(5285451, 3)\n"
     ]
    }
   ],
   "source": [
    "vectors = lyrics['affect majority score'].values\n",
    "\n",
    "# Preprocess the vectors and convert to a valid NumPy array\n",
    "processed_vectors = []\n",
    "for vector in vectors:\n",
    "    # Check if the vector is a valid three-dimensional array\n",
    "    if isinstance(vector, np.ndarray) and vector.shape == (3,):\n",
    "        processed_vectors.append(vector)\n",
    "\n",
    "# Convert the processed vectors to a NumPy array\n",
    "# vectors_array = np.array(processed_vectors)\n",
    "np_vectors = processed_vectors\n",
    "print(np.shape(np_vectors))"
   ]
  },
  {
   "cell_type": "code",
   "execution_count": 34,
   "id": "788b51de-35ec-49f6-aca2-b283498dfb86",
   "metadata": {},
   "outputs": [
    {
     "name": "stdout",
     "output_type": "stream",
     "text": [
      "[-0.938 -0.764 -0.704] [1.    0.902 0.803]\n"
     ]
    }
   ],
   "source": [
    "# min_values = np.min(np_vectors, axis=0)\n",
    "# max_values = np.max(np_vectors, axis=0)\n",
    "# print(min_values, max_values)\n",
    "# # [-0.938 -0.764 -0.704] [1.    0.902 0.803]"
   ]
  },
  {
   "cell_type": "code",
   "execution_count": 69,
   "id": "4695780a-1a25-457c-850b-1379f1822b21",
   "metadata": {},
   "outputs": [
    {
     "name": "stdout",
     "output_type": "stream",
     "text": [
      "(1, 3)\n",
      "(1, 3)\n",
      "[[-1.    -0.862 -0.91 ]]\n",
      "[[1.    0.946 0.982]]\n"
     ]
    }
   ],
   "source": [
    "min_vals = np.min(np_vectors, axis=0)\n",
    "max_vals = np.max(np_vectors, axis=0)\n",
    "\n",
    "# Reshape min_vals and max_vals to have the same shape as np_vectors\n",
    "min_vals = min_vals.reshape(1, -1)\n",
    "max_vals = max_vals.reshape(1, -1)\n",
    "\n",
    "# Compute the range for each dimension\n",
    "ranges = max_vals - min_vals\n",
    "\n",
    "# Normalize each dimension of the vectors\n",
    "normalized_vectors = (np_vectors - min_vals) / ranges\n",
    "normalized_np_vectors = (normalized_vectors * 2) - 1\n",
    "print(min_vals.shape)\n",
    "print(max_vals.shape)\n",
    "print(min_vals)\n",
    "print(max_vals)\n",
    "\n",
    "# min and max vectors\n",
    "#[[-0.938 -0.764 -0.704]]\n",
    "#[[1.    0.902 0.803]]"
   ]
  },
  {
   "cell_type": "code",
   "execution_count": 20,
   "id": "9cb4b6c5-0f6a-4f2e-8f47-438bf70df020",
   "metadata": {},
   "outputs": [
    {
     "data": {
      "text/plain": "<Figure size 640x480 with 1 Axes>",
      "image/png": "[encoded data removed]"
     },
     "metadata": {},
     "output_type": "display_data"
    }
   ],
   "source": [
    "# Extract the x, y, and z components from the vectors array\n",
    "valence = normalized_np_vectors[:, 0]\n",
    "arousal = normalized_np_vectors[:, 1]\n",
    "dominance = normalized_np_vectors[:, 2]\n",
    "# print(np.max(normalized_np_vectors[:, 0])\n",
    "\n",
    "\n",
    "# Plot the vectors\n",
    "fig = plt.figure()\n",
    "ax = fig.add_subplot(111, projection='3d')\n",
    "ax.plot(valence, arousal, dominance, 'bo')\n",
    "ax.scatter(valence, arousal, dominance, color='r')\n",
    "\n",
    "# Set labels for each axis\n",
    "ax.set_xlabel('valence')\n",
    "ax.set_ylabel('arousal')\n",
    "ax.set_zlabel('dominance')\n",
    "\n",
    "# Show the plot\n",
    "plt.show()"
   ]
  },
  {
   "cell_type": "code",
   "execution_count": 21,
   "id": "16b248e5-6082-4888-8c9f-6293885c8517",
   "metadata": {},
   "outputs": [],
   "source": [
    "import matplotlib.pyplot as plt\n",
    "import seaborn as sns"
   ]
  },
  {
   "cell_type": "code",
   "execution_count": 22,
   "id": "6e0de526-79e8-4234-870b-0cb8ba3e500b",
   "metadata": {},
   "outputs": [
    {
     "data": {
      "text/plain": "<Figure size 1500x500 with 3 Axes>",
      "image/png": "[encoded data removed]"
     },
     "metadata": {},
     "output_type": "display_data"
    }
   ],
   "source": [
    "# Plot histograms\n",
    "plt.figure(figsize=(15,5))\n",
    "dims = ['valence', 'arousal', 'dominance']\n",
    "for i in range(3):\n",
    "    plt.subplot(1, 3, i+1)\n",
    "    sns.histplot(normalized_np_vectors[:, i], bins=20, kde=True)\n",
    "    plt.title(f'Dimension {dims[i]}')"
   ]
  },
  {
   "cell_type": "code",
   "execution_count": 23,
   "id": "817cd7b6-ff4f-4be9-a5b0-d340960c164c",
   "metadata": {},
   "outputs": [],
   "source": [
    "def categorize(values):\n",
    "    # Calculate thresholds\n",
    "    threshold1, threshold2 = np.percentile(values, [33, 66])\n",
    "    print(threshold1)\n",
    "    print(threshold2)\n",
    "    # return threshold1, threshold2\n",
    "    # Initialize an empty list to hold the categories\n",
    "    categories = []\n",
    "\n",
    "    # Iterate over the values\n",
    "    for value in values:\n",
    "        # Determine the category and append it to the list\n",
    "        if value < threshold1:\n",
    "            categories.append('Low')\n",
    "        elif value < threshold2:\n",
    "            categories.append('Medium')\n",
    "        else:\n",
    "            categories.append('High')\n",
    "\n",
    "    return categories"
   ]
  },
  {
   "cell_type": "code",
   "execution_count": 36,
   "outputs": [],
   "source": [
    "def categorize_valence(values):\n",
    "    # Calculate thresholds\n",
    "    threshold1, threshold2 =  0.08711111111111114, 0.2290000000000001\n",
    "    print(threshold1)\n",
    "    print(threshold2)\n",
    "    # return threshold1, threshold2\n",
    "    # Initialize an empty list to hold the categories\n",
    "    categories = []\n",
    "\n",
    "    # Iterate over the values\n",
    "    for value in values:\n",
    "        # Determine the category and append it to the list\n",
    "        if value < threshold1:\n",
    "            categories.append('Low')\n",
    "        elif value < threshold2:\n",
    "            categories.append('Medium')\n",
    "        else:\n",
    "            categories.append('High')\n",
    "\n",
    "    return categories"
   ],
   "metadata": {
    "collapsed": false
   }
  },
  {
   "cell_type": "code",
   "execution_count": 37,
   "outputs": [],
   "source": [
    "def categorize_arousal(values):\n",
    "    # Calculate thresholds\n",
    "    threshold1, threshold2 =  -0.2159632402995234, -0.0980825958702064\n",
    "    print(threshold1)\n",
    "    print(threshold2)\n",
    "    # return threshold1, threshold2\n",
    "    # Initialize an empty list to hold the categories\n",
    "    categories = []\n",
    "\n",
    "    # Iterate over the values\n",
    "    for value in values:\n",
    "        # Determine the category and append it to the list\n",
    "        if value < threshold1:\n",
    "            categories.append('Low')\n",
    "        elif value < threshold2:\n",
    "            categories.append('Medium')\n",
    "        else:\n",
    "            categories.append('High')\n",
    "\n",
    "    return categories"
   ],
   "metadata": {
    "collapsed": false
   }
  },
  {
   "cell_type": "code",
   "execution_count": 38,
   "outputs": [],
   "source": [
    "def categorize_dominance(values):\n",
    "    # Calculate thresholds\n",
    "    threshold1, threshold2 =  -0.10055496828752641, -0.00359408033826647\n",
    "    print(threshold1)\n",
    "    print(threshold2)\n",
    "    # return threshold1, threshold2\n",
    "    # Initialize an empty list to hold the categories\n",
    "    categories = []\n",
    "\n",
    "    # Iterate over the values\n",
    "    for value in values:\n",
    "        # Determine the category and append it to the list\n",
    "        if value < threshold1:\n",
    "            categories.append('Low')\n",
    "        elif value < threshold2:\n",
    "            categories.append('Medium')\n",
    "        else:\n",
    "            categories.append('High')\n",
    "\n",
    "    return categories"
   ],
   "metadata": {
    "collapsed": false
   }
  },
  {
   "cell_type": "code",
   "execution_count": 24,
   "id": "300c7151-2cd9-4ceb-914d-fce37d9d6124",
   "metadata": {},
   "outputs": [],
   "source": [
    "valence = normalized_np_vectors[:, 0]\n",
    "\n",
    "arousal = normalized_np_vectors[:, 1]\n",
    "\n",
    "dominance = normalized_np_vectors[:, 2]"
   ]
  },
  {
   "cell_type": "code",
   "execution_count": 25,
   "id": "871d6cef-e3a2-4609-b97d-f0d67b395d1e",
   "metadata": {},
   "outputs": [
    {
     "name": "stdout",
     "output_type": "stream",
     "text": [
      "0.08711111111111114\n",
      "0.2290000000000001\n",
      "-0.2159632402995234\n",
      "-0.0980825958702064\n",
      "-0.10055496828752641\n",
      "-0.00359408033826647\n",
      "High\n",
      "Low\n",
      "High\n"
     ]
    }
   ],
   "source": [
    "dim1_categories = categorize(valence)\n",
    "dim2_categories = categorize(arousal)\n",
    "dim3_categories = categorize(dominance)\n",
    "\n",
    "print(dim1_categories[1087987])\n",
    "print(dim2_categories[103423])\n",
    "print(dim3_categories[248572])"
   ]
  },
  {
   "cell_type": "code",
   "execution_count": 26,
   "outputs": [],
   "source": [
    "prompts = pd.read_csv('/Users/zhenyabudnyk/PycharmProjects/LyrAIX/Thesis/Research Questions/RQ1/prompts.csv')\n"
   ],
   "metadata": {
    "collapsed": false
   }
  },
  {
   "cell_type": "code",
   "execution_count": 28,
   "outputs": [
    {
     "data": {
      "text/plain": "     Unnamed: 0.2  Unnamed: 0.1  Unnamed: 0 Valence Arousal Dominance    Part  \\\n0               0             0           0    High     Low    Medium  Chorus   \n1               1             1           1    High  Medium       Low  Bridge   \n2               2             2           2    High  Medium      High  Chorus   \n3               3             3           3  Medium     Low      High  Bridge   \n4               4             4           4  Medium    High    Medium  Chorus   \n..            ...           ...         ...     ...     ...       ...     ...   \n295           295           295         295    High    High       Low   Verse   \n296           296           296         296    High     Low      High   Verse   \n297           297           297         297     Low    High    Medium   Verse   \n298           298           298         298  Medium  Medium       Low   Verse   \n299           299           299         299    High    High      High   Verse   \n\n                          Artist                   Topic      Explicitness  \\\n0                     Sofya Wang  life and relationships            Normal   \n1                    Chiddy Bang  life and relationships            Normal   \n2                        Shwayze  life and relationships            Normal   \n3                   Dove Cameron                 general            Normal   \n4                         Weezer                 general            Normal   \n..                           ...                     ...               ...   \n295             The Irish Rovers                 general            Normal   \n296  Genius English Translations  life and relationships  Explicit content   \n297           Tiana Major9 & SiR                 general            Normal   \n298                  Spacey Jane    religion and society  Explicit content   \n299                   Chief Keef  life and relationships            Normal   \n\n                                                Scheme  \\\n0                                      0-0-0-1-0-0-1-1   \n1                                      0-0-1-2-3-4-5-6   \n2                                        0-1-2-0-3-3-4   \n3                                          0-1-2-1-1-1   \n4                                                    0   \n..                                                 ...   \n295  0-1-2-3-4-5-6-7-8-9-10-11-12-13-14-15-16-17-18...   \n296                                            0-0-0-0   \n297                                            0-1-2-1   \n298                                            0-1-2-3   \n299                                      0-1-1-2-2-1-3   \n\n                                           Instruction  \\\n0    Generate a Chorus of song lyrics in the style ...   \n1    Generate a Bridge of song lyrics in the style ...   \n2    Generate a Chorus of song lyrics in the style ...   \n3    Generate a Bridge of song lyrics in the style ...   \n4    Generate a Chorus of song lyrics in the style ...   \n..                                                 ...   \n295  Generate a Verse of song lyrics in the style o...   \n296  Generate a Verse of song lyrics in the style o...   \n297  Generate a Verse of song lyrics in the style o...   \n298  Generate a Verse of song lyrics in the style o...   \n299  Generate a Verse of song lyrics in the style o...   \n\n                                               results predicted explicitness  \n0    We're lying, we're lying in the shadows\\nI'm f...                 Normal  \n1    You don't wanna party\\nWhy you tryna party\\nI ...                 Normal  \n2    And if you run from me, baby, run from me\\nYou...                 Normal  \n3    Swing on by, all you can hear is me\\nLet's get...                 Normal  \n4            Singing like a symphony in a restaurant\\n                 Normal  \n..                                                 ...                    ...  \n295  Down to the wire\\nI'm down to the wire\\nI'm do...                 Normal  \n296  Well, I want to taste my eyes\\nI wanna see the...                 Normal  \n297  It's a big world, but I gotta do my thing\\nThe...                 Normal  \n298  Him to me a mwah a cryd for the people that kn...                 Normal  \n299  I been going every day, all the day\\nGot a lot...                 Normal  \n\n[300 rows x 14 columns]",
      "text/html": "<div>\n<style scoped>\n    .dataframe tbody tr th:only-of-type {\n        vertical-align: middle;\n    }\n\n    .dataframe tbody tr th {\n        vertical-align: top;\n    }\n\n    .dataframe thead th {\n        text-align: right;\n    }\n</style>\n<table border=\"1\" class=\"dataframe\">\n  <thead>\n    <tr style=\"text-align: right;\">\n      <th></th>\n      <th>Unnamed: 0.2</th>\n      <th>Unnamed: 0.1</th>\n      <th>Unnamed: 0</th>\n      <th>Valence</th>\n      <th>Arousal</th>\n      <th>Dominance</th>\n      <th>Part</th>\n      <th>Artist</th>\n      <th>Topic</th>\n      <th>Explicitness</th>\n      <th>Scheme</th>\n      <th>Instruction</th>\n      <th>results</th>\n      <th>predicted explicitness</th>\n    </tr>\n  </thead>\n  <tbody>\n    <tr>\n      <th>0</th>\n      <td>0</td>\n      <td>0</td>\n      <td>0</td>\n      <td>High</td>\n      <td>Low</td>\n      <td>Medium</td>\n      <td>Chorus</td>\n      <td>Sofya Wang</td>\n      <td>life and relationships</td>\n      <td>Normal</td>\n      <td>0-0-0-1-0-0-1-1</td>\n      <td>Generate a Chorus of song lyrics in the style ...</td>\n      <td>We're lying, we're lying in the shadows\\nI'm f...</td>\n      <td>Normal</td>\n    </tr>\n    <tr>\n      <th>1</th>\n      <td>1</td>\n      <td>1</td>\n      <td>1</td>\n      <td>High</td>\n      <td>Medium</td>\n      <td>Low</td>\n      <td>Bridge</td>\n      <td>Chiddy Bang</td>\n      <td>life and relationships</td>\n      <td>Normal</td>\n      <td>0-0-1-2-3-4-5-6</td>\n      <td>Generate a Bridge of song lyrics in the style ...</td>\n      <td>You don't wanna party\\nWhy you tryna party\\nI ...</td>\n      <td>Normal</td>\n    </tr>\n    <tr>\n      <th>2</th>\n      <td>2</td>\n      <td>2</td>\n      <td>2</td>\n      <td>High</td>\n      <td>Medium</td>\n      <td>High</td>\n      <td>Chorus</td>\n      <td>Shwayze</td>\n      <td>life and relationships</td>\n      <td>Normal</td>\n      <td>0-1-2-0-3-3-4</td>\n      <td>Generate a Chorus of song lyrics in the style ...</td>\n      <td>And if you run from me, baby, run from me\\nYou...</td>\n      <td>Normal</td>\n    </tr>\n    <tr>\n      <th>3</th>\n      <td>3</td>\n      <td>3</td>\n      <td>3</td>\n      <td>Medium</td>\n      <td>Low</td>\n      <td>High</td>\n      <td>Bridge</td>\n      <td>Dove Cameron</td>\n      <td>general</td>\n      <td>Normal</td>\n      <td>0-1-2-1-1-1</td>\n      <td>Generate a Bridge of song lyrics in the style ...</td>\n      <td>Swing on by, all you can hear is me\\nLet's get...</td>\n      <td>Normal</td>\n    </tr>\n    <tr>\n      <th>4</th>\n      <td>4</td>\n      <td>4</td>\n      <td>4</td>\n      <td>Medium</td>\n      <td>High</td>\n      <td>Medium</td>\n      <td>Chorus</td>\n      <td>Weezer</td>\n      <td>general</td>\n      <td>Normal</td>\n      <td>0</td>\n      <td>Generate a Chorus of song lyrics in the style ...</td>\n      <td>Singing like a symphony in a restaurant\\n</td>\n      <td>Normal</td>\n    </tr>\n    <tr>\n      <th>...</th>\n      <td>...</td>\n      <td>...</td>\n      <td>...</td>\n      <td>...</td>\n      <td>...</td>\n      <td>...</td>\n      <td>...</td>\n      <td>...</td>\n      <td>...</td>\n      <td>...</td>\n      <td>...</td>\n      <td>...</td>\n      <td>...</td>\n      <td>...</td>\n    </tr>\n    <tr>\n      <th>295</th>\n      <td>295</td>\n      <td>295</td>\n      <td>295</td>\n      <td>High</td>\n      <td>High</td>\n      <td>Low</td>\n      <td>Verse</td>\n      <td>The Irish Rovers</td>\n      <td>general</td>\n      <td>Normal</td>\n      <td>0-1-2-3-4-5-6-7-8-9-10-11-12-13-14-15-16-17-18...</td>\n      <td>Generate a Verse of song lyrics in the style o...</td>\n      <td>Down to the wire\\nI'm down to the wire\\nI'm do...</td>\n      <td>Normal</td>\n    </tr>\n    <tr>\n      <th>296</th>\n      <td>296</td>\n      <td>296</td>\n      <td>296</td>\n      <td>High</td>\n      <td>Low</td>\n      <td>High</td>\n      <td>Verse</td>\n      <td>Genius English Translations</td>\n      <td>life and relationships</td>\n      <td>Explicit content</td>\n      <td>0-0-0-0</td>\n      <td>Generate a Verse of song lyrics in the style o...</td>\n      <td>Well, I want to taste my eyes\\nI wanna see the...</td>\n      <td>Normal</td>\n    </tr>\n    <tr>\n      <th>297</th>\n      <td>297</td>\n      <td>297</td>\n      <td>297</td>\n      <td>Low</td>\n      <td>High</td>\n      <td>Medium</td>\n      <td>Verse</td>\n      <td>Tiana Major9 &amp; SiR</td>\n      <td>general</td>\n      <td>Normal</td>\n      <td>0-1-2-1</td>\n      <td>Generate a Verse of song lyrics in the style o...</td>\n      <td>It's a big world, but I gotta do my thing\\nThe...</td>\n      <td>Normal</td>\n    </tr>\n    <tr>\n      <th>298</th>\n      <td>298</td>\n      <td>298</td>\n      <td>298</td>\n      <td>Medium</td>\n      <td>Medium</td>\n      <td>Low</td>\n      <td>Verse</td>\n      <td>Spacey Jane</td>\n      <td>religion and society</td>\n      <td>Explicit content</td>\n      <td>0-1-2-3</td>\n      <td>Generate a Verse of song lyrics in the style o...</td>\n      <td>Him to me a mwah a cryd for the people that kn...</td>\n      <td>Normal</td>\n    </tr>\n    <tr>\n      <th>299</th>\n      <td>299</td>\n      <td>299</td>\n      <td>299</td>\n      <td>High</td>\n      <td>High</td>\n      <td>High</td>\n      <td>Verse</td>\n      <td>Chief Keef</td>\n      <td>life and relationships</td>\n      <td>Normal</td>\n      <td>0-1-1-2-2-1-3</td>\n      <td>Generate a Verse of song lyrics in the style o...</td>\n      <td>I been going every day, all the day\\nGot a lot...</td>\n      <td>Normal</td>\n    </tr>\n  </tbody>\n</table>\n<p>300 rows × 14 columns</p>\n</div>"
     },
     "execution_count": 28,
     "metadata": {},
     "output_type": "execute_result"
    }
   ],
   "source": [
    "prompts"
   ],
   "metadata": {
    "collapsed": false
   }
  },
  {
   "cell_type": "code",
   "execution_count": 30,
   "outputs": [
    {
     "name": "stderr",
     "output_type": "stream",
     "text": [
      "100%|██████████| 300/300 [00:00<00:00, 2379.59it/s]\n"
     ]
    }
   ],
   "source": [
    "affects = prompts['results'].progress_apply(compute_affect)"
   ],
   "metadata": {
    "collapsed": false
   }
  },
  {
   "cell_type": "code",
   "execution_count": 31,
   "outputs": [
    {
     "name": "stdout",
     "output_type": "stream",
     "text": [
      "0      [0.2009090909090909, 0.06545454545454545, -0.0...\n",
      "1      [0.28350000000000003, -0.061749999999999985, -...\n",
      "2      [0.32349999999999995, 0.08399999999999996, 0.0...\n",
      "3                [0.22304, 0.05144000000000002, 0.05272]\n",
      "4      [0.608, -0.07849999999999999, 0.03700000000000...\n",
      "                             ...                        \n",
      "295    [-0.31199999999999994, -0.3399999999999999, -0...\n",
      "296    [0.3170769230769231, -0.0456923076923077, -0.1...\n",
      "297    [0.40586666666666665, -0.06546666666666666, 0....\n",
      "298    [0.08930434782608697, -0.14486956521739125, 0....\n",
      "299    [0.25039999999999996, -0.19533333333333333, -0...\n",
      "Name: results, Length: 300, dtype: object\n"
     ]
    }
   ],
   "source": [
    "print(affects)"
   ],
   "metadata": {
    "collapsed": false
   }
  },
  {
   "cell_type": "code",
   "execution_count": 34,
   "outputs": [
    {
     "name": "stdout",
     "output_type": "stream",
     "text": [
      "(300, 3)\n"
     ]
    }
   ],
   "source": [
    "processed_vectors = []\n",
    "for vector in affects:\n",
    "    # Check if the vector is a valid three-dimensional array\n",
    "    if isinstance(vector, np.ndarray) and vector.shape == (3,):\n",
    "        processed_vectors.append(vector)\n",
    "\n",
    "# Convert the processed vectors to a NumPy array\n",
    "# vectors_array = np.array(processed_vectors)\n",
    "np_affects = processed_vectors\n",
    "print(np.shape(np_affects))"
   ],
   "metadata": {
    "collapsed": false
   }
  },
  {
   "cell_type": "code",
   "execution_count": 41,
   "outputs": [
    {
     "name": "stdout",
     "output_type": "stream",
     "text": [
      "<class 'list'>\n",
      "12\n",
      "(300, 3)\n"
     ]
    }
   ],
   "source": [
    "print(type(np_affects))\n",
    "num_nan = np.sum(np.isnan(np_affects))\n",
    "print(num_nan)\n",
    "np_affects = np.array(np_affects)\n",
    "print(np.shape(np_affects))\n",
    "# 12 out of 300 is nan"
   ],
   "metadata": {
    "collapsed": false
   }
  },
  {
   "cell_type": "code",
   "execution_count": 60,
   "outputs": [],
   "source": [
    "min_vals = np.min(np_affects, axis=0)\n",
    "max_vals = np.max(np_affects, axis=0)\n",
    "\n",
    "# Reshape min_vals and max_vals to have the same shape as np_vectors\n",
    "min_vals = min_vals.reshape(1, -1)\n",
    "max_vals = max_vals.reshape(1, -1)\n",
    "\n",
    "# Compute the range for each dimension\n",
    "ranges = max_vals - min_vals"
   ],
   "metadata": {
    "collapsed": false
   }
  },
  {
   "cell_type": "code",
   "execution_count": 70,
   "outputs": [],
   "source": [
    "normalized_affects = (np_affects - min_vals) / ranges\n",
    "normalized_np_affects = (normalized_affects * 2) - 1"
   ],
   "metadata": {
    "collapsed": false
   }
  },
  {
   "cell_type": "code",
   "execution_count": 71,
   "outputs": [],
   "source": [
    "valence = normalized_np_affects[:, 0]\n",
    "\n",
    "arousal = normalized_np_affects[:, 1]\n",
    "\n",
    "dominance = normalized_np_affects[:, 2]\n"
   ],
   "metadata": {
    "collapsed": false
   }
  },
  {
   "cell_type": "code",
   "execution_count": 72,
   "outputs": [
    {
     "name": "stdout",
     "output_type": "stream",
     "text": [
      "0.08711111111111114\n",
      "0.2290000000000001\n",
      "-0.2159632402995234\n",
      "-0.0980825958702064\n",
      "-0.10055496828752641\n",
      "-0.00359408033826647\n"
     ]
    }
   ],
   "source": [
    "dim1_categories = categorize_valence(valence)\n",
    "dim2_categories = categorize_arousal(arousal)\n",
    "dim3_categories = categorize_dominance(dominance)\n"
   ],
   "metadata": {
    "collapsed": false
   }
  },
  {
   "cell_type": "code",
   "execution_count": 73,
   "id": "494835ed-1b66-4571-b164-b7fabb3bd5db",
   "metadata": {},
   "outputs": [],
   "source": [
    "prompts['predicted valence'] = dim1_categories\n",
    "prompts['predicted arousal'] = dim2_categories\n",
    "prompts['predicted dominance'] = dim3_categories\n"
   ]
  },
  {
   "cell_type": "code",
   "execution_count": 74,
   "id": "45dea46b-95ff-453a-bbd1-d889c1a216d2",
   "metadata": {},
   "outputs": [
    {
     "data": {
      "text/plain": "     Unnamed: 0.2  Unnamed: 0.1  Unnamed: 0 Valence Arousal Dominance    Part  \\\n0               0             0           0    High     Low    Medium  Chorus   \n1               1             1           1    High  Medium       Low  Bridge   \n2               2             2           2    High  Medium      High  Chorus   \n3               3             3           3  Medium     Low      High  Bridge   \n4               4             4           4  Medium    High    Medium  Chorus   \n..            ...           ...         ...     ...     ...       ...     ...   \n295           295           295         295    High    High       Low   Verse   \n296           296           296         296    High     Low      High   Verse   \n297           297           297         297     Low    High    Medium   Verse   \n298           298           298         298  Medium  Medium       Low   Verse   \n299           299           299         299    High    High      High   Verse   \n\n                          Artist                   Topic      Explicitness  \\\n0                     Sofya Wang  life and relationships            Normal   \n1                    Chiddy Bang  life and relationships            Normal   \n2                        Shwayze  life and relationships            Normal   \n3                   Dove Cameron                 general            Normal   \n4                         Weezer                 general            Normal   \n..                           ...                     ...               ...   \n295             The Irish Rovers                 general            Normal   \n296  Genius English Translations  life and relationships  Explicit content   \n297           Tiana Major9 & SiR                 general            Normal   \n298                  Spacey Jane    religion and society  Explicit content   \n299                   Chief Keef  life and relationships            Normal   \n\n                                                Scheme  \\\n0                                      0-0-0-1-0-0-1-1   \n1                                      0-0-1-2-3-4-5-6   \n2                                        0-1-2-0-3-3-4   \n3                                          0-1-2-1-1-1   \n4                                                    0   \n..                                                 ...   \n295  0-1-2-3-4-5-6-7-8-9-10-11-12-13-14-15-16-17-18...   \n296                                            0-0-0-0   \n297                                            0-1-2-1   \n298                                            0-1-2-3   \n299                                      0-1-1-2-2-1-3   \n\n                                           Instruction  \\\n0    Generate a Chorus of song lyrics in the style ...   \n1    Generate a Bridge of song lyrics in the style ...   \n2    Generate a Chorus of song lyrics in the style ...   \n3    Generate a Bridge of song lyrics in the style ...   \n4    Generate a Chorus of song lyrics in the style ...   \n..                                                 ...   \n295  Generate a Verse of song lyrics in the style o...   \n296  Generate a Verse of song lyrics in the style o...   \n297  Generate a Verse of song lyrics in the style o...   \n298  Generate a Verse of song lyrics in the style o...   \n299  Generate a Verse of song lyrics in the style o...   \n\n                                               results predicted explicitness  \\\n0    We're lying, we're lying in the shadows\\nI'm f...                 Normal   \n1    You don't wanna party\\nWhy you tryna party\\nI ...                 Normal   \n2    And if you run from me, baby, run from me\\nYou...                 Normal   \n3    Swing on by, all you can hear is me\\nLet's get...                 Normal   \n4            Singing like a symphony in a restaurant\\n                 Normal   \n..                                                 ...                    ...   \n295  Down to the wire\\nI'm down to the wire\\nI'm do...                 Normal   \n296  Well, I want to taste my eyes\\nI wanna see the...                 Normal   \n297  It's a big world, but I gotta do my thing\\nThe...                 Normal   \n298  Him to me a mwah a cryd for the people that kn...                 Normal   \n299  I been going every day, all the day\\nGot a lot...                 Normal   \n\n    predicted valence predicted arousal predicted dominance  \n0              Medium              High              Medium  \n1                High            Medium                 Low  \n2                High              High                High  \n3              Medium              High                High  \n4                High            Medium                High  \n..                ...               ...                 ...  \n295               Low               Low                 Low  \n296              High              High                 Low  \n297              High            Medium                High  \n298            Medium            Medium              Medium  \n299              High               Low              Medium  \n\n[300 rows x 17 columns]",
      "text/html": "<div>\n<style scoped>\n    .dataframe tbody tr th:only-of-type {\n        vertical-align: middle;\n    }\n\n    .dataframe tbody tr th {\n        vertical-align: top;\n    }\n\n    .dataframe thead th {\n        text-align: right;\n    }\n</style>\n<table border=\"1\" class=\"dataframe\">\n  <thead>\n    <tr style=\"text-align: right;\">\n      <th></th>\n      <th>Unnamed: 0.2</th>\n      <th>Unnamed: 0.1</th>\n      <th>Unnamed: 0</th>\n      <th>Valence</th>\n      <th>Arousal</th>\n      <th>Dominance</th>\n      <th>Part</th>\n      <th>Artist</th>\n      <th>Topic</th>\n      <th>Explicitness</th>\n      <th>Scheme</th>\n      <th>Instruction</th>\n      <th>results</th>\n      <th>predicted explicitness</th>\n      <th>predicted valence</th>\n      <th>predicted arousal</th>\n      <th>predicted dominance</th>\n    </tr>\n  </thead>\n  <tbody>\n    <tr>\n      <th>0</th>\n      <td>0</td>\n      <td>0</td>\n      <td>0</td>\n      <td>High</td>\n      <td>Low</td>\n      <td>Medium</td>\n      <td>Chorus</td>\n      <td>Sofya Wang</td>\n      <td>life and relationships</td>\n      <td>Normal</td>\n      <td>0-0-0-1-0-0-1-1</td>\n      <td>Generate a Chorus of song lyrics in the style ...</td>\n      <td>We're lying, we're lying in the shadows\\nI'm f...</td>\n      <td>Normal</td>\n      <td>Medium</td>\n      <td>High</td>\n      <td>Medium</td>\n    </tr>\n    <tr>\n      <th>1</th>\n      <td>1</td>\n      <td>1</td>\n      <td>1</td>\n      <td>High</td>\n      <td>Medium</td>\n      <td>Low</td>\n      <td>Bridge</td>\n      <td>Chiddy Bang</td>\n      <td>life and relationships</td>\n      <td>Normal</td>\n      <td>0-0-1-2-3-4-5-6</td>\n      <td>Generate a Bridge of song lyrics in the style ...</td>\n      <td>You don't wanna party\\nWhy you tryna party\\nI ...</td>\n      <td>Normal</td>\n      <td>High</td>\n      <td>Medium</td>\n      <td>Low</td>\n    </tr>\n    <tr>\n      <th>2</th>\n      <td>2</td>\n      <td>2</td>\n      <td>2</td>\n      <td>High</td>\n      <td>Medium</td>\n      <td>High</td>\n      <td>Chorus</td>\n      <td>Shwayze</td>\n      <td>life and relationships</td>\n      <td>Normal</td>\n      <td>0-1-2-0-3-3-4</td>\n      <td>Generate a Chorus of song lyrics in the style ...</td>\n      <td>And if you run from me, baby, run from me\\nYou...</td>\n      <td>Normal</td>\n      <td>High</td>\n      <td>High</td>\n      <td>High</td>\n    </tr>\n    <tr>\n      <th>3</th>\n      <td>3</td>\n      <td>3</td>\n      <td>3</td>\n      <td>Medium</td>\n      <td>Low</td>\n      <td>High</td>\n      <td>Bridge</td>\n      <td>Dove Cameron</td>\n      <td>general</td>\n      <td>Normal</td>\n      <td>0-1-2-1-1-1</td>\n      <td>Generate a Bridge of song lyrics in the style ...</td>\n      <td>Swing on by, all you can hear is me\\nLet's get...</td>\n      <td>Normal</td>\n      <td>Medium</td>\n      <td>High</td>\n      <td>High</td>\n    </tr>\n    <tr>\n      <th>4</th>\n      <td>4</td>\n      <td>4</td>\n      <td>4</td>\n      <td>Medium</td>\n      <td>High</td>\n      <td>Medium</td>\n      <td>Chorus</td>\n      <td>Weezer</td>\n      <td>general</td>\n      <td>Normal</td>\n      <td>0</td>\n      <td>Generate a Chorus of song lyrics in the style ...</td>\n      <td>Singing like a symphony in a restaurant\\n</td>\n      <td>Normal</td>\n      <td>High</td>\n      <td>Medium</td>\n      <td>High</td>\n    </tr>\n    <tr>\n      <th>...</th>\n      <td>...</td>\n      <td>...</td>\n      <td>...</td>\n      <td>...</td>\n      <td>...</td>\n      <td>...</td>\n      <td>...</td>\n      <td>...</td>\n      <td>...</td>\n      <td>...</td>\n      <td>...</td>\n      <td>...</td>\n      <td>...</td>\n      <td>...</td>\n      <td>...</td>\n      <td>...</td>\n      <td>...</td>\n    </tr>\n    <tr>\n      <th>295</th>\n      <td>295</td>\n      <td>295</td>\n      <td>295</td>\n      <td>High</td>\n      <td>High</td>\n      <td>Low</td>\n      <td>Verse</td>\n      <td>The Irish Rovers</td>\n      <td>general</td>\n      <td>Normal</td>\n      <td>0-1-2-3-4-5-6-7-8-9-10-11-12-13-14-15-16-17-18...</td>\n      <td>Generate a Verse of song lyrics in the style o...</td>\n      <td>Down to the wire\\nI'm down to the wire\\nI'm do...</td>\n      <td>Normal</td>\n      <td>Low</td>\n      <td>Low</td>\n      <td>Low</td>\n    </tr>\n    <tr>\n      <th>296</th>\n      <td>296</td>\n      <td>296</td>\n      <td>296</td>\n      <td>High</td>\n      <td>Low</td>\n      <td>High</td>\n      <td>Verse</td>\n      <td>Genius English Translations</td>\n      <td>life and relationships</td>\n      <td>Explicit content</td>\n      <td>0-0-0-0</td>\n      <td>Generate a Verse of song lyrics in the style o...</td>\n      <td>Well, I want to taste my eyes\\nI wanna see the...</td>\n      <td>Normal</td>\n      <td>High</td>\n      <td>High</td>\n      <td>Low</td>\n    </tr>\n    <tr>\n      <th>297</th>\n      <td>297</td>\n      <td>297</td>\n      <td>297</td>\n      <td>Low</td>\n      <td>High</td>\n      <td>Medium</td>\n      <td>Verse</td>\n      <td>Tiana Major9 &amp; SiR</td>\n      <td>general</td>\n      <td>Normal</td>\n      <td>0-1-2-1</td>\n      <td>Generate a Verse of song lyrics in the style o...</td>\n      <td>It's a big world, but I gotta do my thing\\nThe...</td>\n      <td>Normal</td>\n      <td>High</td>\n      <td>Medium</td>\n      <td>High</td>\n    </tr>\n    <tr>\n      <th>298</th>\n      <td>298</td>\n      <td>298</td>\n      <td>298</td>\n      <td>Medium</td>\n      <td>Medium</td>\n      <td>Low</td>\n      <td>Verse</td>\n      <td>Spacey Jane</td>\n      <td>religion and society</td>\n      <td>Explicit content</td>\n      <td>0-1-2-3</td>\n      <td>Generate a Verse of song lyrics in the style o...</td>\n      <td>Him to me a mwah a cryd for the people that kn...</td>\n      <td>Normal</td>\n      <td>Medium</td>\n      <td>Medium</td>\n      <td>Medium</td>\n    </tr>\n    <tr>\n      <th>299</th>\n      <td>299</td>\n      <td>299</td>\n      <td>299</td>\n      <td>High</td>\n      <td>High</td>\n      <td>High</td>\n      <td>Verse</td>\n      <td>Chief Keef</td>\n      <td>life and relationships</td>\n      <td>Normal</td>\n      <td>0-1-1-2-2-1-3</td>\n      <td>Generate a Verse of song lyrics in the style o...</td>\n      <td>I been going every day, all the day\\nGot a lot...</td>\n      <td>Normal</td>\n      <td>High</td>\n      <td>Low</td>\n      <td>Medium</td>\n    </tr>\n  </tbody>\n</table>\n<p>300 rows × 17 columns</p>\n</div>"
     },
     "execution_count": 74,
     "metadata": {},
     "output_type": "execute_result"
    }
   ],
   "source": [
    "prompts"
   ]
  },
  {
   "cell_type": "code",
   "execution_count": 74,
   "outputs": [],
   "source": [],
   "metadata": {
    "collapsed": false
   }
  },
  {
   "cell_type": "code",
   "execution_count": 89,
   "outputs": [
    {
     "name": "stdout",
     "output_type": "stream",
     "text": [
      "96\n",
      "Confusion Matrix:\n",
      "[[25 31 42]\n",
      " [31 24 38]\n",
      " [39 23 47]]\n",
      "Accuracy: 0.32\n",
      "[[25 31 42]\n",
      " [31 24 38]\n",
      " [39 23 47]]\n"
     ]
    }
   ],
   "source": [
    "match = 0\n",
    "for i in range(300):\n",
    "    if prompts.loc[i, 'Valence'] == prompts.loc[i, 'predicted valence']:\n",
    "        match += 1\n",
    "print(match)\n",
    "from sklearn.metrics import confusion_matrix, accuracy_score\n",
    "\n",
    "# Assuming your DataFrame is called 'df' with columns 'ground_truth' and 'predicted'\n",
    "ground_truth = prompts['Valence']\n",
    "predicted = prompts['predicted valence']\n",
    "\n",
    "class_labels = ['Low', 'Medium', 'High']  # Replace with your actual class labels\n",
    "\n",
    "# Create the confusion matrix\n",
    "cm = confusion_matrix(ground_truth, predicted, labels=class_labels)\n",
    "# Create the confusion matrix\n",
    "accuracy = accuracy_score(ground_truth, predicted)\n",
    "\n",
    "print(\"Confusion Matrix:\")\n",
    "print(cm)\n",
    "print(\"Accuracy:\", accuracy)\n",
    "\n",
    "\n",
    "print(cm)\n"
   ],
   "metadata": {
    "collapsed": false
   }
  },
  {
   "cell_type": "code",
   "execution_count": 90,
   "outputs": [
    {
     "name": "stdout",
     "output_type": "stream",
     "text": [
      "115\n",
      "Confusion Matrix:\n",
      "[[54 30 24]\n",
      " [43 28 29]\n",
      " [40 19 33]]\n",
      "Accuracy: 0.38333333333333336\n",
      "[[54 30 24]\n",
      " [43 28 29]\n",
      " [40 19 33]]\n"
     ]
    }
   ],
   "source": [
    "match = 0\n",
    "for i in range(300):\n",
    "    if prompts.loc[i, 'Arousal'] == prompts.loc[i, 'predicted arousal']:\n",
    "        match += 1\n",
    "print(match)\n",
    "from sklearn.metrics import confusion_matrix\n",
    "\n",
    "# Assuming your DataFrame is called 'df' with columns 'ground_truth' and 'predicted'\n",
    "ground_truth = prompts['Arousal']\n",
    "predicted = prompts['predicted arousal']\n",
    "\n",
    "class_labels = ['Low', 'Medium', 'High']  # Replace with your actual class labels\n",
    "\n",
    "# Create the confusion matrix\n",
    "cm = confusion_matrix(ground_truth, predicted, labels=class_labels)\n",
    "accuracy = accuracy_score(ground_truth, predicted)\n",
    "\n",
    "print(\"Confusion Matrix:\")\n",
    "print(cm)\n",
    "print(\"Accuracy:\", accuracy)\n",
    "# Create the confusion matrix\n",
    "\n",
    "\n",
    "print(cm)"
   ],
   "metadata": {
    "collapsed": false
   }
  },
  {
   "cell_type": "code",
   "execution_count": 88,
   "outputs": [
    {
     "name": "stdout",
     "output_type": "stream",
     "text": [
      "132\n",
      "Confusion Matrix:\n",
      "[[48 21 35]\n",
      " [34 28 35]\n",
      " [21 22 56]]\n",
      "Accuracy: 0.44\n",
      "[[48 21 35]\n",
      " [34 28 35]\n",
      " [21 22 56]]\n"
     ]
    }
   ],
   "source": [
    "match = 0\n",
    "for i in range(300):\n",
    "    if prompts.loc[i, 'Dominance'] == prompts.loc[i, 'predicted dominance']:\n",
    "        match += 1\n",
    "print(match)\n",
    "from sklearn.metrics import confusion_matrix, accuracy_score\n",
    "\n",
    "# Assuming your DataFrame is called 'df' with columns 'ground_truth' and 'predicted'\n",
    "ground_truth = prompts['Dominance']\n",
    "predicted = prompts['predicted dominance']\n",
    "\n",
    "class_labels = ['Low', 'Medium', 'High']  # Replace with your actual class labels\n",
    "\n",
    "# Create the confusion matrix\n",
    "cm = confusion_matrix(ground_truth, predicted, labels=class_labels)\n",
    "# Create the confusion matrix\n",
    "accuracy = accuracy_score(ground_truth, predicted)\n",
    "\n",
    "print(\"Confusion Matrix:\")\n",
    "print(cm)\n",
    "print(\"Accuracy:\", accuracy)\n",
    "\n",
    "print(cm)"
   ],
   "metadata": {
    "collapsed": false
   }
  },
  {
   "cell_type": "code",
   "execution_count": 146,
   "id": "b10aee0a-7b32-4bb0-a0a6-4894a0303700",
   "metadata": {},
   "outputs": [],
   "source": [
    "lyrics.to_csv('LYRICS_FINAL.csv')"
   ]
  },
  {
   "cell_type": "code",
   "execution_count": 149,
   "id": "29b52c8b-f9aa-4819-af1a-31ad8a22322e",
   "metadata": {},
   "outputs": [],
   "source": [
    "topics_lyrics = pd.read_csv('song_topics.csv')"
   ]
  },
  {
   "cell_type": "code",
   "execution_count": 151,
   "id": "55a61dfe-ed0c-4000-a64a-75c9777f2ead",
   "metadata": {},
   "outputs": [],
   "source": [
    "topics_lyrics.drop(indices_list, inplace=True)"
   ]
  },
  {
   "cell_type": "code",
   "execution_count": 153,
   "id": "36c4f2bc-c5b1-430e-b3bc-d4b067cb4839",
   "metadata": {},
   "outputs": [],
   "source": [
    "topics_lyrics.reset_index(drop=True, inplace=True)\n"
   ]
  },
  {
   "cell_type": "code",
   "execution_count": 154,
   "id": "6ce43c51-56cd-468b-bfbc-ccbc6e245219",
   "metadata": {},
   "outputs": [
    {
     "data": {
      "text/html": [
       "<div>\n",
       "<style scoped>\n",
       "    .dataframe tbody tr th:only-of-type {\n",
       "        vertical-align: middle;\n",
       "    }\n",
       "\n",
       "    .dataframe tbody tr th {\n",
       "        vertical-align: top;\n",
       "    }\n",
       "\n",
       "    .dataframe thead th {\n",
       "        text-align: right;\n",
       "    }\n",
       "</style>\n",
       "<table border=\"1\" class=\"dataframe\">\n",
       "  <thead>\n",
       "    <tr style=\"text-align: right;\">\n",
       "      <th></th>\n",
       "      <th>artist</th>\n",
       "      <th>title</th>\n",
       "      <th>tag</th>\n",
       "      <th>year</th>\n",
       "      <th>views</th>\n",
       "      <th>part</th>\n",
       "      <th>lyrics</th>\n",
       "      <th>explicitness</th>\n",
       "      <th>tokenized, lemmatized, no bad words</th>\n",
       "      <th>topic</th>\n",
       "      <th>topic vectors</th>\n",
       "    </tr>\n",
       "  </thead>\n",
       "  <tbody>\n",
       "    <tr>\n",
       "      <th>0</th>\n",
       "      <td>JAY-Z</td>\n",
       "      <td>Can I Live</td>\n",
       "      <td>rap</td>\n",
       "      <td>1996</td>\n",
       "      <td>468624</td>\n",
       "      <td>[Verse 1]</td>\n",
       "      <td>While I'm watchin' every nigga watchin' me clo...</td>\n",
       "      <td>Explicit content</td>\n",
       "      <td>['watchin', 'every', 'watchin', 'closely', 'bu...</td>\n",
       "      <td>general</td>\n",
       "      <td>[(0, 0.019203642), (1, 0.02010541), (2, 0.3112...</td>\n",
       "    </tr>\n",
       "    <tr>\n",
       "      <th>1</th>\n",
       "      <td>JAY-Z</td>\n",
       "      <td>Can I Live</td>\n",
       "      <td>rap</td>\n",
       "      <td>1996</td>\n",
       "      <td>468624</td>\n",
       "      <td>[Chorus]</td>\n",
       "      <td>Ge-ge-geyeahhh\\nCan I live?\\nCan I live?</td>\n",
       "      <td>Normal</td>\n",
       "      <td>['geyeahhh', 'live', 'live']</td>\n",
       "      <td>life and relationships</td>\n",
       "      <td>[(0, 0.050868712), (1, 0.025604054), (2, 0.593...</td>\n",
       "    </tr>\n",
       "    <tr>\n",
       "      <th>2</th>\n",
       "      <td>JAY-Z</td>\n",
       "      <td>Can I Live</td>\n",
       "      <td>rap</td>\n",
       "      <td>1996</td>\n",
       "      <td>468624</td>\n",
       "      <td>[Verse 2]</td>\n",
       "      <td>My mind is infested with sick thoughts that ci...</td>\n",
       "      <td>Normal</td>\n",
       "      <td>['mind', 'infested', 'sick', 'thought', 'circl...</td>\n",
       "      <td>general</td>\n",
       "      <td>[(0, 0.028946271), (2, 0.28977466), (3, 0.0516...</td>\n",
       "    </tr>\n",
       "    <tr>\n",
       "      <th>3</th>\n",
       "      <td>JAY-Z</td>\n",
       "      <td>Can I Live</td>\n",
       "      <td>rap</td>\n",
       "      <td>1996</td>\n",
       "      <td>468624</td>\n",
       "      <td>[Chorus]</td>\n",
       "      <td>Can I live?\\nCan I live?\\nCan I live?\\nCan I l...</td>\n",
       "      <td>Normal</td>\n",
       "      <td>['live', 'live', 'live', 'live']</td>\n",
       "      <td>life and relationships</td>\n",
       "      <td>[(0, 0.04173949), (1, 0.021008987), (2, 0.6667...</td>\n",
       "    </tr>\n",
       "    <tr>\n",
       "      <th>4</th>\n",
       "      <td>Fabolous</td>\n",
       "      <td>Forgive Me Father</td>\n",
       "      <td>rap</td>\n",
       "      <td>2003</td>\n",
       "      <td>4743</td>\n",
       "      <td>[Hook]</td>\n",
       "      <td>Forgive me father for I have sinned\\nBut look ...</td>\n",
       "      <td>Explicit content</td>\n",
       "      <td>['forgive', 'father', 'sinned', 'look', 'money...</td>\n",
       "      <td>life and relationships</td>\n",
       "      <td>[(0, 0.01798938), (2, 0.55931425), (3, 0.05453...</td>\n",
       "    </tr>\n",
       "    <tr>\n",
       "      <th>...</th>\n",
       "      <td>...</td>\n",
       "      <td>...</td>\n",
       "      <td>...</td>\n",
       "      <td>...</td>\n",
       "      <td>...</td>\n",
       "      <td>...</td>\n",
       "      <td>...</td>\n",
       "      <td>...</td>\n",
       "      <td>...</td>\n",
       "      <td>...</td>\n",
       "      <td>...</td>\n",
       "    </tr>\n",
       "    <tr>\n",
       "      <th>5285446</th>\n",
       "      <td>Alana Springsteen</td>\n",
       "      <td>New Number</td>\n",
       "      <td>country</td>\n",
       "      <td>2022</td>\n",
       "      <td>1</td>\n",
       "      <td>[Chorus]</td>\n",
       "      <td>One that I ain't dial at least a couple thousa...</td>\n",
       "      <td>Normal</td>\n",
       "      <td>['one', 'dial', 'least', 'couple', 'thousand',...</td>\n",
       "      <td>money and authority</td>\n",
       "      <td>[(0, 0.1113326), (1, 0.010574765), (2, 0.59507...</td>\n",
       "    </tr>\n",
       "    <tr>\n",
       "      <th>5285447</th>\n",
       "      <td>Alana Springsteen</td>\n",
       "      <td>New Number</td>\n",
       "      <td>country</td>\n",
       "      <td>2022</td>\n",
       "      <td>1</td>\n",
       "      <td>[Verse 2]</td>\n",
       "      <td>You need a new number and you can't get it fas...</td>\n",
       "      <td>Normal</td>\n",
       "      <td>['need', 'new', 'number', 'fast', 'enough', 'c...</td>\n",
       "      <td>money and authority</td>\n",
       "      <td>[(0, 0.10296713), (2, 0.7100746), (3, 0.018717...</td>\n",
       "    </tr>\n",
       "    <tr>\n",
       "      <th>5285448</th>\n",
       "      <td>Alana Springsteen</td>\n",
       "      <td>New Number</td>\n",
       "      <td>country</td>\n",
       "      <td>2022</td>\n",
       "      <td>1</td>\n",
       "      <td>[Chorus]</td>\n",
       "      <td>One that I ain't dial at least a couple thousa...</td>\n",
       "      <td>Normal</td>\n",
       "      <td>['one', 'dial', 'least', 'couple', 'thousand',...</td>\n",
       "      <td>money and authority</td>\n",
       "      <td>[(0, 0.098045945), (2, 0.6052145), (3, 0.01632...</td>\n",
       "    </tr>\n",
       "    <tr>\n",
       "      <th>5285449</th>\n",
       "      <td>Alana Springsteen</td>\n",
       "      <td>New Number</td>\n",
       "      <td>country</td>\n",
       "      <td>2022</td>\n",
       "      <td>1</td>\n",
       "      <td>[Bridge]</td>\n",
       "      <td>Oh, if you wanna help me out\\nIf you wanna let...</td>\n",
       "      <td>Normal</td>\n",
       "      <td>['wanna', 'help', 'wanna', 'let', 'easy', 'car...</td>\n",
       "      <td>money and authority</td>\n",
       "      <td>[(0, 0.18100938), (1, 0.012229693), (2, 0.6424...</td>\n",
       "    </tr>\n",
       "    <tr>\n",
       "      <th>5285450</th>\n",
       "      <td>Alana Springsteen</td>\n",
       "      <td>New Number</td>\n",
       "      <td>country</td>\n",
       "      <td>2022</td>\n",
       "      <td>1</td>\n",
       "      <td>[Verse 3]</td>\n",
       "      <td>You need a new number, one that I don't know\\n...</td>\n",
       "      <td>Normal</td>\n",
       "      <td>['need', 'new', 'number', 'one', 'know', 'keep...</td>\n",
       "      <td>money and authority</td>\n",
       "      <td>[(0, 0.113489255), (2, 0.55070066), (3, 0.0500...</td>\n",
       "    </tr>\n",
       "  </tbody>\n",
       "</table>\n",
       "<p>5285451 rows × 11 columns</p>\n",
       "</div>"
      ],
      "text/plain": [
       "                    artist              title      tag  year   views  \\\n",
       "0                    JAY-Z         Can I Live      rap  1996  468624   \n",
       "1                    JAY-Z         Can I Live      rap  1996  468624   \n",
       "2                    JAY-Z         Can I Live      rap  1996  468624   \n",
       "3                    JAY-Z         Can I Live      rap  1996  468624   \n",
       "4                 Fabolous  Forgive Me Father      rap  2003    4743   \n",
       "...                    ...                ...      ...   ...     ...   \n",
       "5285446  Alana Springsteen         New Number  country  2022       1   \n",
       "5285447  Alana Springsteen         New Number  country  2022       1   \n",
       "5285448  Alana Springsteen         New Number  country  2022       1   \n",
       "5285449  Alana Springsteen         New Number  country  2022       1   \n",
       "5285450  Alana Springsteen         New Number  country  2022       1   \n",
       "\n",
       "              part                                             lyrics  \\\n",
       "0        [Verse 1]  While I'm watchin' every nigga watchin' me clo...   \n",
       "1         [Chorus]           Ge-ge-geyeahhh\\nCan I live?\\nCan I live?   \n",
       "2        [Verse 2]  My mind is infested with sick thoughts that ci...   \n",
       "3         [Chorus]  Can I live?\\nCan I live?\\nCan I live?\\nCan I l...   \n",
       "4           [Hook]  Forgive me father for I have sinned\\nBut look ...   \n",
       "...            ...                                                ...   \n",
       "5285446   [Chorus]  One that I ain't dial at least a couple thousa...   \n",
       "5285447  [Verse 2]  You need a new number and you can't get it fas...   \n",
       "5285448   [Chorus]  One that I ain't dial at least a couple thousa...   \n",
       "5285449   [Bridge]  Oh, if you wanna help me out\\nIf you wanna let...   \n",
       "5285450  [Verse 3]  You need a new number, one that I don't know\\n...   \n",
       "\n",
       "             explicitness                tokenized, lemmatized, no bad words  \\\n",
       "0        Explicit content  ['watchin', 'every', 'watchin', 'closely', 'bu...   \n",
       "1                  Normal                       ['geyeahhh', 'live', 'live']   \n",
       "2                  Normal  ['mind', 'infested', 'sick', 'thought', 'circl...   \n",
       "3                  Normal                   ['live', 'live', 'live', 'live']   \n",
       "4        Explicit content  ['forgive', 'father', 'sinned', 'look', 'money...   \n",
       "...                   ...                                                ...   \n",
       "5285446            Normal  ['one', 'dial', 'least', 'couple', 'thousand',...   \n",
       "5285447            Normal  ['need', 'new', 'number', 'fast', 'enough', 'c...   \n",
       "5285448            Normal  ['one', 'dial', 'least', 'couple', 'thousand',...   \n",
       "5285449            Normal  ['wanna', 'help', 'wanna', 'let', 'easy', 'car...   \n",
       "5285450            Normal  ['need', 'new', 'number', 'one', 'know', 'keep...   \n",
       "\n",
       "                          topic  \\\n",
       "0                       general   \n",
       "1        life and relationships   \n",
       "2                       general   \n",
       "3        life and relationships   \n",
       "4        life and relationships   \n",
       "...                         ...   \n",
       "5285446     money and authority   \n",
       "5285447     money and authority   \n",
       "5285448     money and authority   \n",
       "5285449     money and authority   \n",
       "5285450     money and authority   \n",
       "\n",
       "                                             topic vectors  \n",
       "0        [(0, 0.019203642), (1, 0.02010541), (2, 0.3112...  \n",
       "1        [(0, 0.050868712), (1, 0.025604054), (2, 0.593...  \n",
       "2        [(0, 0.028946271), (2, 0.28977466), (3, 0.0516...  \n",
       "3        [(0, 0.04173949), (1, 0.021008987), (2, 0.6667...  \n",
       "4        [(0, 0.01798938), (2, 0.55931425), (3, 0.05453...  \n",
       "...                                                    ...  \n",
       "5285446  [(0, 0.1113326), (1, 0.010574765), (2, 0.59507...  \n",
       "5285447  [(0, 0.10296713), (2, 0.7100746), (3, 0.018717...  \n",
       "5285448  [(0, 0.098045945), (2, 0.6052145), (3, 0.01632...  \n",
       "5285449  [(0, 0.18100938), (1, 0.012229693), (2, 0.6424...  \n",
       "5285450  [(0, 0.113489255), (2, 0.55070066), (3, 0.0500...  \n",
       "\n",
       "[5285451 rows x 11 columns]"
      ]
     },
     "execution_count": 154,
     "metadata": {},
     "output_type": "execute_result"
    }
   ],
   "source": [
    "topics_lyrics"
   ]
  },
  {
   "cell_type": "code",
   "execution_count": 155,
   "id": "aa6e8106-0d1f-48b3-bf6f-8d931126cd02",
   "metadata": {},
   "outputs": [],
   "source": [
    "topics = topics_lyrics[\"topic\"].values.tolist()"
   ]
  },
  {
   "cell_type": "code",
   "execution_count": 156,
   "id": "e6fcba70-9634-4493-be93-14ba998c3086",
   "metadata": {},
   "outputs": [],
   "source": [
    "lyrics['topic'] = topics"
   ]
  },
  {
   "cell_type": "code",
   "execution_count": 157,
   "id": "0585d316-45ca-4b5f-ac67-c1b579a30cbb",
   "metadata": {},
   "outputs": [
    {
     "data": {
      "text/html": [
       "<div>\n",
       "<style scoped>\n",
       "    .dataframe tbody tr th:only-of-type {\n",
       "        vertical-align: middle;\n",
       "    }\n",
       "\n",
       "    .dataframe tbody tr th {\n",
       "        vertical-align: top;\n",
       "    }\n",
       "\n",
       "    .dataframe thead th {\n",
       "        text-align: right;\n",
       "    }\n",
       "</style>\n",
       "<table border=\"1\" class=\"dataframe\">\n",
       "  <thead>\n",
       "    <tr style=\"text-align: right;\">\n",
       "      <th></th>\n",
       "      <th>artist</th>\n",
       "      <th>title</th>\n",
       "      <th>tag</th>\n",
       "      <th>year</th>\n",
       "      <th>views</th>\n",
       "      <th>part</th>\n",
       "      <th>lyrics</th>\n",
       "      <th>explicitness</th>\n",
       "      <th>tokenized, lemmatized, no bad words</th>\n",
       "      <th>predicted_topics</th>\n",
       "      <th>topic vectors</th>\n",
       "      <th>schemes</th>\n",
       "      <th>affect majority score</th>\n",
       "      <th>Valence</th>\n",
       "      <th>Arousal</th>\n",
       "      <th>Dominance</th>\n",
       "      <th>topic</th>\n",
       "    </tr>\n",
       "  </thead>\n",
       "  <tbody>\n",
       "    <tr>\n",
       "      <th>0</th>\n",
       "      <td>JAY-Z</td>\n",
       "      <td>Can I Live</td>\n",
       "      <td>rap</td>\n",
       "      <td>1996</td>\n",
       "      <td>468624</td>\n",
       "      <td>[Verse 1]</td>\n",
       "      <td>While I'm watchin' every nigga watchin' me clo...</td>\n",
       "      <td>Explicit content</td>\n",
       "      <td>['watchin', 'every', 'watchin', 'closely', 'bu...</td>\n",
       "      <td>wealth and authority</td>\n",
       "      <td>[(0, 0.113372415), (1, 0.39564058), (2, 0.0583...</td>\n",
       "      <td>0-0-0-0-1-1-0-2-0-3-4-5-0-6-7-8-7-9-7-5-5-10-1...</td>\n",
       "      <td>[0.15460162601626018, -0.05027642276422763, 0....</td>\n",
       "      <td>Medium</td>\n",
       "      <td>Medium</td>\n",
       "      <td>Medium</td>\n",
       "      <td>general</td>\n",
       "    </tr>\n",
       "    <tr>\n",
       "      <th>1</th>\n",
       "      <td>JAY-Z</td>\n",
       "      <td>Can I Live</td>\n",
       "      <td>rap</td>\n",
       "      <td>1996</td>\n",
       "      <td>468624</td>\n",
       "      <td>[Chorus]</td>\n",
       "      <td>Ge-ge-geyeahhh\\nCan I live?\\nCan I live?</td>\n",
       "      <td>Normal</td>\n",
       "      <td>['geyeahhh', 'live', 'live']</td>\n",
       "      <td>violence</td>\n",
       "      <td>[(0, 0.05250941), (1, 0.1470429), (2, 0.052438...</td>\n",
       "      <td>0-1-2</td>\n",
       "      <td>[0.542, 0.032999999999999974, 0.13]</td>\n",
       "      <td>High</td>\n",
       "      <td>High</td>\n",
       "      <td>High</td>\n",
       "      <td>life and relationships</td>\n",
       "    </tr>\n",
       "    <tr>\n",
       "      <th>2</th>\n",
       "      <td>JAY-Z</td>\n",
       "      <td>Can I Live</td>\n",
       "      <td>rap</td>\n",
       "      <td>1996</td>\n",
       "      <td>468624</td>\n",
       "      <td>[Verse 2]</td>\n",
       "      <td>My mind is infested with sick thoughts that ci...</td>\n",
       "      <td>Normal</td>\n",
       "      <td>['mind', 'infested', 'sick', 'thought', 'circl...</td>\n",
       "      <td>wealth and authority</td>\n",
       "      <td>[(0, 0.10937761), (1, 0.3868071), (2, 0.050701...</td>\n",
       "      <td>0-1-1-1-2-3-4-5-5-6-6-1-1-1-7-7-8</td>\n",
       "      <td>[0.11377142857142858, -0.06905714285714284, 0....</td>\n",
       "      <td>Medium</td>\n",
       "      <td>Medium</td>\n",
       "      <td>High</td>\n",
       "      <td>general</td>\n",
       "    </tr>\n",
       "    <tr>\n",
       "      <th>3</th>\n",
       "      <td>JAY-Z</td>\n",
       "      <td>Can I Live</td>\n",
       "      <td>rap</td>\n",
       "      <td>1996</td>\n",
       "      <td>468624</td>\n",
       "      <td>[Chorus]</td>\n",
       "      <td>Can I live?\\nCan I live?\\nCan I live?\\nCan I l...</td>\n",
       "      <td>Normal</td>\n",
       "      <td>['live', 'live', 'live', 'live']</td>\n",
       "      <td>violence</td>\n",
       "      <td>[(0, 0.044248056), (1, 0.12390851), (2, 0.0441...</td>\n",
       "      <td>0-1-2-3</td>\n",
       "      <td>[0.5419999999999999, 0.032999999999999974, 0.13]</td>\n",
       "      <td>High</td>\n",
       "      <td>High</td>\n",
       "      <td>High</td>\n",
       "      <td>life and relationships</td>\n",
       "    </tr>\n",
       "    <tr>\n",
       "      <th>4</th>\n",
       "      <td>Fabolous</td>\n",
       "      <td>Forgive Me Father</td>\n",
       "      <td>rap</td>\n",
       "      <td>2003</td>\n",
       "      <td>4743</td>\n",
       "      <td>[Hook]</td>\n",
       "      <td>Forgive me father for I have sinned\\nBut look ...</td>\n",
       "      <td>Explicit content</td>\n",
       "      <td>['forgive', 'father', 'sinned', 'look', 'money...</td>\n",
       "      <td>violence</td>\n",
       "      <td>[(0, 0.05578675), (1, 0.19629966), (2, 0.09306...</td>\n",
       "      <td>0-0-0-0-1-0-0-0</td>\n",
       "      <td>[0.2957894736842104, -0.10726315789473684, 0.0...</td>\n",
       "      <td>High</td>\n",
       "      <td>Medium</td>\n",
       "      <td>High</td>\n",
       "      <td>life and relationships</td>\n",
       "    </tr>\n",
       "    <tr>\n",
       "      <th>...</th>\n",
       "      <td>...</td>\n",
       "      <td>...</td>\n",
       "      <td>...</td>\n",
       "      <td>...</td>\n",
       "      <td>...</td>\n",
       "      <td>...</td>\n",
       "      <td>...</td>\n",
       "      <td>...</td>\n",
       "      <td>...</td>\n",
       "      <td>...</td>\n",
       "      <td>...</td>\n",
       "      <td>...</td>\n",
       "      <td>...</td>\n",
       "      <td>...</td>\n",
       "      <td>...</td>\n",
       "      <td>...</td>\n",
       "      <td>...</td>\n",
       "    </tr>\n",
       "    <tr>\n",
       "      <th>5285446</th>\n",
       "      <td>Alana Springsteen</td>\n",
       "      <td>New Number</td>\n",
       "      <td>country</td>\n",
       "      <td>2022</td>\n",
       "      <td>1</td>\n",
       "      <td>[Chorus]</td>\n",
       "      <td>One that I ain't dial at least a couple thousa...</td>\n",
       "      <td>Normal</td>\n",
       "      <td>['one', 'dial', 'least', 'couple', 'thousand',...</td>\n",
       "      <td>violence</td>\n",
       "      <td>[(0, 0.02372636), (1, 0.1153468), (2, 0.023694...</td>\n",
       "      <td>0-1-0-2-3</td>\n",
       "      <td>[0.21057142857142855, -0.2071428571428571, -0....</td>\n",
       "      <td>Medium</td>\n",
       "      <td>Low</td>\n",
       "      <td>Low</td>\n",
       "      <td>money and authority</td>\n",
       "    </tr>\n",
       "    <tr>\n",
       "      <th>5285447</th>\n",
       "      <td>Alana Springsteen</td>\n",
       "      <td>New Number</td>\n",
       "      <td>country</td>\n",
       "      <td>2022</td>\n",
       "      <td>1</td>\n",
       "      <td>[Verse 2]</td>\n",
       "      <td>You need a new number and you can't get it fas...</td>\n",
       "      <td>Normal</td>\n",
       "      <td>['need', 'new', 'number', 'fast', 'enough', 'c...</td>\n",
       "      <td>home and nature</td>\n",
       "      <td>[(0, 0.17068717), (1, 0.13369475), (2, 0.02103...</td>\n",
       "      <td>0-0-1-2</td>\n",
       "      <td>[0.3163076923076923, -0.09276923076923077, 0.0...</td>\n",
       "      <td>High</td>\n",
       "      <td>Medium</td>\n",
       "      <td>Medium</td>\n",
       "      <td>money and authority</td>\n",
       "    </tr>\n",
       "    <tr>\n",
       "      <th>5285448</th>\n",
       "      <td>Alana Springsteen</td>\n",
       "      <td>New Number</td>\n",
       "      <td>country</td>\n",
       "      <td>2022</td>\n",
       "      <td>1</td>\n",
       "      <td>[Chorus]</td>\n",
       "      <td>One that I ain't dial at least a couple thousa...</td>\n",
       "      <td>Normal</td>\n",
       "      <td>['one', 'dial', 'least', 'couple', 'thousand',...</td>\n",
       "      <td>violence</td>\n",
       "      <td>[(0, 0.021061467), (1, 0.15476061), (2, 0.0210...</td>\n",
       "      <td>0-1-0-2-3-2-4-5</td>\n",
       "      <td>[0.2125882352941176, -0.19470588235294115, -0....</td>\n",
       "      <td>Medium</td>\n",
       "      <td>Low</td>\n",
       "      <td>Low</td>\n",
       "      <td>money and authority</td>\n",
       "    </tr>\n",
       "    <tr>\n",
       "      <th>5285449</th>\n",
       "      <td>Alana Springsteen</td>\n",
       "      <td>New Number</td>\n",
       "      <td>country</td>\n",
       "      <td>2022</td>\n",
       "      <td>1</td>\n",
       "      <td>[Bridge]</td>\n",
       "      <td>Oh, if you wanna help me out\\nIf you wanna let...</td>\n",
       "      <td>Normal</td>\n",
       "      <td>['wanna', 'help', 'wanna', 'let', 'easy', 'car...</td>\n",
       "      <td>home and nature</td>\n",
       "      <td>[(0, 0.027157595), (1, 0.07908834), (2, 0.0271...</td>\n",
       "      <td>0-1-2-3-3-2</td>\n",
       "      <td>[0.042666666666666665, -0.2306666666666667, -0...</td>\n",
       "      <td>Low</td>\n",
       "      <td>Low</td>\n",
       "      <td>Low</td>\n",
       "      <td>money and authority</td>\n",
       "    </tr>\n",
       "    <tr>\n",
       "      <th>5285450</th>\n",
       "      <td>Alana Springsteen</td>\n",
       "      <td>New Number</td>\n",
       "      <td>country</td>\n",
       "      <td>2022</td>\n",
       "      <td>1</td>\n",
       "      <td>[Verse 3]</td>\n",
       "      <td>You need a new number, one that I don't know\\n...</td>\n",
       "      <td>Normal</td>\n",
       "      <td>['need', 'new', 'number', 'one', 'know', 'keep...</td>\n",
       "      <td>home and nature</td>\n",
       "      <td>[(0, 0.086214885), (1, 0.20911245), (2, 0.0190...</td>\n",
       "      <td>0-0-1-2</td>\n",
       "      <td>[0.11, -0.19438095238095238, -0.13552380952380...</td>\n",
       "      <td>Medium</td>\n",
       "      <td>Low</td>\n",
       "      <td>Low</td>\n",
       "      <td>money and authority</td>\n",
       "    </tr>\n",
       "  </tbody>\n",
       "</table>\n",
       "<p>5285451 rows × 17 columns</p>\n",
       "</div>"
      ],
      "text/plain": [
       "                    artist              title      tag  year   views  \\\n",
       "0                    JAY-Z         Can I Live      rap  1996  468624   \n",
       "1                    JAY-Z         Can I Live      rap  1996  468624   \n",
       "2                    JAY-Z         Can I Live      rap  1996  468624   \n",
       "3                    JAY-Z         Can I Live      rap  1996  468624   \n",
       "4                 Fabolous  Forgive Me Father      rap  2003    4743   \n",
       "...                    ...                ...      ...   ...     ...   \n",
       "5285446  Alana Springsteen         New Number  country  2022       1   \n",
       "5285447  Alana Springsteen         New Number  country  2022       1   \n",
       "5285448  Alana Springsteen         New Number  country  2022       1   \n",
       "5285449  Alana Springsteen         New Number  country  2022       1   \n",
       "5285450  Alana Springsteen         New Number  country  2022       1   \n",
       "\n",
       "              part                                             lyrics  \\\n",
       "0        [Verse 1]  While I'm watchin' every nigga watchin' me clo...   \n",
       "1         [Chorus]           Ge-ge-geyeahhh\\nCan I live?\\nCan I live?   \n",
       "2        [Verse 2]  My mind is infested with sick thoughts that ci...   \n",
       "3         [Chorus]  Can I live?\\nCan I live?\\nCan I live?\\nCan I l...   \n",
       "4           [Hook]  Forgive me father for I have sinned\\nBut look ...   \n",
       "...            ...                                                ...   \n",
       "5285446   [Chorus]  One that I ain't dial at least a couple thousa...   \n",
       "5285447  [Verse 2]  You need a new number and you can't get it fas...   \n",
       "5285448   [Chorus]  One that I ain't dial at least a couple thousa...   \n",
       "5285449   [Bridge]  Oh, if you wanna help me out\\nIf you wanna let...   \n",
       "5285450  [Verse 3]  You need a new number, one that I don't know\\n...   \n",
       "\n",
       "             explicitness                tokenized, lemmatized, no bad words  \\\n",
       "0        Explicit content  ['watchin', 'every', 'watchin', 'closely', 'bu...   \n",
       "1                  Normal                       ['geyeahhh', 'live', 'live']   \n",
       "2                  Normal  ['mind', 'infested', 'sick', 'thought', 'circl...   \n",
       "3                  Normal                   ['live', 'live', 'live', 'live']   \n",
       "4        Explicit content  ['forgive', 'father', 'sinned', 'look', 'money...   \n",
       "...                   ...                                                ...   \n",
       "5285446            Normal  ['one', 'dial', 'least', 'couple', 'thousand',...   \n",
       "5285447            Normal  ['need', 'new', 'number', 'fast', 'enough', 'c...   \n",
       "5285448            Normal  ['one', 'dial', 'least', 'couple', 'thousand',...   \n",
       "5285449            Normal  ['wanna', 'help', 'wanna', 'let', 'easy', 'car...   \n",
       "5285450            Normal  ['need', 'new', 'number', 'one', 'know', 'keep...   \n",
       "\n",
       "             predicted_topics  \\\n",
       "0        wealth and authority   \n",
       "1                    violence   \n",
       "2        wealth and authority   \n",
       "3                    violence   \n",
       "4                    violence   \n",
       "...                       ...   \n",
       "5285446              violence   \n",
       "5285447       home and nature   \n",
       "5285448              violence   \n",
       "5285449       home and nature   \n",
       "5285450       home and nature   \n",
       "\n",
       "                                             topic vectors  \\\n",
       "0        [(0, 0.113372415), (1, 0.39564058), (2, 0.0583...   \n",
       "1        [(0, 0.05250941), (1, 0.1470429), (2, 0.052438...   \n",
       "2        [(0, 0.10937761), (1, 0.3868071), (2, 0.050701...   \n",
       "3        [(0, 0.044248056), (1, 0.12390851), (2, 0.0441...   \n",
       "4        [(0, 0.05578675), (1, 0.19629966), (2, 0.09306...   \n",
       "...                                                    ...   \n",
       "5285446  [(0, 0.02372636), (1, 0.1153468), (2, 0.023694...   \n",
       "5285447  [(0, 0.17068717), (1, 0.13369475), (2, 0.02103...   \n",
       "5285448  [(0, 0.021061467), (1, 0.15476061), (2, 0.0210...   \n",
       "5285449  [(0, 0.027157595), (1, 0.07908834), (2, 0.0271...   \n",
       "5285450  [(0, 0.086214885), (1, 0.20911245), (2, 0.0190...   \n",
       "\n",
       "                                                   schemes  \\\n",
       "0        0-0-0-0-1-1-0-2-0-3-4-5-0-6-7-8-7-9-7-5-5-10-1...   \n",
       "1                                                    0-1-2   \n",
       "2                        0-1-1-1-2-3-4-5-5-6-6-1-1-1-7-7-8   \n",
       "3                                                  0-1-2-3   \n",
       "4                                          0-0-0-0-1-0-0-0   \n",
       "...                                                    ...   \n",
       "5285446                                          0-1-0-2-3   \n",
       "5285447                                            0-0-1-2   \n",
       "5285448                                    0-1-0-2-3-2-4-5   \n",
       "5285449                                        0-1-2-3-3-2   \n",
       "5285450                                            0-0-1-2   \n",
       "\n",
       "                                     affect majority score Valence Arousal  \\\n",
       "0        [0.15460162601626018, -0.05027642276422763, 0....  Medium  Medium   \n",
       "1                      [0.542, 0.032999999999999974, 0.13]    High    High   \n",
       "2        [0.11377142857142858, -0.06905714285714284, 0....  Medium  Medium   \n",
       "3         [0.5419999999999999, 0.032999999999999974, 0.13]    High    High   \n",
       "4        [0.2957894736842104, -0.10726315789473684, 0.0...    High  Medium   \n",
       "...                                                    ...     ...     ...   \n",
       "5285446  [0.21057142857142855, -0.2071428571428571, -0....  Medium     Low   \n",
       "5285447  [0.3163076923076923, -0.09276923076923077, 0.0...    High  Medium   \n",
       "5285448  [0.2125882352941176, -0.19470588235294115, -0....  Medium     Low   \n",
       "5285449  [0.042666666666666665, -0.2306666666666667, -0...     Low     Low   \n",
       "5285450  [0.11, -0.19438095238095238, -0.13552380952380...  Medium     Low   \n",
       "\n",
       "        Dominance                   topic  \n",
       "0          Medium                 general  \n",
       "1            High  life and relationships  \n",
       "2            High                 general  \n",
       "3            High  life and relationships  \n",
       "4            High  life and relationships  \n",
       "...           ...                     ...  \n",
       "5285446       Low     money and authority  \n",
       "5285447    Medium     money and authority  \n",
       "5285448       Low     money and authority  \n",
       "5285449       Low     money and authority  \n",
       "5285450       Low     money and authority  \n",
       "\n",
       "[5285451 rows x 17 columns]"
      ]
     },
     "execution_count": 157,
     "metadata": {},
     "output_type": "execute_result"
    }
   ],
   "source": [
    "lyrics"
   ]
  },
  {
   "cell_type": "code",
   "execution_count": 158,
   "id": "245b5c3a-7461-4de9-96cc-8511c801a984",
   "metadata": {},
   "outputs": [],
   "source": [
    "lyrics = lyrics.drop(['topic vectors', 'affect majority score', 'tokenized, lemmatized, no bad words'], axis=1)\n",
    "# or with inplace=True\n",
    "\n"
   ]
  },
  {
   "cell_type": "code",
   "execution_count": 160,
   "id": "73ebc278-8102-4ab2-849a-78211697b55c",
   "metadata": {},
   "outputs": [],
   "source": [
    "lyrics.to_csv('song_lyrics_affected.csv')"
   ]
  },
  {
   "cell_type": "markdown",
   "source": [
    "## should the data be normalized with the general poplulation values, or with the sample minimum and range?"
   ],
   "metadata": {
    "collapsed": false
   }
  },
  {
   "cell_type": "code",
   "execution_count": null,
   "outputs": [],
   "source": [],
   "metadata": {
    "collapsed": false
   }
  }
 ],
 "metadata": {
  "kernelspec": {
   "display_name": "Python",
   "language": "python",
   "name": "python3"
  },
  "language_info": {
   "codemirror_mode": {
    "name": "ipython",
    "version": 3
   },
   "file_extension": ".py",
   "mimetype": "text/x-python",
   "name": "python",
   "nbconvert_exporter": "python",
   "pygments_lexer": "ipython3",
   "version": "3.8.10"
  }
 },
 "nbformat": 4,
 "nbformat_minor": 5
}
